{
  "nbformat": 4,
  "nbformat_minor": 0,
  "metadata": {
    "colab": {
      "name": "TitanicKaggle_ModelBuild.ipynb",
      "provenance": [],
      "collapsed_sections": [],
      "toc_visible": true
    },
    "kernelspec": {
      "name": "python3",
      "display_name": "Python 3"
    }
  },
  "cells": [
    {
      "cell_type": "code",
      "metadata": {
        "id": "r8x-VqGn7bLw",
        "colab_type": "code",
        "colab": {}
      },
      "source": [
        "import pandas as pd\n",
        "train=pd.read_csv('/content/drive/My Drive/Colab Notebooks/Competitions/Titanic Kaggle/train_clean.csv')"
      ],
      "execution_count": 1,
      "outputs": []
    },
    {
      "cell_type": "code",
      "metadata": {
        "id": "28XXg7x8Q2yC",
        "colab_type": "code",
        "colab": {
          "base_uri": "https://localhost:8080/",
          "height": 70
        },
        "outputId": "5b277aa5-dd34-4ebe-eb43-63e5438a4396"
      },
      "source": [
        "import seaborn as sns \n",
        "import matplotlib.pyplot as plt"
      ],
      "execution_count": 2,
      "outputs": [
        {
          "output_type": "stream",
          "text": [
            "/usr/local/lib/python3.6/dist-packages/statsmodels/tools/_testing.py:19: FutureWarning: pandas.util.testing is deprecated. Use the functions in the public API at pandas.testing instead.\n",
            "  import pandas.util.testing as tm\n"
          ],
          "name": "stderr"
        }
      ]
    },
    {
      "cell_type": "code",
      "metadata": {
        "id": "0Dz3jNduhNpO",
        "colab_type": "code",
        "colab": {
          "base_uri": "https://localhost:8080/",
          "height": 484
        },
        "outputId": "7881cc77-a933-4500-c71f-793f990f1b7b"
      },
      "source": [
        "train.head()"
      ],
      "execution_count": 3,
      "outputs": [
        {
          "output_type": "execute_result",
          "data": {
            "text/html": [
              "<div>\n",
              "<style scoped>\n",
              "    .dataframe tbody tr th:only-of-type {\n",
              "        vertical-align: middle;\n",
              "    }\n",
              "\n",
              "    .dataframe tbody tr th {\n",
              "        vertical-align: top;\n",
              "    }\n",
              "\n",
              "    .dataframe thead th {\n",
              "        text-align: right;\n",
              "    }\n",
              "</style>\n",
              "<table border=\"1\" class=\"dataframe\">\n",
              "  <thead>\n",
              "    <tr style=\"text-align: right;\">\n",
              "      <th></th>\n",
              "      <th>PassengerId</th>\n",
              "      <th>Survived</th>\n",
              "      <th>Name</th>\n",
              "      <th>Age</th>\n",
              "      <th>SibSp</th>\n",
              "      <th>Parch</th>\n",
              "      <th>Ticket</th>\n",
              "      <th>Fare</th>\n",
              "      <th>Family_Size</th>\n",
              "      <th>Superior_Cabins</th>\n",
              "      <th>male</th>\n",
              "      <th>2</th>\n",
              "      <th>3</th>\n",
              "      <th>Q</th>\n",
              "      <th>S</th>\n",
              "      <th>Miss</th>\n",
              "      <th>Mr</th>\n",
              "      <th>Mrs</th>\n",
              "      <th>Other</th>\n",
              "      <th>B</th>\n",
              "      <th>C</th>\n",
              "      <th>D</th>\n",
              "      <th>E</th>\n",
              "      <th>F</th>\n",
              "      <th>G</th>\n",
              "      <th>T</th>\n",
              "      <th>U</th>\n",
              "    </tr>\n",
              "  </thead>\n",
              "  <tbody>\n",
              "    <tr>\n",
              "      <th>0</th>\n",
              "      <td>1</td>\n",
              "      <td>0</td>\n",
              "      <td>Braund, Mr. Owen Harris</td>\n",
              "      <td>22.0</td>\n",
              "      <td>1</td>\n",
              "      <td>0</td>\n",
              "      <td>A/5 21171</td>\n",
              "      <td>7.2500</td>\n",
              "      <td>2</td>\n",
              "      <td>0</td>\n",
              "      <td>1</td>\n",
              "      <td>0</td>\n",
              "      <td>1</td>\n",
              "      <td>0</td>\n",
              "      <td>1</td>\n",
              "      <td>0</td>\n",
              "      <td>1</td>\n",
              "      <td>0</td>\n",
              "      <td>0</td>\n",
              "      <td>0</td>\n",
              "      <td>0</td>\n",
              "      <td>0</td>\n",
              "      <td>0</td>\n",
              "      <td>0</td>\n",
              "      <td>0</td>\n",
              "      <td>0</td>\n",
              "      <td>1</td>\n",
              "    </tr>\n",
              "    <tr>\n",
              "      <th>1</th>\n",
              "      <td>2</td>\n",
              "      <td>1</td>\n",
              "      <td>Cumings, Mrs. John Bradley (Florence Briggs Th...</td>\n",
              "      <td>38.0</td>\n",
              "      <td>1</td>\n",
              "      <td>0</td>\n",
              "      <td>PC 17599</td>\n",
              "      <td>71.2833</td>\n",
              "      <td>2</td>\n",
              "      <td>1</td>\n",
              "      <td>0</td>\n",
              "      <td>0</td>\n",
              "      <td>0</td>\n",
              "      <td>0</td>\n",
              "      <td>0</td>\n",
              "      <td>0</td>\n",
              "      <td>0</td>\n",
              "      <td>1</td>\n",
              "      <td>0</td>\n",
              "      <td>0</td>\n",
              "      <td>1</td>\n",
              "      <td>0</td>\n",
              "      <td>0</td>\n",
              "      <td>0</td>\n",
              "      <td>0</td>\n",
              "      <td>0</td>\n",
              "      <td>0</td>\n",
              "    </tr>\n",
              "    <tr>\n",
              "      <th>2</th>\n",
              "      <td>3</td>\n",
              "      <td>1</td>\n",
              "      <td>Heikkinen, Miss. Laina</td>\n",
              "      <td>26.0</td>\n",
              "      <td>0</td>\n",
              "      <td>0</td>\n",
              "      <td>STON/O2. 3101282</td>\n",
              "      <td>7.9250</td>\n",
              "      <td>1</td>\n",
              "      <td>0</td>\n",
              "      <td>0</td>\n",
              "      <td>0</td>\n",
              "      <td>1</td>\n",
              "      <td>0</td>\n",
              "      <td>1</td>\n",
              "      <td>1</td>\n",
              "      <td>0</td>\n",
              "      <td>0</td>\n",
              "      <td>0</td>\n",
              "      <td>0</td>\n",
              "      <td>0</td>\n",
              "      <td>0</td>\n",
              "      <td>0</td>\n",
              "      <td>0</td>\n",
              "      <td>0</td>\n",
              "      <td>0</td>\n",
              "      <td>1</td>\n",
              "    </tr>\n",
              "    <tr>\n",
              "      <th>3</th>\n",
              "      <td>4</td>\n",
              "      <td>1</td>\n",
              "      <td>Futrelle, Mrs. Jacques Heath (Lily May Peel)</td>\n",
              "      <td>35.0</td>\n",
              "      <td>1</td>\n",
              "      <td>0</td>\n",
              "      <td>113803</td>\n",
              "      <td>53.1000</td>\n",
              "      <td>2</td>\n",
              "      <td>1</td>\n",
              "      <td>0</td>\n",
              "      <td>0</td>\n",
              "      <td>0</td>\n",
              "      <td>0</td>\n",
              "      <td>1</td>\n",
              "      <td>0</td>\n",
              "      <td>0</td>\n",
              "      <td>1</td>\n",
              "      <td>0</td>\n",
              "      <td>0</td>\n",
              "      <td>1</td>\n",
              "      <td>0</td>\n",
              "      <td>0</td>\n",
              "      <td>0</td>\n",
              "      <td>0</td>\n",
              "      <td>0</td>\n",
              "      <td>0</td>\n",
              "    </tr>\n",
              "    <tr>\n",
              "      <th>4</th>\n",
              "      <td>5</td>\n",
              "      <td>0</td>\n",
              "      <td>Allen, Mr. William Henry</td>\n",
              "      <td>35.0</td>\n",
              "      <td>0</td>\n",
              "      <td>0</td>\n",
              "      <td>373450</td>\n",
              "      <td>8.0500</td>\n",
              "      <td>1</td>\n",
              "      <td>0</td>\n",
              "      <td>1</td>\n",
              "      <td>0</td>\n",
              "      <td>1</td>\n",
              "      <td>0</td>\n",
              "      <td>1</td>\n",
              "      <td>0</td>\n",
              "      <td>1</td>\n",
              "      <td>0</td>\n",
              "      <td>0</td>\n",
              "      <td>0</td>\n",
              "      <td>0</td>\n",
              "      <td>0</td>\n",
              "      <td>0</td>\n",
              "      <td>0</td>\n",
              "      <td>0</td>\n",
              "      <td>0</td>\n",
              "      <td>1</td>\n",
              "    </tr>\n",
              "  </tbody>\n",
              "</table>\n",
              "</div>"
            ],
            "text/plain": [
              "   PassengerId  Survived  ...  T  U\n",
              "0            1         0  ...  0  1\n",
              "1            2         1  ...  0  0\n",
              "2            3         1  ...  0  1\n",
              "3            4         1  ...  0  0\n",
              "4            5         0  ...  0  1\n",
              "\n",
              "[5 rows x 27 columns]"
            ]
          },
          "metadata": {
            "tags": []
          },
          "execution_count": 3
        }
      ]
    },
    {
      "cell_type": "code",
      "metadata": {
        "id": "qmixc5zphShQ",
        "colab_type": "code",
        "colab": {}
      },
      "source": [
        "passenger_details=train[['Name','Ticket','PassengerId']]\n",
        "train.drop(['Name','Ticket','PassengerId'],axis=1,inplace=True)"
      ],
      "execution_count": 6,
      "outputs": []
    },
    {
      "cell_type": "code",
      "metadata": {
        "id": "V1Ybm3utRwhO",
        "colab_type": "code",
        "colab": {
          "base_uri": "https://localhost:8080/",
          "height": 195
        },
        "outputId": "09aeb7ed-164a-41dd-bdd9-daa33a5932a3"
      },
      "source": [
        "train.head()"
      ],
      "execution_count": 7,
      "outputs": [
        {
          "output_type": "execute_result",
          "data": {
            "text/html": [
              "<div>\n",
              "<style scoped>\n",
              "    .dataframe tbody tr th:only-of-type {\n",
              "        vertical-align: middle;\n",
              "    }\n",
              "\n",
              "    .dataframe tbody tr th {\n",
              "        vertical-align: top;\n",
              "    }\n",
              "\n",
              "    .dataframe thead th {\n",
              "        text-align: right;\n",
              "    }\n",
              "</style>\n",
              "<table border=\"1\" class=\"dataframe\">\n",
              "  <thead>\n",
              "    <tr style=\"text-align: right;\">\n",
              "      <th></th>\n",
              "      <th>Survived</th>\n",
              "      <th>Age</th>\n",
              "      <th>SibSp</th>\n",
              "      <th>Parch</th>\n",
              "      <th>Fare</th>\n",
              "      <th>Family_Size</th>\n",
              "      <th>Superior_Cabins</th>\n",
              "      <th>male</th>\n",
              "      <th>2</th>\n",
              "      <th>3</th>\n",
              "      <th>Q</th>\n",
              "      <th>S</th>\n",
              "      <th>Miss</th>\n",
              "      <th>Mr</th>\n",
              "      <th>Mrs</th>\n",
              "      <th>Other</th>\n",
              "      <th>B</th>\n",
              "      <th>C</th>\n",
              "      <th>D</th>\n",
              "      <th>E</th>\n",
              "      <th>F</th>\n",
              "      <th>G</th>\n",
              "      <th>T</th>\n",
              "      <th>U</th>\n",
              "    </tr>\n",
              "  </thead>\n",
              "  <tbody>\n",
              "    <tr>\n",
              "      <th>0</th>\n",
              "      <td>0</td>\n",
              "      <td>22.0</td>\n",
              "      <td>1</td>\n",
              "      <td>0</td>\n",
              "      <td>7.2500</td>\n",
              "      <td>2</td>\n",
              "      <td>0</td>\n",
              "      <td>1</td>\n",
              "      <td>0</td>\n",
              "      <td>1</td>\n",
              "      <td>0</td>\n",
              "      <td>1</td>\n",
              "      <td>0</td>\n",
              "      <td>1</td>\n",
              "      <td>0</td>\n",
              "      <td>0</td>\n",
              "      <td>0</td>\n",
              "      <td>0</td>\n",
              "      <td>0</td>\n",
              "      <td>0</td>\n",
              "      <td>0</td>\n",
              "      <td>0</td>\n",
              "      <td>0</td>\n",
              "      <td>1</td>\n",
              "    </tr>\n",
              "    <tr>\n",
              "      <th>1</th>\n",
              "      <td>1</td>\n",
              "      <td>38.0</td>\n",
              "      <td>1</td>\n",
              "      <td>0</td>\n",
              "      <td>71.2833</td>\n",
              "      <td>2</td>\n",
              "      <td>1</td>\n",
              "      <td>0</td>\n",
              "      <td>0</td>\n",
              "      <td>0</td>\n",
              "      <td>0</td>\n",
              "      <td>0</td>\n",
              "      <td>0</td>\n",
              "      <td>0</td>\n",
              "      <td>1</td>\n",
              "      <td>0</td>\n",
              "      <td>0</td>\n",
              "      <td>1</td>\n",
              "      <td>0</td>\n",
              "      <td>0</td>\n",
              "      <td>0</td>\n",
              "      <td>0</td>\n",
              "      <td>0</td>\n",
              "      <td>0</td>\n",
              "    </tr>\n",
              "    <tr>\n",
              "      <th>2</th>\n",
              "      <td>1</td>\n",
              "      <td>26.0</td>\n",
              "      <td>0</td>\n",
              "      <td>0</td>\n",
              "      <td>7.9250</td>\n",
              "      <td>1</td>\n",
              "      <td>0</td>\n",
              "      <td>0</td>\n",
              "      <td>0</td>\n",
              "      <td>1</td>\n",
              "      <td>0</td>\n",
              "      <td>1</td>\n",
              "      <td>1</td>\n",
              "      <td>0</td>\n",
              "      <td>0</td>\n",
              "      <td>0</td>\n",
              "      <td>0</td>\n",
              "      <td>0</td>\n",
              "      <td>0</td>\n",
              "      <td>0</td>\n",
              "      <td>0</td>\n",
              "      <td>0</td>\n",
              "      <td>0</td>\n",
              "      <td>1</td>\n",
              "    </tr>\n",
              "    <tr>\n",
              "      <th>3</th>\n",
              "      <td>1</td>\n",
              "      <td>35.0</td>\n",
              "      <td>1</td>\n",
              "      <td>0</td>\n",
              "      <td>53.1000</td>\n",
              "      <td>2</td>\n",
              "      <td>1</td>\n",
              "      <td>0</td>\n",
              "      <td>0</td>\n",
              "      <td>0</td>\n",
              "      <td>0</td>\n",
              "      <td>1</td>\n",
              "      <td>0</td>\n",
              "      <td>0</td>\n",
              "      <td>1</td>\n",
              "      <td>0</td>\n",
              "      <td>0</td>\n",
              "      <td>1</td>\n",
              "      <td>0</td>\n",
              "      <td>0</td>\n",
              "      <td>0</td>\n",
              "      <td>0</td>\n",
              "      <td>0</td>\n",
              "      <td>0</td>\n",
              "    </tr>\n",
              "    <tr>\n",
              "      <th>4</th>\n",
              "      <td>0</td>\n",
              "      <td>35.0</td>\n",
              "      <td>0</td>\n",
              "      <td>0</td>\n",
              "      <td>8.0500</td>\n",
              "      <td>1</td>\n",
              "      <td>0</td>\n",
              "      <td>1</td>\n",
              "      <td>0</td>\n",
              "      <td>1</td>\n",
              "      <td>0</td>\n",
              "      <td>1</td>\n",
              "      <td>0</td>\n",
              "      <td>1</td>\n",
              "      <td>0</td>\n",
              "      <td>0</td>\n",
              "      <td>0</td>\n",
              "      <td>0</td>\n",
              "      <td>0</td>\n",
              "      <td>0</td>\n",
              "      <td>0</td>\n",
              "      <td>0</td>\n",
              "      <td>0</td>\n",
              "      <td>1</td>\n",
              "    </tr>\n",
              "  </tbody>\n",
              "</table>\n",
              "</div>"
            ],
            "text/plain": [
              "   Survived   Age  SibSp  Parch     Fare  Family_Size  ...  D  E  F  G  T  U\n",
              "0         0  22.0      1      0   7.2500            2  ...  0  0  0  0  0  1\n",
              "1         1  38.0      1      0  71.2833            2  ...  0  0  0  0  0  0\n",
              "2         1  26.0      0      0   7.9250            1  ...  0  0  0  0  0  1\n",
              "3         1  35.0      1      0  53.1000            2  ...  0  0  0  0  0  0\n",
              "4         0  35.0      0      0   8.0500            1  ...  0  0  0  0  0  1\n",
              "\n",
              "[5 rows x 24 columns]"
            ]
          },
          "metadata": {
            "tags": []
          },
          "execution_count": 7
        }
      ]
    },
    {
      "cell_type": "code",
      "metadata": {
        "id": "xlfpACYziEOJ",
        "colab_type": "code",
        "colab": {}
      },
      "source": [
        "y=train['Survived']\n",
        "x=train.drop('Survived',axis=1)"
      ],
      "execution_count": 8,
      "outputs": []
    },
    {
      "cell_type": "code",
      "metadata": {
        "id": "BKExVCJWVVut",
        "colab_type": "code",
        "colab": {
          "base_uri": "https://localhost:8080/",
          "height": 84
        },
        "outputId": "c1258528-99bf-4848-ef12-b536eba78244"
      },
      "source": [
        "x.columns"
      ],
      "execution_count": 9,
      "outputs": [
        {
          "output_type": "execute_result",
          "data": {
            "text/plain": [
              "Index(['Age', 'SibSp', 'Parch', 'Fare', 'Family_Size', 'Superior_Cabins',\n",
              "       'male', '2', '3', 'Q', 'S', 'Miss', 'Mr', 'Mrs', 'Other', 'B', 'C', 'D',\n",
              "       'E', 'F', 'G', 'T', 'U'],\n",
              "      dtype='object')"
            ]
          },
          "metadata": {
            "tags": []
          },
          "execution_count": 9
        }
      ]
    },
    {
      "cell_type": "code",
      "metadata": {
        "id": "1GjGgNprAz-Q",
        "colab_type": "code",
        "colab": {}
      },
      "source": [
        "#Selecting feautres\n",
        "features=['Age', 'SibSp', 'Parch', 'Fare', 'Family_Size', 'Superior_Cabins',\n",
        "       'male', '2', '3', 'Q', 'S', 'Miss', 'Mr', 'Mrs', 'Other', 'B', 'C', 'D',\n",
        "       'E', 'F', 'G', 'T', 'U']"
      ],
      "execution_count": 10,
      "outputs": []
    },
    {
      "cell_type": "code",
      "metadata": {
        "id": "wSAf0bRYSj7k",
        "colab_type": "code",
        "colab": {}
      },
      "source": [
        "x=train[features]"
      ],
      "execution_count": 11,
      "outputs": []
    },
    {
      "cell_type": "code",
      "metadata": {
        "id": "aLpggA4hJAKv",
        "colab_type": "code",
        "colab": {}
      },
      "source": [
        "from sklearn.model_selection import train_test_split\n",
        "x_train,x_valid,y_train,y_valid=train_test_split(x,y,test_size=0.1,random_state=123)"
      ],
      "execution_count": 12,
      "outputs": []
    },
    {
      "cell_type": "code",
      "metadata": {
        "id": "wcbEzN-EWzo_",
        "colab_type": "code",
        "colab": {}
      },
      "source": [
        "from sklearn.preprocessing import StandardScaler\n",
        "mms=StandardScaler()\n",
        "x_scaled_train=mms.fit_transform(x_train)\n",
        "x_scaled_valid=mms.transform(x_valid)"
      ],
      "execution_count": 13,
      "outputs": []
    },
    {
      "cell_type": "code",
      "metadata": {
        "id": "eZFQ7MpMUJOT",
        "colab_type": "code",
        "colab": {}
      },
      "source": [
        "from sklearn.metrics import accuracy_score,classification_report,confusion_matrix\n",
        "from sklearn.model_selection import KFold,cross_val_score"
      ],
      "execution_count": 14,
      "outputs": []
    },
    {
      "cell_type": "code",
      "metadata": {
        "id": "xzitsH-FURKF",
        "colab_type": "code",
        "colab": {}
      },
      "source": [
        "kf5=KFold(n_splits=5)"
      ],
      "execution_count": 15,
      "outputs": []
    },
    {
      "cell_type": "code",
      "metadata": {
        "id": "CvXcmVPOWnHw",
        "colab_type": "code",
        "colab": {}
      },
      "source": [
        "from sklearn.linear_model import LogisticRegression\n",
        "from sklearn.tree import DecisionTreeClassifier\n",
        "from sklearn.ensemble import RandomForestClassifier\n",
        "from sklearn.svm import SVC\n",
        "from sklearn.neighbors import KNeighborsClassifier"
      ],
      "execution_count": 16,
      "outputs": []
    },
    {
      "cell_type": "code",
      "metadata": {
        "id": "w-OhuBTVUexi",
        "colab_type": "code",
        "colab": {}
      },
      "source": [
        "models=[]\n",
        "models.append((\"LogReg\",LogisticRegression()))\n",
        "models.append((\"DesicionTree\",DecisionTreeClassifier()))\n",
        "models.append((\"SVC\",SVC()))\n",
        "models.append((\"kNN\",KNeighborsClassifier()))\n",
        "models.append((\"RandomForest\",RandomForestClassifier()))"
      ],
      "execution_count": 17,
      "outputs": []
    },
    {
      "cell_type": "code",
      "metadata": {
        "id": "WD57LygeWkZZ",
        "colab_type": "code",
        "colab": {
          "base_uri": "https://localhost:8080/",
          "height": 269
        },
        "outputId": "b3183537-c856-42fc-d462-fc664e26e73e"
      },
      "source": [
        "names=[]\n",
        "result=[]\n",
        "scoring='accuracy'\n",
        "for name,model in models:\n",
        "  model.fit(x_scaled_train,y_train)\n",
        "  print(\"Model created:\",name, \"------>Cross Validation Error:\" ,cross_val_score(model,x_scaled_train,y_train,scoring=scoring).mean())\n",
        "  print(\"Model created:\",name, \"------>Validation Error:\" ,accuracy_score(y_valid,model.predict(x_scaled_valid)))\n",
        "  print(\"-------------------------------------------------------------------\")"
      ],
      "execution_count": 18,
      "outputs": [
        {
          "output_type": "stream",
          "text": [
            "Model created: LogReg ------>Cross Validation Error: 0.8252173913043478\n",
            "Model created: LogReg ------>Validation Error: 0.8666666666666667\n",
            "-------------------------------------------------------------------\n",
            "Model created: DesicionTree ------>Cross Validation Error: 0.7965139751552794\n",
            "Model created: DesicionTree ------>Validation Error: 0.8555555555555555\n",
            "-------------------------------------------------------------------\n",
            "Model created: SVC ------>Cross Validation Error: 0.821444099378882\n",
            "Model created: SVC ------>Validation Error: 0.8888888888888888\n",
            "-------------------------------------------------------------------\n",
            "Model created: kNN ------>Cross Validation Error: 0.8090062111801244\n",
            "Model created: kNN ------>Validation Error: 0.8333333333333334\n",
            "-------------------------------------------------------------------\n",
            "Model created: RandomForest ------>Cross Validation Error: 0.8089829192546585\n",
            "Model created: RandomForest ------>Validation Error: 0.8666666666666667\n",
            "-------------------------------------------------------------------\n"
          ],
          "name": "stdout"
        }
      ]
    },
    {
      "cell_type": "code",
      "metadata": {
        "id": "yEYCZ4qdD96V",
        "colab_type": "code",
        "colab": {}
      },
      "source": [
        "# LogReg and SVC , KNN looks to do well here \n",
        "# Lets try optimising hyperparameters"
      ],
      "execution_count": 19,
      "outputs": []
    },
    {
      "cell_type": "code",
      "metadata": {
        "id": "Wdoq6FeVEcue",
        "colab_type": "code",
        "colab": {}
      },
      "source": [
        "from sklearn.model_selection import GridSearchCV\n",
        "import numpy as np"
      ],
      "execution_count": 20,
      "outputs": []
    },
    {
      "cell_type": "markdown",
      "metadata": {
        "id": "hTBf8T4WEabi",
        "colab_type": "text"
      },
      "source": [
        "# Logistic Regression"
      ]
    },
    {
      "cell_type": "code",
      "metadata": {
        "id": "dcvYf9WLEZgh",
        "colab_type": "code",
        "colab": {}
      },
      "source": [
        "log_params={'tol':[0.01,0.001,0.0001,0.00001],\n",
        "            'max_iter':np.linspace(100,500,10),\n",
        "            'class_weight':['None','balanced']\n",
        "          }"
      ],
      "execution_count": 21,
      "outputs": []
    },
    {
      "cell_type": "code",
      "metadata": {
        "id": "x2YZWl0OFgAJ",
        "colab_type": "code",
        "colab": {}
      },
      "source": [
        "grid_log=GridSearchCV(estimator=LogisticRegression(n_jobs=-1),\n",
        "                          param_grid=log_params)"
      ],
      "execution_count": 22,
      "outputs": []
    },
    {
      "cell_type": "code",
      "metadata": {
        "id": "8ufcFQTzGDS-",
        "colab_type": "code",
        "colab": {
          "base_uri": "https://localhost:8080/",
          "height": 302
        },
        "outputId": "eec9a9ef-29f5-42cb-93c7-1b8f07d71fc9"
      },
      "source": [
        "grid_log.fit(x_scaled_train,y_train)"
      ],
      "execution_count": 23,
      "outputs": [
        {
          "output_type": "execute_result",
          "data": {
            "text/plain": [
              "GridSearchCV(cv=None, error_score=nan,\n",
              "             estimator=LogisticRegression(C=1.0, class_weight=None, dual=False,\n",
              "                                          fit_intercept=True,\n",
              "                                          intercept_scaling=1, l1_ratio=None,\n",
              "                                          max_iter=100, multi_class='auto',\n",
              "                                          n_jobs=-1, penalty='l2',\n",
              "                                          random_state=None, solver='lbfgs',\n",
              "                                          tol=0.0001, verbose=0,\n",
              "                                          warm_start=False),\n",
              "             iid='deprecated', n_jobs=None,\n",
              "             param_grid={'class_weight': ['None', 'balanced'],\n",
              "                         'max_iter': array([100.        , 144.44444444, 188.88888889, 233.33333333,\n",
              "       277.77777778, 322.22222222, 366.66666667, 411.11111111,\n",
              "       455.55555556, 500.        ]),\n",
              "                         'tol': [0.01, 0.001, 0.0001, 1e-05]},\n",
              "             pre_dispatch='2*n_jobs', refit=True, return_train_score=False,\n",
              "             scoring=None, verbose=0)"
            ]
          },
          "metadata": {
            "tags": []
          },
          "execution_count": 23
        }
      ]
    },
    {
      "cell_type": "code",
      "metadata": {
        "id": "9Dskfa87GHAs",
        "colab_type": "code",
        "colab": {
          "base_uri": "https://localhost:8080/",
          "height": 101
        },
        "outputId": "6d33af61-2341-4b6a-cbb0-6e085a03b653"
      },
      "source": [
        "grid_log.best_estimator_"
      ],
      "execution_count": 24,
      "outputs": [
        {
          "output_type": "execute_result",
          "data": {
            "text/plain": [
              "LogisticRegression(C=1.0, class_weight='None', dual=False, fit_intercept=True,\n",
              "                   intercept_scaling=1, l1_ratio=None, max_iter=100.0,\n",
              "                   multi_class='auto', n_jobs=-1, penalty='l2',\n",
              "                   random_state=None, solver='lbfgs', tol=0.01, verbose=0,\n",
              "                   warm_start=False)"
            ]
          },
          "metadata": {
            "tags": []
          },
          "execution_count": 24
        }
      ]
    },
    {
      "cell_type": "code",
      "metadata": {
        "id": "7HD6LOqoGPQO",
        "colab_type": "code",
        "colab": {
          "base_uri": "https://localhost:8080/",
          "height": 34
        },
        "outputId": "e942a600-0529-4252-8317-1742e957f58a"
      },
      "source": [
        "grid_log.best_score_"
      ],
      "execution_count": 25,
      "outputs": [
        {
          "output_type": "execute_result",
          "data": {
            "text/plain": [
              "0.8252173913043478"
            ]
          },
          "metadata": {
            "tags": []
          },
          "execution_count": 25
        }
      ]
    },
    {
      "cell_type": "code",
      "metadata": {
        "id": "f3WEa0wKFYgl",
        "colab_type": "code",
        "colab": {
          "base_uri": "https://localhost:8080/",
          "height": 168
        },
        "outputId": "6a7b58e3-3a53-404e-a7ab-3ba0936d0d64"
      },
      "source": [
        "print(classification_report(y_valid,grid_log.predict(x_scaled_valid)))"
      ],
      "execution_count": 26,
      "outputs": [
        {
          "output_type": "stream",
          "text": [
            "              precision    recall  f1-score   support\n",
            "\n",
            "           0       0.92      0.89      0.90        62\n",
            "           1       0.77      0.82      0.79        28\n",
            "\n",
            "    accuracy                           0.87        90\n",
            "   macro avg       0.84      0.85      0.85        90\n",
            "weighted avg       0.87      0.87      0.87        90\n",
            "\n"
          ],
          "name": "stdout"
        }
      ]
    },
    {
      "cell_type": "code",
      "metadata": {
        "id": "fAkZh3bqRMFb",
        "colab_type": "code",
        "colab": {
          "base_uri": "https://localhost:8080/",
          "height": 279
        },
        "outputId": "68f5b94e-b9a6-4b64-f81b-b68d5a742aac"
      },
      "source": [
        "sns.heatmap(confusion_matrix(y_valid,grid_log.predict(x_scaled_valid)),annot=True,center=True)\n",
        "plt.xlabel('Actual Values')\n",
        "plt.ylabel('Predicted Values')\n",
        "plt.show()"
      ],
      "execution_count": 27,
      "outputs": [
        {
          "output_type": "display_data",
          "data": {
            "image/png": "[encoded data removed]",
            "text/plain": [
              "<Figure size 432x288 with 2 Axes>"
            ]
          },
          "metadata": {
            "tags": [],
            "needs_background": "light"
          }
        }
      ]
    },
    {
      "cell_type": "code",
      "metadata": {
        "id": "zl-MbPPfFYm3",
        "colab_type": "code",
        "colab": {
          "base_uri": "https://localhost:8080/",
          "height": 34
        },
        "outputId": "5cc9d733-3659-487e-e92b-18d45b574a73"
      },
      "source": [
        "print(accuracy_score(y_valid,grid_log.predict(x_scaled_valid)))"
      ],
      "execution_count": 28,
      "outputs": [
        {
          "output_type": "stream",
          "text": [
            "0.8666666666666667\n"
          ],
          "name": "stdout"
        }
      ]
    },
    {
      "cell_type": "markdown",
      "metadata": {
        "id": "WC0-8ELVPNTK",
        "colab_type": "text"
      },
      "source": [
        "# KNN Model"
      ]
    },
    {
      "cell_type": "code",
      "metadata": {
        "id": "8wpf700_MBc8",
        "colab_type": "code",
        "colab": {}
      },
      "source": [
        "knn_params={'n_neighbors':[5,10,15,40],\n",
        "            'algorithm':['auto', 'ball_tree', 'kd_tree', 'brute'],\n",
        "            'weights':['uniform', 'distance'],\n",
        "            'metric' :['euclidean', 'manhattan', 'minkowski'],\n",
        "            'leaf_size':[20,30,40,50],\n",
        "            }"
      ],
      "execution_count": 29,
      "outputs": []
    },
    {
      "cell_type": "code",
      "metadata": {
        "id": "roD_Pfn1PTaT",
        "colab_type": "code",
        "colab": {}
      },
      "source": [
        "grid_knn=GridSearchCV(KNeighborsClassifier(),knn_params)"
      ],
      "execution_count": 30,
      "outputs": []
    },
    {
      "cell_type": "code",
      "metadata": {
        "id": "YNgFDPIPP3br",
        "colab_type": "code",
        "colab": {
          "base_uri": "https://localhost:8080/",
          "height": 252
        },
        "outputId": "8a56a2b3-e7eb-4376-8380-c6d5ea1d2e88"
      },
      "source": [
        "grid_knn.fit(x_scaled_train,y_train)"
      ],
      "execution_count": 31,
      "outputs": [
        {
          "output_type": "execute_result",
          "data": {
            "text/plain": [
              "GridSearchCV(cv=None, error_score=nan,\n",
              "             estimator=KNeighborsClassifier(algorithm='auto', leaf_size=30,\n",
              "                                            metric='minkowski',\n",
              "                                            metric_params=None, n_jobs=None,\n",
              "                                            n_neighbors=5, p=2,\n",
              "                                            weights='uniform'),\n",
              "             iid='deprecated', n_jobs=None,\n",
              "             param_grid={'algorithm': ['auto', 'ball_tree', 'kd_tree', 'brute'],\n",
              "                         'leaf_size': [20, 30, 40, 50],\n",
              "                         'metric': ['euclidean', 'manhattan', 'minkowski'],\n",
              "                         'n_neighbors': [5, 10, 15, 40],\n",
              "                         'weights': ['uniform', 'distance']},\n",
              "             pre_dispatch='2*n_jobs', refit=True, return_train_score=False,\n",
              "             scoring=None, verbose=0)"
            ]
          },
          "metadata": {
            "tags": []
          },
          "execution_count": 31
        }
      ]
    },
    {
      "cell_type": "code",
      "metadata": {
        "id": "F8avymbyP52O",
        "colab_type": "code",
        "colab": {
          "base_uri": "https://localhost:8080/",
          "height": 67
        },
        "outputId": "4e91e705-81ef-4e26-829f-feb0091cdb16"
      },
      "source": [
        "grid_knn.best_estimator_"
      ],
      "execution_count": 32,
      "outputs": [
        {
          "output_type": "execute_result",
          "data": {
            "text/plain": [
              "KNeighborsClassifier(algorithm='auto', leaf_size=20, metric='manhattan',\n",
              "                     metric_params=None, n_jobs=None, n_neighbors=15, p=2,\n",
              "                     weights='distance')"
            ]
          },
          "metadata": {
            "tags": []
          },
          "execution_count": 32
        }
      ]
    },
    {
      "cell_type": "code",
      "metadata": {
        "id": "kdvh3R_AP9Mk",
        "colab_type": "code",
        "colab": {
          "base_uri": "https://localhost:8080/",
          "height": 34
        },
        "outputId": "493b4157-f775-44b5-c4fc-935d6534e6da"
      },
      "source": [
        "grid_knn.best_score_"
      ],
      "execution_count": 33,
      "outputs": [
        {
          "output_type": "execute_result",
          "data": {
            "text/plain": [
              "0.8177096273291925"
            ]
          },
          "metadata": {
            "tags": []
          },
          "execution_count": 33
        }
      ]
    },
    {
      "cell_type": "code",
      "metadata": {
        "id": "JYGATYS0QA7B",
        "colab_type": "code",
        "colab": {
          "base_uri": "https://localhost:8080/",
          "height": 168
        },
        "outputId": "78604f40-e901-47f0-e9c3-f11ef089f3d7"
      },
      "source": [
        "print(classification_report(y_valid,grid_knn.predict(x_scaled_valid)))"
      ],
      "execution_count": 34,
      "outputs": [
        {
          "output_type": "stream",
          "text": [
            "              precision    recall  f1-score   support\n",
            "\n",
            "           0       0.92      0.87      0.89        62\n",
            "           1       0.74      0.82      0.78        28\n",
            "\n",
            "    accuracy                           0.86        90\n",
            "   macro avg       0.83      0.85      0.84        90\n",
            "weighted avg       0.86      0.86      0.86        90\n",
            "\n"
          ],
          "name": "stdout"
        }
      ]
    },
    {
      "cell_type": "code",
      "metadata": {
        "id": "WvfowY7cGXzS",
        "colab_type": "code",
        "colab": {
          "base_uri": "https://localhost:8080/",
          "height": 34
        },
        "outputId": "caf5dc9b-b2fe-4539-8ab7-cc8b030ac34d"
      },
      "source": [
        "print(accuracy_score(y_valid,grid_knn.predict(x_scaled_valid)))"
      ],
      "execution_count": 35,
      "outputs": [
        {
          "output_type": "stream",
          "text": [
            "0.8555555555555555\n"
          ],
          "name": "stdout"
        }
      ]
    },
    {
      "cell_type": "code",
      "metadata": {
        "id": "cp_EH9ftR0E3",
        "colab_type": "code",
        "colab": {
          "base_uri": "https://localhost:8080/",
          "height": 279
        },
        "outputId": "adc5a2ba-0e9f-43f9-d99d-d9e60c85bd34"
      },
      "source": [
        "sns.heatmap(confusion_matrix(y_valid,grid_knn.predict(x_scaled_valid)),annot=True,center=True)\n",
        "plt.xlabel('Actual Values')\n",
        "plt.ylabel('Predicted Values')\n",
        "plt.show()"
      ],
      "execution_count": 36,
      "outputs": [
        {
          "output_type": "display_data",
          "data": {
            "image/png": "[encoded data removed]",
            "text/plain": [
              "<Figure size 432x288 with 2 Axes>"
            ]
          },
          "metadata": {
            "tags": [],
            "needs_background": "light"
          }
        }
      ]
    },
    {
      "cell_type": "markdown",
      "metadata": {
        "id": "6s7GBf8VQpVq",
        "colab_type": "text"
      },
      "source": [
        "# SVC"
      ]
    },
    {
      "cell_type": "code",
      "metadata": {
        "id": "xQ-V1x38Qosd",
        "colab_type": "code",
        "colab": {}
      },
      "source": [
        "svc_params={#'kernel':['linear', 'poly', 'rbf', 'sigmoid', 'precomputed'],\n",
        "            'tol':[0.01,0.001,0.0001],\n",
        "            'C':[1,10,100]\n",
        "            }"
      ],
      "execution_count": 37,
      "outputs": []
    },
    {
      "cell_type": "code",
      "metadata": {
        "id": "G2LaxJyKQIEl",
        "colab_type": "code",
        "colab": {}
      },
      "source": [
        "svc_grid=GridSearchCV(SVC(),param_grid=svc_params,n_jobs=-1)"
      ],
      "execution_count": 38,
      "outputs": []
    },
    {
      "cell_type": "code",
      "metadata": {
        "id": "XGOFE5P9MFAs",
        "colab_type": "code",
        "colab": {
          "base_uri": "https://localhost:8080/",
          "height": 202
        },
        "outputId": "6c9a3888-bfa6-4582-9435-a3c6379213bd"
      },
      "source": [
        "svc_grid.fit(x_scaled_train,y_train)"
      ],
      "execution_count": 39,
      "outputs": [
        {
          "output_type": "execute_result",
          "data": {
            "text/plain": [
              "GridSearchCV(cv=None, error_score=nan,\n",
              "             estimator=SVC(C=1.0, break_ties=False, cache_size=200,\n",
              "                           class_weight=None, coef0=0.0,\n",
              "                           decision_function_shape='ovr', degree=3,\n",
              "                           gamma='scale', kernel='rbf', max_iter=-1,\n",
              "                           probability=False, random_state=None, shrinking=True,\n",
              "                           tol=0.001, verbose=False),\n",
              "             iid='deprecated', n_jobs=-1,\n",
              "             param_grid={'C': [1, 10, 100], 'tol': [0.01, 0.001, 0.0001]},\n",
              "             pre_dispatch='2*n_jobs', refit=True, return_train_score=False,\n",
              "             scoring=None, verbose=0)"
            ]
          },
          "metadata": {
            "tags": []
          },
          "execution_count": 39
        }
      ]
    },
    {
      "cell_type": "code",
      "metadata": {
        "id": "qFXPtceWMH3K",
        "colab_type": "code",
        "colab": {
          "base_uri": "https://localhost:8080/",
          "height": 84
        },
        "outputId": "9f635175-7a41-4c05-ec4c-067c51d127e8"
      },
      "source": [
        "svc_grid.best_estimator_"
      ],
      "execution_count": 40,
      "outputs": [
        {
          "output_type": "execute_result",
          "data": {
            "text/plain": [
              "SVC(C=10, break_ties=False, cache_size=200, class_weight=None, coef0=0.0,\n",
              "    decision_function_shape='ovr', degree=3, gamma='scale', kernel='rbf',\n",
              "    max_iter=-1, probability=False, random_state=None, shrinking=True, tol=0.01,\n",
              "    verbose=False)"
            ]
          },
          "metadata": {
            "tags": []
          },
          "execution_count": 40
        }
      ]
    },
    {
      "cell_type": "code",
      "metadata": {
        "id": "5iuY2RJwQbRz",
        "colab_type": "code",
        "colab": {
          "base_uri": "https://localhost:8080/",
          "height": 168
        },
        "outputId": "5ee5eb2f-31c5-4649-dafa-c856a83f9817"
      },
      "source": [
        "print(classification_report(y_valid,svc_grid.predict(x_scaled_valid)))"
      ],
      "execution_count": 41,
      "outputs": [
        {
          "output_type": "stream",
          "text": [
            "              precision    recall  f1-score   support\n",
            "\n",
            "           0       0.90      0.90      0.90        62\n",
            "           1       0.79      0.79      0.79        28\n",
            "\n",
            "    accuracy                           0.87        90\n",
            "   macro avg       0.84      0.84      0.84        90\n",
            "weighted avg       0.87      0.87      0.87        90\n",
            "\n"
          ],
          "name": "stdout"
        }
      ]
    },
    {
      "cell_type": "code",
      "metadata": {
        "id": "NV-ndkOwQhDv",
        "colab_type": "code",
        "colab": {
          "base_uri": "https://localhost:8080/",
          "height": 34
        },
        "outputId": "259bcf55-a963-42c1-d426-df683b9f8738"
      },
      "source": [
        "print(accuracy_score(y_valid,svc_grid.predict(x_scaled_valid)))"
      ],
      "execution_count": 42,
      "outputs": [
        {
          "output_type": "stream",
          "text": [
            "0.8666666666666667\n"
          ],
          "name": "stdout"
        }
      ]
    },
    {
      "cell_type": "code",
      "metadata": {
        "id": "aEhR-to9QvBf",
        "colab_type": "code",
        "colab": {
          "base_uri": "https://localhost:8080/",
          "height": 279
        },
        "outputId": "653f00d8-1b32-4063-a424-abaf40072c36"
      },
      "source": [
        "sns.heatmap(confusion_matrix(y_valid,svc_grid.predict(x_scaled_valid)),annot=True,center=True)\n",
        "plt.xlabel('Actual Values')\n",
        "plt.ylabel('Predicted Values')\n",
        "plt.show()"
      ],
      "execution_count": 43,
      "outputs": [
        {
          "output_type": "display_data",
          "data": {
            "image/png": "[encoded data removed]",
            "text/plain": [
              "<Figure size 432x288 with 2 Axes>"
            ]
          },
          "metadata": {
            "tags": [],
            "needs_background": "light"
          }
        }
      ]
    },
    {
      "cell_type": "markdown",
      "metadata": {
        "id": "1G31cC3wTPMC",
        "colab_type": "text"
      },
      "source": [
        "# Random Forest "
      ]
    },
    {
      "cell_type": "code",
      "metadata": {
        "id": "WLyFhArETR5Z",
        "colab_type": "code",
        "colab": {}
      },
      "source": [
        "rf_params={ 'n_estimators':[50,100,250,500],\n",
        "           'max_depth':[5,10,20,32],\n",
        "           'min_samples_split':[2,5,15,25],\n",
        "           'min_samples_leaf':[1,5,15,20],\n",
        "           'max_features':['sqrt','log2','auto'],\n",
        "           'criterion':['gini','entropy']\n",
        "}"
      ],
      "execution_count": 44,
      "outputs": []
    },
    {
      "cell_type": "code",
      "metadata": {
        "id": "TH_nVTgFXYLJ",
        "colab_type": "code",
        "colab": {}
      },
      "source": [
        "rf_grid=GridSearchCV(RandomForestClassifier(),param_grid=rf_params)"
      ],
      "execution_count": 45,
      "outputs": []
    },
    {
      "cell_type": "code",
      "metadata": {
        "id": "SbKjzSrIXvX5",
        "colab_type": "code",
        "colab": {
          "base_uri": "https://localhost:8080/",
          "height": 420
        },
        "outputId": "8273b542-c8fb-4d4d-d06b-a91156740d3b"
      },
      "source": [
        "rf_grid.fit(x_scaled_train,y_train)"
      ],
      "execution_count": 46,
      "outputs": [
        {
          "output_type": "execute_result",
          "data": {
            "text/plain": [
              "GridSearchCV(cv=None, error_score=nan,\n",
              "             estimator=RandomForestClassifier(bootstrap=True, ccp_alpha=0.0,\n",
              "                                              class_weight=None,\n",
              "                                              criterion='gini', max_depth=None,\n",
              "                                              max_features='auto',\n",
              "                                              max_leaf_nodes=None,\n",
              "                                              max_samples=None,\n",
              "                                              min_impurity_decrease=0.0,\n",
              "                                              min_impurity_split=None,\n",
              "                                              min_samples_leaf=1,\n",
              "                                              min_samples_split=2,\n",
              "                                              min_weight_fraction_leaf=0.0,\n",
              "                                              n_estimators=100, n_jobs=No...\n",
              "                                              random_state=None, verbose=0,\n",
              "                                              warm_start=False),\n",
              "             iid='deprecated', n_jobs=None,\n",
              "             param_grid={'criterion': ['gini', 'entropy'],\n",
              "                         'max_depth': [5, 10, 20, 32],\n",
              "                         'max_features': ['sqrt', 'log2', 'auto'],\n",
              "                         'min_samples_leaf': [1, 5, 15, 20],\n",
              "                         'min_samples_split': [2, 5, 15, 25],\n",
              "                         'n_estimators': [50, 100, 250, 500]},\n",
              "             pre_dispatch='2*n_jobs', refit=True, return_train_score=False,\n",
              "             scoring=None, verbose=0)"
            ]
          },
          "metadata": {
            "tags": []
          },
          "execution_count": 46
        }
      ]
    },
    {
      "cell_type": "code",
      "metadata": {
        "id": "6vObUjArXxt5",
        "colab_type": "code",
        "colab": {
          "base_uri": "https://localhost:8080/",
          "height": 151
        },
        "outputId": "568b8d29-c906-4d57-ba5c-dbd75e7a8d10"
      },
      "source": [
        "rf_grid.best_estimator_"
      ],
      "execution_count": 47,
      "outputs": [
        {
          "output_type": "execute_result",
          "data": {
            "text/plain": [
              "RandomForestClassifier(bootstrap=True, ccp_alpha=0.0, class_weight=None,\n",
              "                       criterion='gini', max_depth=32, max_features='log2',\n",
              "                       max_leaf_nodes=None, max_samples=None,\n",
              "                       min_impurity_decrease=0.0, min_impurity_split=None,\n",
              "                       min_samples_leaf=1, min_samples_split=15,\n",
              "                       min_weight_fraction_leaf=0.0, n_estimators=50,\n",
              "                       n_jobs=None, oob_score=False, random_state=None,\n",
              "                       verbose=0, warm_start=False)"
            ]
          },
          "metadata": {
            "tags": []
          },
          "execution_count": 47
        }
      ]
    },
    {
      "cell_type": "code",
      "metadata": {
        "id": "fUJN_9lFiHg2",
        "colab_type": "code",
        "colab": {
          "base_uri": "https://localhost:8080/",
          "height": 34
        },
        "outputId": "31025c96-08e7-44db-e319-073703ef92b4"
      },
      "source": [
        "rf_grid.best_score_"
      ],
      "execution_count": 48,
      "outputs": [
        {
          "output_type": "execute_result",
          "data": {
            "text/plain": [
              "0.8377018633540374"
            ]
          },
          "metadata": {
            "tags": []
          },
          "execution_count": 48
        }
      ]
    },
    {
      "cell_type": "code",
      "metadata": {
        "id": "G6rc3KyXiJo6",
        "colab_type": "code",
        "colab": {
          "base_uri": "https://localhost:8080/",
          "height": 34
        },
        "outputId": "b6416233-f57c-43fe-a296-780eb5ea7ebb"
      },
      "source": [
        "print(accuracy_score(y_valid,rf_grid.predict(x_scaled_valid)))"
      ],
      "execution_count": 49,
      "outputs": [
        {
          "output_type": "stream",
          "text": [
            "0.8777777777777778\n"
          ],
          "name": "stdout"
        }
      ]
    },
    {
      "cell_type": "code",
      "metadata": {
        "id": "0MLHxGx8iO5l",
        "colab_type": "code",
        "colab": {
          "base_uri": "https://localhost:8080/",
          "height": 168
        },
        "outputId": "4319fa9f-e1d5-413d-a3fa-fceebdd8016a"
      },
      "source": [
        "print(classification_report(y_valid,rf_grid.predict(x_scaled_valid)))"
      ],
      "execution_count": 50,
      "outputs": [
        {
          "output_type": "stream",
          "text": [
            "              precision    recall  f1-score   support\n",
            "\n",
            "           0       0.92      0.90      0.91        62\n",
            "           1       0.79      0.82      0.81        28\n",
            "\n",
            "    accuracy                           0.88        90\n",
            "   macro avg       0.86      0.86      0.86        90\n",
            "weighted avg       0.88      0.88      0.88        90\n",
            "\n"
          ],
          "name": "stdout"
        }
      ]
    },
    {
      "cell_type": "code",
      "metadata": {
        "id": "1F0GkFzniSYy",
        "colab_type": "code",
        "colab": {
          "base_uri": "https://localhost:8080/",
          "height": 279
        },
        "outputId": "ae67529a-f6c2-421a-99af-1b864fd0ef3f"
      },
      "source": [
        "sns.heatmap(confusion_matrix(y_valid,rf_grid.predict(x_scaled_valid)),annot=True)\n",
        "plt.xlabel('Actual Values')\n",
        "plt.ylabel('Predicted Values')\n",
        "plt.show()"
      ],
      "execution_count": 51,
      "outputs": [
        {
          "output_type": "display_data",
          "data": {
            "image/png": "[encoded data removed]",
            "text/plain": [
              "<Figure size 432x288 with 2 Axes>"
            ]
          },
          "metadata": {
            "tags": [],
            "needs_background": "light"
          }
        }
      ]
    },
    {
      "cell_type": "markdown",
      "metadata": {
        "id": "mvRiDtOUqYZk",
        "colab_type": "text"
      },
      "source": [
        "# CatBoost"
      ]
    },
    {
      "cell_type": "code",
      "metadata": {
        "id": "26UKNk5hicn7",
        "colab_type": "code",
        "colab": {
          "base_uri": "https://localhost:8080/",
          "height": 339
        },
        "outputId": "ed7022d7-e124-454f-a2fc-d3e405f94daf"
      },
      "source": [
        "pip install catboost"
      ],
      "execution_count": 52,
      "outputs": [
        {
          "output_type": "stream",
          "text": [
            "Collecting catboost\n",
            "\u001b[?25l  Downloading https://files.pythonhosted.org/packages/90/86/c3dcb600b4f9e7584ed90ea9d30a717fb5c0111574675f442c3e7bc19535/catboost-0.24.1-cp36-none-manylinux1_x86_64.whl (66.1MB)\n",
            "\u001b[K     |████████████████████████████████| 66.1MB 63kB/s \n",
            "\u001b[?25hRequirement already satisfied: matplotlib in /usr/local/lib/python3.6/dist-packages (from catboost) (3.2.2)\n",
            "Requirement already satisfied: graphviz in /usr/local/lib/python3.6/dist-packages (from catboost) (0.10.1)\n",
            "Requirement already satisfied: six in /usr/local/lib/python3.6/dist-packages (from catboost) (1.15.0)\n",
            "Requirement already satisfied: scipy in /usr/local/lib/python3.6/dist-packages (from catboost) (1.4.1)\n",
            "Requirement already satisfied: pandas>=0.24.0 in /usr/local/lib/python3.6/dist-packages (from catboost) (1.0.5)\n",
            "Requirement already satisfied: numpy>=1.16.0 in /usr/local/lib/python3.6/dist-packages (from catboost) (1.18.5)\n",
            "Requirement already satisfied: plotly in /usr/local/lib/python3.6/dist-packages (from catboost) (4.4.1)\n",
            "Requirement already satisfied: python-dateutil>=2.1 in /usr/local/lib/python3.6/dist-packages (from matplotlib->catboost) (2.8.1)\n",
            "Requirement already satisfied: kiwisolver>=1.0.1 in /usr/local/lib/python3.6/dist-packages (from matplotlib->catboost) (1.2.0)\n",
            "Requirement already satisfied: pyparsing!=2.0.4,!=2.1.2,!=2.1.6,>=2.0.1 in /usr/local/lib/python3.6/dist-packages (from matplotlib->catboost) (2.4.7)\n",
            "Requirement already satisfied: cycler>=0.10 in /usr/local/lib/python3.6/dist-packages (from matplotlib->catboost) (0.10.0)\n",
            "Requirement already satisfied: pytz>=2017.2 in /usr/local/lib/python3.6/dist-packages (from pandas>=0.24.0->catboost) (2018.9)\n",
            "Requirement already satisfied: retrying>=1.3.3 in /usr/local/lib/python3.6/dist-packages (from plotly->catboost) (1.3.3)\n",
            "Installing collected packages: catboost\n",
            "Successfully installed catboost-0.24.1\n"
          ],
          "name": "stdout"
        }
      ]
    },
    {
      "cell_type": "code",
      "metadata": {
        "id": "DAtJwr1Aqv2I",
        "colab_type": "code",
        "colab": {}
      },
      "source": [
        "from catboost import CatBoostClassifier\n",
        "cat=CatBoostClassifier()"
      ],
      "execution_count": 53,
      "outputs": []
    },
    {
      "cell_type": "code",
      "metadata": {
        "id": "DboH3NztQ8WJ",
        "colab_type": "code",
        "colab": {
          "base_uri": "https://localhost:8080/",
          "height": 1000
        },
        "outputId": "e8b7be3c-c9f4-42bd-be80-24cfe3c8abf5"
      },
      "source": [
        "cat.fit(x_train,y_train)"
      ],
      "execution_count": 54,
      "outputs": [
        {
          "output_type": "stream",
          "text": [
            "Learning rate set to 0.009371\n",
            "0:\tlearn: 0.6871351\ttotal: 49.2ms\tremaining: 49.1s\n",
            "1:\tlearn: 0.6827021\ttotal: 50.5ms\tremaining: 25.2s\n",
            "2:\tlearn: 0.6774737\ttotal: 51.8ms\tremaining: 17.2s\n",
            "3:\tlearn: 0.6709888\ttotal: 53ms\tremaining: 13.2s\n",
            "4:\tlearn: 0.6644421\ttotal: 54.3ms\tremaining: 10.8s\n",
            "5:\tlearn: 0.6595415\ttotal: 55.5ms\tremaining: 9.2s\n",
            "6:\tlearn: 0.6537315\ttotal: 56.7ms\tremaining: 8.04s\n",
            "7:\tlearn: 0.6488604\ttotal: 57.9ms\tremaining: 7.18s\n",
            "8:\tlearn: 0.6437834\ttotal: 59.1ms\tremaining: 6.51s\n",
            "9:\tlearn: 0.6396518\ttotal: 60.3ms\tremaining: 5.97s\n",
            "10:\tlearn: 0.6340684\ttotal: 61.5ms\tremaining: 5.53s\n",
            "11:\tlearn: 0.6294160\ttotal: 62.7ms\tremaining: 5.16s\n",
            "12:\tlearn: 0.6248497\ttotal: 63.9ms\tremaining: 4.85s\n",
            "13:\tlearn: 0.6211303\ttotal: 64.8ms\tremaining: 4.56s\n",
            "14:\tlearn: 0.6170476\ttotal: 66.2ms\tremaining: 4.35s\n",
            "15:\tlearn: 0.6131573\ttotal: 67.2ms\tremaining: 4.13s\n",
            "16:\tlearn: 0.6086900\ttotal: 68.4ms\tremaining: 3.96s\n",
            "17:\tlearn: 0.6056400\ttotal: 69.6ms\tremaining: 3.8s\n",
            "18:\tlearn: 0.6023824\ttotal: 70.3ms\tremaining: 3.63s\n",
            "19:\tlearn: 0.5987705\ttotal: 71.5ms\tremaining: 3.5s\n",
            "20:\tlearn: 0.5949889\ttotal: 72.7ms\tremaining: 3.39s\n",
            "21:\tlearn: 0.5915156\ttotal: 73.9ms\tremaining: 3.28s\n",
            "22:\tlearn: 0.5878408\ttotal: 75.1ms\tremaining: 3.19s\n",
            "23:\tlearn: 0.5845578\ttotal: 76.3ms\tremaining: 3.1s\n",
            "24:\tlearn: 0.5802312\ttotal: 77.5ms\tremaining: 3.02s\n",
            "25:\tlearn: 0.5774305\ttotal: 78.7ms\tremaining: 2.95s\n",
            "26:\tlearn: 0.5738107\ttotal: 79.9ms\tremaining: 2.88s\n",
            "27:\tlearn: 0.5704702\ttotal: 81.1ms\tremaining: 2.82s\n",
            "28:\tlearn: 0.5665810\ttotal: 82.3ms\tremaining: 2.76s\n",
            "29:\tlearn: 0.5633047\ttotal: 83.6ms\tremaining: 2.7s\n",
            "30:\tlearn: 0.5598803\ttotal: 84.8ms\tremaining: 2.65s\n",
            "31:\tlearn: 0.5570643\ttotal: 86ms\tremaining: 2.6s\n",
            "32:\tlearn: 0.5542091\ttotal: 87.3ms\tremaining: 2.56s\n",
            "33:\tlearn: 0.5507040\ttotal: 88.4ms\tremaining: 2.51s\n",
            "34:\tlearn: 0.5474387\ttotal: 89.6ms\tremaining: 2.47s\n",
            "35:\tlearn: 0.5444998\ttotal: 90.9ms\tremaining: 2.43s\n",
            "36:\tlearn: 0.5418662\ttotal: 92.1ms\tremaining: 2.4s\n",
            "37:\tlearn: 0.5394435\ttotal: 93.3ms\tremaining: 2.36s\n",
            "38:\tlearn: 0.5374041\ttotal: 94.6ms\tremaining: 2.33s\n",
            "39:\tlearn: 0.5343954\ttotal: 95.7ms\tremaining: 2.3s\n",
            "40:\tlearn: 0.5314865\ttotal: 97ms\tremaining: 2.27s\n",
            "41:\tlearn: 0.5283924\ttotal: 98.2ms\tremaining: 2.24s\n",
            "42:\tlearn: 0.5256062\ttotal: 99.4ms\tremaining: 2.21s\n",
            "43:\tlearn: 0.5236578\ttotal: 100ms\tremaining: 2.18s\n",
            "44:\tlearn: 0.5218444\ttotal: 102ms\tremaining: 2.15s\n",
            "45:\tlearn: 0.5190345\ttotal: 103ms\tremaining: 2.13s\n",
            "46:\tlearn: 0.5165735\ttotal: 104ms\tremaining: 2.11s\n",
            "47:\tlearn: 0.5145871\ttotal: 105ms\tremaining: 2.09s\n",
            "48:\tlearn: 0.5118878\ttotal: 107ms\tremaining: 2.07s\n",
            "49:\tlearn: 0.5095263\ttotal: 108ms\tremaining: 2.05s\n",
            "50:\tlearn: 0.5071053\ttotal: 109ms\tremaining: 2.03s\n",
            "51:\tlearn: 0.5057446\ttotal: 110ms\tremaining: 2s\n",
            "52:\tlearn: 0.5032800\ttotal: 111ms\tremaining: 1.98s\n",
            "53:\tlearn: 0.5015066\ttotal: 112ms\tremaining: 1.96s\n",
            "54:\tlearn: 0.4996453\ttotal: 113ms\tremaining: 1.95s\n",
            "55:\tlearn: 0.4982910\ttotal: 114ms\tremaining: 1.93s\n",
            "56:\tlearn: 0.4958333\ttotal: 116ms\tremaining: 1.91s\n",
            "57:\tlearn: 0.4940386\ttotal: 117ms\tremaining: 1.9s\n",
            "58:\tlearn: 0.4922207\ttotal: 118ms\tremaining: 1.88s\n",
            "59:\tlearn: 0.4899814\ttotal: 119ms\tremaining: 1.87s\n",
            "60:\tlearn: 0.4885371\ttotal: 120ms\tremaining: 1.85s\n",
            "61:\tlearn: 0.4864607\ttotal: 122ms\tremaining: 1.84s\n",
            "62:\tlearn: 0.4847588\ttotal: 123ms\tremaining: 1.83s\n",
            "63:\tlearn: 0.4830809\ttotal: 124ms\tremaining: 1.81s\n",
            "64:\tlearn: 0.4818632\ttotal: 125ms\tremaining: 1.8s\n",
            "65:\tlearn: 0.4800655\ttotal: 126ms\tremaining: 1.79s\n",
            "66:\tlearn: 0.4783719\ttotal: 128ms\tremaining: 1.78s\n",
            "67:\tlearn: 0.4764530\ttotal: 129ms\tremaining: 1.76s\n",
            "68:\tlearn: 0.4744748\ttotal: 130ms\tremaining: 1.75s\n",
            "69:\tlearn: 0.4732989\ttotal: 131ms\tremaining: 1.74s\n",
            "70:\tlearn: 0.4717418\ttotal: 132ms\tremaining: 1.73s\n",
            "71:\tlearn: 0.4704311\ttotal: 134ms\tremaining: 1.72s\n",
            "72:\tlearn: 0.4689847\ttotal: 135ms\tremaining: 1.71s\n",
            "73:\tlearn: 0.4675198\ttotal: 136ms\tremaining: 1.7s\n",
            "74:\tlearn: 0.4662501\ttotal: 137ms\tremaining: 1.69s\n",
            "75:\tlearn: 0.4650787\ttotal: 138ms\tremaining: 1.68s\n",
            "76:\tlearn: 0.4637393\ttotal: 140ms\tremaining: 1.67s\n",
            "77:\tlearn: 0.4620092\ttotal: 141ms\tremaining: 1.66s\n",
            "78:\tlearn: 0.4603673\ttotal: 142ms\tremaining: 1.66s\n",
            "79:\tlearn: 0.4590541\ttotal: 143ms\tremaining: 1.65s\n",
            "80:\tlearn: 0.4577500\ttotal: 144ms\tremaining: 1.64s\n",
            "81:\tlearn: 0.4568807\ttotal: 145ms\tremaining: 1.63s\n",
            "82:\tlearn: 0.4556448\ttotal: 147ms\tremaining: 1.62s\n",
            "83:\tlearn: 0.4546354\ttotal: 148ms\tremaining: 1.61s\n",
            "84:\tlearn: 0.4534071\ttotal: 149ms\tremaining: 1.6s\n",
            "85:\tlearn: 0.4519313\ttotal: 150ms\tremaining: 1.59s\n",
            "86:\tlearn: 0.4506131\ttotal: 151ms\tremaining: 1.59s\n",
            "87:\tlearn: 0.4489647\ttotal: 153ms\tremaining: 1.58s\n",
            "88:\tlearn: 0.4478884\ttotal: 154ms\tremaining: 1.57s\n",
            "89:\tlearn: 0.4467711\ttotal: 155ms\tremaining: 1.57s\n",
            "90:\tlearn: 0.4462972\ttotal: 156ms\tremaining: 1.55s\n",
            "91:\tlearn: 0.4456558\ttotal: 157ms\tremaining: 1.55s\n",
            "92:\tlearn: 0.4442273\ttotal: 158ms\tremaining: 1.54s\n",
            "93:\tlearn: 0.4430742\ttotal: 159ms\tremaining: 1.53s\n",
            "94:\tlearn: 0.4423069\ttotal: 160ms\tremaining: 1.52s\n",
            "95:\tlearn: 0.4416603\ttotal: 161ms\tremaining: 1.52s\n",
            "96:\tlearn: 0.4407487\ttotal: 163ms\tremaining: 1.51s\n",
            "97:\tlearn: 0.4397784\ttotal: 164ms\tremaining: 1.51s\n",
            "98:\tlearn: 0.4387320\ttotal: 165ms\tremaining: 1.5s\n",
            "99:\tlearn: 0.4378958\ttotal: 166ms\tremaining: 1.5s\n",
            "100:\tlearn: 0.4371612\ttotal: 167ms\tremaining: 1.49s\n",
            "101:\tlearn: 0.4364242\ttotal: 169ms\tremaining: 1.48s\n",
            "102:\tlearn: 0.4359187\ttotal: 170ms\tremaining: 1.48s\n",
            "103:\tlearn: 0.4347213\ttotal: 171ms\tremaining: 1.47s\n",
            "104:\tlearn: 0.4338315\ttotal: 172ms\tremaining: 1.47s\n",
            "105:\tlearn: 0.4334111\ttotal: 173ms\tremaining: 1.46s\n",
            "106:\tlearn: 0.4330528\ttotal: 174ms\tremaining: 1.45s\n",
            "107:\tlearn: 0.4323822\ttotal: 175ms\tremaining: 1.44s\n",
            "108:\tlearn: 0.4318408\ttotal: 176ms\tremaining: 1.44s\n",
            "109:\tlearn: 0.4311637\ttotal: 177ms\tremaining: 1.43s\n",
            "110:\tlearn: 0.4304595\ttotal: 178ms\tremaining: 1.43s\n",
            "111:\tlearn: 0.4298616\ttotal: 179ms\tremaining: 1.42s\n",
            "112:\tlearn: 0.4291734\ttotal: 181ms\tremaining: 1.42s\n",
            "113:\tlearn: 0.4282272\ttotal: 182ms\tremaining: 1.41s\n",
            "114:\tlearn: 0.4272476\ttotal: 183ms\tremaining: 1.41s\n",
            "115:\tlearn: 0.4261599\ttotal: 184ms\tremaining: 1.4s\n",
            "116:\tlearn: 0.4253090\ttotal: 185ms\tremaining: 1.4s\n",
            "117:\tlearn: 0.4242993\ttotal: 190ms\tremaining: 1.42s\n",
            "118:\tlearn: 0.4234976\ttotal: 192ms\tremaining: 1.42s\n",
            "119:\tlearn: 0.4227891\ttotal: 193ms\tremaining: 1.42s\n",
            "120:\tlearn: 0.4221541\ttotal: 194ms\tremaining: 1.41s\n",
            "121:\tlearn: 0.4214274\ttotal: 195ms\tremaining: 1.41s\n",
            "122:\tlearn: 0.4206923\ttotal: 197ms\tremaining: 1.4s\n",
            "123:\tlearn: 0.4197650\ttotal: 198ms\tremaining: 1.4s\n",
            "124:\tlearn: 0.4187669\ttotal: 199ms\tremaining: 1.39s\n",
            "125:\tlearn: 0.4181740\ttotal: 200ms\tremaining: 1.39s\n",
            "126:\tlearn: 0.4174481\ttotal: 201ms\tremaining: 1.38s\n",
            "127:\tlearn: 0.4167351\ttotal: 203ms\tremaining: 1.38s\n",
            "128:\tlearn: 0.4157524\ttotal: 204ms\tremaining: 1.38s\n",
            "129:\tlearn: 0.4148272\ttotal: 205ms\tremaining: 1.37s\n",
            "130:\tlearn: 0.4138812\ttotal: 206ms\tremaining: 1.37s\n",
            "131:\tlearn: 0.4132518\ttotal: 208ms\tremaining: 1.36s\n",
            "132:\tlearn: 0.4124489\ttotal: 209ms\tremaining: 1.36s\n",
            "133:\tlearn: 0.4119944\ttotal: 210ms\tremaining: 1.36s\n",
            "134:\tlearn: 0.4111454\ttotal: 211ms\tremaining: 1.35s\n",
            "135:\tlearn: 0.4108867\ttotal: 212ms\tremaining: 1.35s\n",
            "136:\tlearn: 0.4102469\ttotal: 213ms\tremaining: 1.34s\n",
            "137:\tlearn: 0.4097354\ttotal: 214ms\tremaining: 1.34s\n",
            "138:\tlearn: 0.4092095\ttotal: 216ms\tremaining: 1.33s\n",
            "139:\tlearn: 0.4088203\ttotal: 217ms\tremaining: 1.33s\n",
            "140:\tlearn: 0.4083321\ttotal: 218ms\tremaining: 1.33s\n",
            "141:\tlearn: 0.4075507\ttotal: 219ms\tremaining: 1.32s\n",
            "142:\tlearn: 0.4069776\ttotal: 220ms\tremaining: 1.32s\n",
            "143:\tlearn: 0.4064100\ttotal: 222ms\tremaining: 1.32s\n",
            "144:\tlearn: 0.4057342\ttotal: 223ms\tremaining: 1.31s\n",
            "145:\tlearn: 0.4053976\ttotal: 224ms\tremaining: 1.31s\n",
            "146:\tlearn: 0.4047184\ttotal: 225ms\tremaining: 1.31s\n",
            "147:\tlearn: 0.4041836\ttotal: 227ms\tremaining: 1.3s\n",
            "148:\tlearn: 0.4036504\ttotal: 228ms\tremaining: 1.3s\n",
            "149:\tlearn: 0.4032574\ttotal: 229ms\tremaining: 1.3s\n",
            "150:\tlearn: 0.4029506\ttotal: 230ms\tremaining: 1.29s\n",
            "151:\tlearn: 0.4022912\ttotal: 231ms\tremaining: 1.29s\n",
            "152:\tlearn: 0.4018188\ttotal: 232ms\tremaining: 1.29s\n",
            "153:\tlearn: 0.4014830\ttotal: 234ms\tremaining: 1.28s\n",
            "154:\tlearn: 0.4011767\ttotal: 235ms\tremaining: 1.28s\n",
            "155:\tlearn: 0.4008310\ttotal: 236ms\tremaining: 1.28s\n",
            "156:\tlearn: 0.4003420\ttotal: 237ms\tremaining: 1.27s\n",
            "157:\tlearn: 0.3998306\ttotal: 239ms\tremaining: 1.27s\n",
            "158:\tlearn: 0.3992354\ttotal: 240ms\tremaining: 1.27s\n",
            "159:\tlearn: 0.3987440\ttotal: 241ms\tremaining: 1.26s\n",
            "160:\tlearn: 0.3982910\ttotal: 242ms\tremaining: 1.26s\n",
            "161:\tlearn: 0.3980164\ttotal: 243ms\tremaining: 1.26s\n",
            "162:\tlearn: 0.3975027\ttotal: 245ms\tremaining: 1.25s\n",
            "163:\tlearn: 0.3971131\ttotal: 246ms\tremaining: 1.25s\n",
            "164:\tlearn: 0.3968649\ttotal: 247ms\tremaining: 1.25s\n",
            "165:\tlearn: 0.3964435\ttotal: 248ms\tremaining: 1.25s\n",
            "166:\tlearn: 0.3960380\ttotal: 249ms\tremaining: 1.24s\n",
            "167:\tlearn: 0.3955769\ttotal: 251ms\tremaining: 1.24s\n",
            "168:\tlearn: 0.3950429\ttotal: 252ms\tremaining: 1.24s\n",
            "169:\tlearn: 0.3946599\ttotal: 253ms\tremaining: 1.24s\n",
            "170:\tlearn: 0.3944257\ttotal: 254ms\tremaining: 1.23s\n",
            "171:\tlearn: 0.3942012\ttotal: 255ms\tremaining: 1.23s\n",
            "172:\tlearn: 0.3936778\ttotal: 258ms\tremaining: 1.23s\n",
            "173:\tlearn: 0.3933503\ttotal: 259ms\tremaining: 1.23s\n",
            "174:\tlearn: 0.3927809\ttotal: 260ms\tremaining: 1.23s\n",
            "175:\tlearn: 0.3920836\ttotal: 262ms\tremaining: 1.22s\n",
            "176:\tlearn: 0.3916979\ttotal: 263ms\tremaining: 1.22s\n",
            "177:\tlearn: 0.3914164\ttotal: 264ms\tremaining: 1.22s\n",
            "178:\tlearn: 0.3909914\ttotal: 265ms\tremaining: 1.22s\n",
            "179:\tlearn: 0.3907239\ttotal: 266ms\tremaining: 1.21s\n",
            "180:\tlearn: 0.3900352\ttotal: 268ms\tremaining: 1.21s\n",
            "181:\tlearn: 0.3899167\ttotal: 269ms\tremaining: 1.21s\n",
            "182:\tlearn: 0.3895733\ttotal: 270ms\tremaining: 1.2s\n",
            "183:\tlearn: 0.3891068\ttotal: 271ms\tremaining: 1.2s\n",
            "184:\tlearn: 0.3888235\ttotal: 272ms\tremaining: 1.2s\n",
            "185:\tlearn: 0.3886107\ttotal: 273ms\tremaining: 1.2s\n",
            "186:\tlearn: 0.3883623\ttotal: 275ms\tremaining: 1.19s\n",
            "187:\tlearn: 0.3881458\ttotal: 276ms\tremaining: 1.19s\n",
            "188:\tlearn: 0.3878390\ttotal: 277ms\tremaining: 1.19s\n",
            "189:\tlearn: 0.3875388\ttotal: 278ms\tremaining: 1.19s\n",
            "190:\tlearn: 0.3870583\ttotal: 280ms\tremaining: 1.18s\n",
            "191:\tlearn: 0.3865785\ttotal: 281ms\tremaining: 1.18s\n",
            "192:\tlearn: 0.3861010\ttotal: 282ms\tremaining: 1.18s\n",
            "193:\tlearn: 0.3860763\ttotal: 283ms\tremaining: 1.17s\n",
            "194:\tlearn: 0.3855089\ttotal: 284ms\tremaining: 1.17s\n",
            "195:\tlearn: 0.3850068\ttotal: 285ms\tremaining: 1.17s\n",
            "196:\tlearn: 0.3846696\ttotal: 286ms\tremaining: 1.17s\n",
            "197:\tlearn: 0.3843814\ttotal: 287ms\tremaining: 1.16s\n",
            "198:\tlearn: 0.3838826\ttotal: 289ms\tremaining: 1.16s\n",
            "199:\tlearn: 0.3835092\ttotal: 290ms\tremaining: 1.16s\n",
            "200:\tlearn: 0.3831346\ttotal: 291ms\tremaining: 1.16s\n",
            "201:\tlearn: 0.3826831\ttotal: 292ms\tremaining: 1.15s\n",
            "202:\tlearn: 0.3826112\ttotal: 293ms\tremaining: 1.15s\n",
            "203:\tlearn: 0.3824856\ttotal: 294ms\tremaining: 1.15s\n",
            "204:\tlearn: 0.3823398\ttotal: 295ms\tremaining: 1.15s\n",
            "205:\tlearn: 0.3818423\ttotal: 297ms\tremaining: 1.14s\n",
            "206:\tlearn: 0.3815331\ttotal: 298ms\tremaining: 1.14s\n",
            "207:\tlearn: 0.3811210\ttotal: 299ms\tremaining: 1.14s\n",
            "208:\tlearn: 0.3807386\ttotal: 300ms\tremaining: 1.14s\n",
            "209:\tlearn: 0.3804232\ttotal: 301ms\tremaining: 1.13s\n",
            "210:\tlearn: 0.3800175\ttotal: 303ms\tremaining: 1.13s\n",
            "211:\tlearn: 0.3797329\ttotal: 304ms\tremaining: 1.13s\n",
            "212:\tlearn: 0.3794449\ttotal: 305ms\tremaining: 1.13s\n",
            "213:\tlearn: 0.3792475\ttotal: 306ms\tremaining: 1.12s\n",
            "214:\tlearn: 0.3787701\ttotal: 307ms\tremaining: 1.12s\n",
            "215:\tlearn: 0.3783299\ttotal: 309ms\tremaining: 1.12s\n",
            "216:\tlearn: 0.3781204\ttotal: 310ms\tremaining: 1.12s\n",
            "217:\tlearn: 0.3779969\ttotal: 311ms\tremaining: 1.11s\n",
            "218:\tlearn: 0.3778444\ttotal: 312ms\tremaining: 1.11s\n",
            "219:\tlearn: 0.3775578\ttotal: 313ms\tremaining: 1.11s\n",
            "220:\tlearn: 0.3771374\ttotal: 314ms\tremaining: 1.11s\n",
            "221:\tlearn: 0.3769701\ttotal: 316ms\tremaining: 1.1s\n",
            "222:\tlearn: 0.3766793\ttotal: 317ms\tremaining: 1.1s\n",
            "223:\tlearn: 0.3763504\ttotal: 318ms\tremaining: 1.1s\n",
            "224:\tlearn: 0.3760909\ttotal: 319ms\tremaining: 1.1s\n",
            "225:\tlearn: 0.3756929\ttotal: 320ms\tremaining: 1.1s\n",
            "226:\tlearn: 0.3753790\ttotal: 322ms\tremaining: 1.09s\n",
            "227:\tlearn: 0.3751632\ttotal: 323ms\tremaining: 1.09s\n",
            "228:\tlearn: 0.3748857\ttotal: 324ms\tremaining: 1.09s\n",
            "229:\tlearn: 0.3745738\ttotal: 325ms\tremaining: 1.09s\n",
            "230:\tlearn: 0.3743594\ttotal: 327ms\tremaining: 1.09s\n",
            "231:\tlearn: 0.3740454\ttotal: 328ms\tremaining: 1.08s\n",
            "232:\tlearn: 0.3736914\ttotal: 329ms\tremaining: 1.08s\n",
            "233:\tlearn: 0.3733336\ttotal: 330ms\tremaining: 1.08s\n",
            "234:\tlearn: 0.3730360\ttotal: 331ms\tremaining: 1.08s\n",
            "235:\tlearn: 0.3725267\ttotal: 333ms\tremaining: 1.08s\n",
            "236:\tlearn: 0.3722530\ttotal: 334ms\tremaining: 1.07s\n",
            "237:\tlearn: 0.3718573\ttotal: 335ms\tremaining: 1.07s\n",
            "238:\tlearn: 0.3713115\ttotal: 336ms\tremaining: 1.07s\n",
            "239:\tlearn: 0.3710777\ttotal: 337ms\tremaining: 1.07s\n",
            "240:\tlearn: 0.3707214\ttotal: 339ms\tremaining: 1.07s\n",
            "241:\tlearn: 0.3703910\ttotal: 340ms\tremaining: 1.06s\n",
            "242:\tlearn: 0.3701544\ttotal: 341ms\tremaining: 1.06s\n",
            "243:\tlearn: 0.3698745\ttotal: 342ms\tremaining: 1.06s\n",
            "244:\tlearn: 0.3697491\ttotal: 343ms\tremaining: 1.06s\n",
            "245:\tlearn: 0.3695117\ttotal: 345ms\tremaining: 1.06s\n",
            "246:\tlearn: 0.3693147\ttotal: 346ms\tremaining: 1.05s\n",
            "247:\tlearn: 0.3690430\ttotal: 347ms\tremaining: 1.05s\n",
            "248:\tlearn: 0.3689943\ttotal: 348ms\tremaining: 1.05s\n",
            "249:\tlearn: 0.3688859\ttotal: 349ms\tremaining: 1.05s\n",
            "250:\tlearn: 0.3688603\ttotal: 350ms\tremaining: 1.04s\n",
            "251:\tlearn: 0.3686691\ttotal: 351ms\tremaining: 1.04s\n",
            "252:\tlearn: 0.3683800\ttotal: 352ms\tremaining: 1.04s\n",
            "253:\tlearn: 0.3680686\ttotal: 354ms\tremaining: 1.04s\n",
            "254:\tlearn: 0.3678060\ttotal: 355ms\tremaining: 1.04s\n",
            "255:\tlearn: 0.3675630\ttotal: 356ms\tremaining: 1.03s\n",
            "256:\tlearn: 0.3672659\ttotal: 357ms\tremaining: 1.03s\n",
            "257:\tlearn: 0.3670935\ttotal: 359ms\tremaining: 1.03s\n",
            "258:\tlearn: 0.3668989\ttotal: 360ms\tremaining: 1.03s\n",
            "259:\tlearn: 0.3668779\ttotal: 360ms\tremaining: 1.02s\n",
            "260:\tlearn: 0.3667104\ttotal: 362ms\tremaining: 1.02s\n",
            "261:\tlearn: 0.3665645\ttotal: 363ms\tremaining: 1.02s\n",
            "262:\tlearn: 0.3662567\ttotal: 364ms\tremaining: 1.02s\n",
            "263:\tlearn: 0.3660141\ttotal: 365ms\tremaining: 1.02s\n",
            "264:\tlearn: 0.3657798\ttotal: 374ms\tremaining: 1.04s\n",
            "265:\tlearn: 0.3656377\ttotal: 377ms\tremaining: 1.04s\n",
            "266:\tlearn: 0.3653608\ttotal: 382ms\tremaining: 1.05s\n",
            "267:\tlearn: 0.3651817\ttotal: 385ms\tremaining: 1.05s\n",
            "268:\tlearn: 0.3649307\ttotal: 386ms\tremaining: 1.05s\n",
            "269:\tlearn: 0.3646221\ttotal: 387ms\tremaining: 1.05s\n",
            "270:\tlearn: 0.3643607\ttotal: 388ms\tremaining: 1.04s\n",
            "271:\tlearn: 0.3640316\ttotal: 390ms\tremaining: 1.04s\n",
            "272:\tlearn: 0.3638066\ttotal: 391ms\tremaining: 1.04s\n",
            "273:\tlearn: 0.3637698\ttotal: 392ms\tremaining: 1.04s\n",
            "274:\tlearn: 0.3634993\ttotal: 393ms\tremaining: 1.04s\n",
            "275:\tlearn: 0.3632731\ttotal: 394ms\tremaining: 1.03s\n",
            "276:\tlearn: 0.3631359\ttotal: 395ms\tremaining: 1.03s\n",
            "277:\tlearn: 0.3629591\ttotal: 397ms\tremaining: 1.03s\n",
            "278:\tlearn: 0.3627298\ttotal: 398ms\tremaining: 1.03s\n",
            "279:\tlearn: 0.3624815\ttotal: 399ms\tremaining: 1.02s\n",
            "280:\tlearn: 0.3623966\ttotal: 400ms\tremaining: 1.02s\n",
            "281:\tlearn: 0.3621780\ttotal: 401ms\tremaining: 1.02s\n",
            "282:\tlearn: 0.3618583\ttotal: 403ms\tremaining: 1.02s\n",
            "283:\tlearn: 0.3616650\ttotal: 404ms\tremaining: 1.02s\n",
            "284:\tlearn: 0.3614938\ttotal: 405ms\tremaining: 1.02s\n",
            "285:\tlearn: 0.3613327\ttotal: 406ms\tremaining: 1.01s\n",
            "286:\tlearn: 0.3611736\ttotal: 407ms\tremaining: 1.01s\n",
            "287:\tlearn: 0.3609895\ttotal: 409ms\tremaining: 1.01s\n",
            "288:\tlearn: 0.3607852\ttotal: 410ms\tremaining: 1.01s\n",
            "289:\tlearn: 0.3606436\ttotal: 411ms\tremaining: 1s\n",
            "290:\tlearn: 0.3604436\ttotal: 412ms\tremaining: 1s\n",
            "291:\tlearn: 0.3602298\ttotal: 413ms\tremaining: 1s\n",
            "292:\tlearn: 0.3600528\ttotal: 414ms\tremaining: 999ms\n",
            "293:\tlearn: 0.3598610\ttotal: 415ms\tremaining: 998ms\n",
            "294:\tlearn: 0.3597584\ttotal: 417ms\tremaining: 996ms\n",
            "295:\tlearn: 0.3596822\ttotal: 418ms\tremaining: 994ms\n",
            "296:\tlearn: 0.3593114\ttotal: 419ms\tremaining: 992ms\n",
            "297:\tlearn: 0.3590992\ttotal: 420ms\tremaining: 990ms\n",
            "298:\tlearn: 0.3589273\ttotal: 421ms\tremaining: 988ms\n",
            "299:\tlearn: 0.3587344\ttotal: 423ms\tremaining: 986ms\n",
            "300:\tlearn: 0.3585274\ttotal: 424ms\tremaining: 984ms\n",
            "301:\tlearn: 0.3584242\ttotal: 425ms\tremaining: 983ms\n",
            "302:\tlearn: 0.3583269\ttotal: 426ms\tremaining: 981ms\n",
            "303:\tlearn: 0.3580494\ttotal: 428ms\tremaining: 979ms\n",
            "304:\tlearn: 0.3577841\ttotal: 429ms\tremaining: 977ms\n",
            "305:\tlearn: 0.3575742\ttotal: 430ms\tremaining: 975ms\n",
            "306:\tlearn: 0.3574475\ttotal: 431ms\tremaining: 973ms\n",
            "307:\tlearn: 0.3572970\ttotal: 432ms\tremaining: 971ms\n",
            "308:\tlearn: 0.3571253\ttotal: 434ms\tremaining: 970ms\n",
            "309:\tlearn: 0.3570454\ttotal: 435ms\tremaining: 968ms\n",
            "310:\tlearn: 0.3568536\ttotal: 436ms\tremaining: 966ms\n",
            "311:\tlearn: 0.3565532\ttotal: 437ms\tremaining: 964ms\n",
            "312:\tlearn: 0.3563327\ttotal: 438ms\tremaining: 962ms\n",
            "313:\tlearn: 0.3562010\ttotal: 440ms\tremaining: 960ms\n",
            "314:\tlearn: 0.3560641\ttotal: 441ms\tremaining: 959ms\n",
            "315:\tlearn: 0.3560374\ttotal: 442ms\tremaining: 956ms\n",
            "316:\tlearn: 0.3559002\ttotal: 443ms\tremaining: 954ms\n",
            "317:\tlearn: 0.3556508\ttotal: 444ms\tremaining: 952ms\n",
            "318:\tlearn: 0.3554003\ttotal: 445ms\tremaining: 950ms\n",
            "319:\tlearn: 0.3553155\ttotal: 446ms\tremaining: 949ms\n",
            "320:\tlearn: 0.3549615\ttotal: 448ms\tremaining: 947ms\n",
            "321:\tlearn: 0.3547477\ttotal: 449ms\tremaining: 945ms\n",
            "322:\tlearn: 0.3547111\ttotal: 450ms\tremaining: 943ms\n",
            "323:\tlearn: 0.3546117\ttotal: 451ms\tremaining: 942ms\n",
            "324:\tlearn: 0.3544202\ttotal: 452ms\tremaining: 940ms\n",
            "325:\tlearn: 0.3543127\ttotal: 454ms\tremaining: 938ms\n",
            "326:\tlearn: 0.3541541\ttotal: 455ms\tremaining: 936ms\n",
            "327:\tlearn: 0.3540754\ttotal: 456ms\tremaining: 934ms\n",
            "328:\tlearn: 0.3539104\ttotal: 457ms\tremaining: 933ms\n",
            "329:\tlearn: 0.3537746\ttotal: 459ms\tremaining: 931ms\n",
            "330:\tlearn: 0.3535706\ttotal: 460ms\tremaining: 929ms\n",
            "331:\tlearn: 0.3535119\ttotal: 461ms\tremaining: 928ms\n",
            "332:\tlearn: 0.3534208\ttotal: 463ms\tremaining: 927ms\n",
            "333:\tlearn: 0.3531877\ttotal: 464ms\tremaining: 926ms\n",
            "334:\tlearn: 0.3530329\ttotal: 465ms\tremaining: 924ms\n",
            "335:\tlearn: 0.3529345\ttotal: 467ms\tremaining: 922ms\n",
            "336:\tlearn: 0.3528861\ttotal: 468ms\tremaining: 920ms\n",
            "337:\tlearn: 0.3527425\ttotal: 469ms\tremaining: 919ms\n",
            "338:\tlearn: 0.3526467\ttotal: 470ms\tremaining: 917ms\n",
            "339:\tlearn: 0.3525515\ttotal: 471ms\tremaining: 915ms\n",
            "340:\tlearn: 0.3524907\ttotal: 473ms\tremaining: 913ms\n",
            "341:\tlearn: 0.3524853\ttotal: 473ms\tremaining: 911ms\n",
            "342:\tlearn: 0.3523323\ttotal: 474ms\tremaining: 909ms\n",
            "343:\tlearn: 0.3521190\ttotal: 476ms\tremaining: 907ms\n",
            "344:\tlearn: 0.3519983\ttotal: 477ms\tremaining: 905ms\n",
            "345:\tlearn: 0.3519353\ttotal: 478ms\tremaining: 904ms\n",
            "346:\tlearn: 0.3516542\ttotal: 479ms\tremaining: 902ms\n",
            "347:\tlearn: 0.3514463\ttotal: 480ms\tremaining: 900ms\n",
            "348:\tlearn: 0.3513944\ttotal: 482ms\tremaining: 898ms\n",
            "349:\tlearn: 0.3510491\ttotal: 483ms\tremaining: 897ms\n",
            "350:\tlearn: 0.3507158\ttotal: 484ms\tremaining: 895ms\n",
            "351:\tlearn: 0.3505148\ttotal: 485ms\tremaining: 893ms\n",
            "352:\tlearn: 0.3502637\ttotal: 486ms\tremaining: 892ms\n",
            "353:\tlearn: 0.3501362\ttotal: 488ms\tremaining: 890ms\n",
            "354:\tlearn: 0.3499297\ttotal: 489ms\tremaining: 888ms\n",
            "355:\tlearn: 0.3497934\ttotal: 490ms\tremaining: 886ms\n",
            "356:\tlearn: 0.3496346\ttotal: 491ms\tremaining: 885ms\n",
            "357:\tlearn: 0.3494602\ttotal: 492ms\tremaining: 883ms\n",
            "358:\tlearn: 0.3493759\ttotal: 494ms\tremaining: 881ms\n",
            "359:\tlearn: 0.3492115\ttotal: 495ms\tremaining: 880ms\n",
            "360:\tlearn: 0.3490094\ttotal: 496ms\tremaining: 878ms\n",
            "361:\tlearn: 0.3488421\ttotal: 497ms\tremaining: 876ms\n",
            "362:\tlearn: 0.3486825\ttotal: 498ms\tremaining: 875ms\n",
            "363:\tlearn: 0.3485346\ttotal: 500ms\tremaining: 873ms\n",
            "364:\tlearn: 0.3484417\ttotal: 501ms\tremaining: 871ms\n",
            "365:\tlearn: 0.3482821\ttotal: 502ms\tremaining: 870ms\n",
            "366:\tlearn: 0.3480719\ttotal: 503ms\tremaining: 868ms\n",
            "367:\tlearn: 0.3479941\ttotal: 504ms\tremaining: 866ms\n",
            "368:\tlearn: 0.3478789\ttotal: 506ms\tremaining: 865ms\n",
            "369:\tlearn: 0.3477563\ttotal: 507ms\tremaining: 863ms\n",
            "370:\tlearn: 0.3476907\ttotal: 508ms\tremaining: 861ms\n",
            "371:\tlearn: 0.3475624\ttotal: 509ms\tremaining: 860ms\n",
            "372:\tlearn: 0.3474139\ttotal: 510ms\tremaining: 858ms\n",
            "373:\tlearn: 0.3472646\ttotal: 512ms\tremaining: 856ms\n",
            "374:\tlearn: 0.3472364\ttotal: 513ms\tremaining: 854ms\n",
            "375:\tlearn: 0.3470751\ttotal: 514ms\tremaining: 853ms\n",
            "376:\tlearn: 0.3468140\ttotal: 515ms\tremaining: 851ms\n",
            "377:\tlearn: 0.3466981\ttotal: 516ms\tremaining: 849ms\n",
            "378:\tlearn: 0.3463779\ttotal: 517ms\tremaining: 848ms\n",
            "379:\tlearn: 0.3462813\ttotal: 519ms\tremaining: 846ms\n",
            "380:\tlearn: 0.3461235\ttotal: 520ms\tremaining: 845ms\n",
            "381:\tlearn: 0.3459192\ttotal: 521ms\tremaining: 843ms\n",
            "382:\tlearn: 0.3456728\ttotal: 522ms\tremaining: 841ms\n",
            "383:\tlearn: 0.3456283\ttotal: 523ms\tremaining: 840ms\n",
            "384:\tlearn: 0.3452906\ttotal: 525ms\tremaining: 838ms\n",
            "385:\tlearn: 0.3452326\ttotal: 526ms\tremaining: 836ms\n",
            "386:\tlearn: 0.3448804\ttotal: 527ms\tremaining: 835ms\n",
            "387:\tlearn: 0.3446550\ttotal: 528ms\tremaining: 833ms\n",
            "388:\tlearn: 0.3445865\ttotal: 529ms\tremaining: 832ms\n",
            "389:\tlearn: 0.3444669\ttotal: 531ms\tremaining: 830ms\n",
            "390:\tlearn: 0.3443923\ttotal: 532ms\tremaining: 828ms\n",
            "391:\tlearn: 0.3442618\ttotal: 533ms\tremaining: 827ms\n",
            "392:\tlearn: 0.3440907\ttotal: 534ms\tremaining: 825ms\n",
            "393:\tlearn: 0.3440191\ttotal: 535ms\tremaining: 824ms\n",
            "394:\tlearn: 0.3436794\ttotal: 537ms\tremaining: 822ms\n",
            "395:\tlearn: 0.3435552\ttotal: 538ms\tremaining: 820ms\n",
            "396:\tlearn: 0.3433500\ttotal: 539ms\tremaining: 819ms\n",
            "397:\tlearn: 0.3431004\ttotal: 540ms\tremaining: 817ms\n",
            "398:\tlearn: 0.3429802\ttotal: 541ms\tremaining: 816ms\n",
            "399:\tlearn: 0.3427672\ttotal: 543ms\tremaining: 814ms\n",
            "400:\tlearn: 0.3426641\ttotal: 544ms\tremaining: 812ms\n",
            "401:\tlearn: 0.3424712\ttotal: 545ms\tremaining: 811ms\n",
            "402:\tlearn: 0.3423479\ttotal: 546ms\tremaining: 809ms\n",
            "403:\tlearn: 0.3421776\ttotal: 547ms\tremaining: 808ms\n",
            "404:\tlearn: 0.3420866\ttotal: 549ms\tremaining: 806ms\n",
            "405:\tlearn: 0.3420010\ttotal: 550ms\tremaining: 804ms\n",
            "406:\tlearn: 0.3417869\ttotal: 551ms\tremaining: 803ms\n",
            "407:\tlearn: 0.3416362\ttotal: 552ms\tremaining: 801ms\n",
            "408:\tlearn: 0.3415917\ttotal: 554ms\tremaining: 800ms\n",
            "409:\tlearn: 0.3413833\ttotal: 555ms\tremaining: 798ms\n",
            "410:\tlearn: 0.3411154\ttotal: 556ms\tremaining: 797ms\n",
            "411:\tlearn: 0.3409469\ttotal: 557ms\tremaining: 795ms\n",
            "412:\tlearn: 0.3408524\ttotal: 558ms\tremaining: 794ms\n",
            "413:\tlearn: 0.3407933\ttotal: 560ms\tremaining: 792ms\n",
            "414:\tlearn: 0.3405555\ttotal: 561ms\tremaining: 791ms\n",
            "415:\tlearn: 0.3404375\ttotal: 562ms\tremaining: 789ms\n",
            "416:\tlearn: 0.3402257\ttotal: 563ms\tremaining: 787ms\n",
            "417:\tlearn: 0.3399697\ttotal: 564ms\tremaining: 786ms\n",
            "418:\tlearn: 0.3398844\ttotal: 566ms\tremaining: 785ms\n",
            "419:\tlearn: 0.3395895\ttotal: 569ms\tremaining: 786ms\n",
            "420:\tlearn: 0.3394023\ttotal: 572ms\tremaining: 787ms\n",
            "421:\tlearn: 0.3391999\ttotal: 573ms\tremaining: 785ms\n",
            "422:\tlearn: 0.3390766\ttotal: 575ms\tremaining: 784ms\n",
            "423:\tlearn: 0.3389147\ttotal: 576ms\tremaining: 782ms\n",
            "424:\tlearn: 0.3388708\ttotal: 577ms\tremaining: 781ms\n",
            "425:\tlearn: 0.3388135\ttotal: 578ms\tremaining: 779ms\n",
            "426:\tlearn: 0.3387843\ttotal: 579ms\tremaining: 777ms\n",
            "427:\tlearn: 0.3386518\ttotal: 580ms\tremaining: 775ms\n",
            "428:\tlearn: 0.3385635\ttotal: 581ms\tremaining: 774ms\n",
            "429:\tlearn: 0.3384583\ttotal: 583ms\tremaining: 772ms\n",
            "430:\tlearn: 0.3382163\ttotal: 584ms\tremaining: 771ms\n",
            "431:\tlearn: 0.3379454\ttotal: 585ms\tremaining: 769ms\n",
            "432:\tlearn: 0.3378355\ttotal: 586ms\tremaining: 767ms\n",
            "433:\tlearn: 0.3376730\ttotal: 587ms\tremaining: 766ms\n",
            "434:\tlearn: 0.3374640\ttotal: 588ms\tremaining: 764ms\n",
            "435:\tlearn: 0.3373532\ttotal: 590ms\tremaining: 763ms\n",
            "436:\tlearn: 0.3372144\ttotal: 591ms\tremaining: 761ms\n",
            "437:\tlearn: 0.3370866\ttotal: 592ms\tremaining: 760ms\n",
            "438:\tlearn: 0.3369701\ttotal: 593ms\tremaining: 758ms\n",
            "439:\tlearn: 0.3368393\ttotal: 594ms\tremaining: 757ms\n",
            "440:\tlearn: 0.3366906\ttotal: 596ms\tremaining: 755ms\n",
            "441:\tlearn: 0.3365307\ttotal: 597ms\tremaining: 754ms\n",
            "442:\tlearn: 0.3364024\ttotal: 598ms\tremaining: 752ms\n",
            "443:\tlearn: 0.3363051\ttotal: 599ms\tremaining: 751ms\n",
            "444:\tlearn: 0.3362448\ttotal: 601ms\tremaining: 749ms\n",
            "445:\tlearn: 0.3362141\ttotal: 602ms\tremaining: 747ms\n",
            "446:\tlearn: 0.3361449\ttotal: 603ms\tremaining: 746ms\n",
            "447:\tlearn: 0.3359971\ttotal: 604ms\tremaining: 744ms\n",
            "448:\tlearn: 0.3358322\ttotal: 605ms\tremaining: 743ms\n",
            "449:\tlearn: 0.3357224\ttotal: 606ms\tremaining: 741ms\n",
            "450:\tlearn: 0.3356177\ttotal: 608ms\tremaining: 740ms\n",
            "451:\tlearn: 0.3353198\ttotal: 609ms\tremaining: 738ms\n",
            "452:\tlearn: 0.3352222\ttotal: 610ms\tremaining: 737ms\n",
            "453:\tlearn: 0.3351788\ttotal: 611ms\tremaining: 735ms\n",
            "454:\tlearn: 0.3350981\ttotal: 613ms\tremaining: 734ms\n",
            "455:\tlearn: 0.3350677\ttotal: 614ms\tremaining: 732ms\n",
            "456:\tlearn: 0.3350161\ttotal: 615ms\tremaining: 731ms\n",
            "457:\tlearn: 0.3348789\ttotal: 616ms\tremaining: 729ms\n",
            "458:\tlearn: 0.3346653\ttotal: 617ms\tremaining: 728ms\n",
            "459:\tlearn: 0.3344207\ttotal: 618ms\tremaining: 726ms\n",
            "460:\tlearn: 0.3343949\ttotal: 620ms\tremaining: 725ms\n",
            "461:\tlearn: 0.3342401\ttotal: 621ms\tremaining: 723ms\n",
            "462:\tlearn: 0.3341627\ttotal: 622ms\tremaining: 721ms\n",
            "463:\tlearn: 0.3340149\ttotal: 623ms\tremaining: 720ms\n",
            "464:\tlearn: 0.3338827\ttotal: 624ms\tremaining: 718ms\n",
            "465:\tlearn: 0.3336468\ttotal: 626ms\tremaining: 717ms\n",
            "466:\tlearn: 0.3334004\ttotal: 627ms\tremaining: 715ms\n",
            "467:\tlearn: 0.3333212\ttotal: 628ms\tremaining: 714ms\n",
            "468:\tlearn: 0.3331577\ttotal: 629ms\tremaining: 712ms\n",
            "469:\tlearn: 0.3330035\ttotal: 630ms\tremaining: 711ms\n",
            "470:\tlearn: 0.3328779\ttotal: 632ms\tremaining: 709ms\n",
            "471:\tlearn: 0.3327888\ttotal: 633ms\tremaining: 708ms\n",
            "472:\tlearn: 0.3327434\ttotal: 634ms\tremaining: 707ms\n",
            "473:\tlearn: 0.3326227\ttotal: 635ms\tremaining: 705ms\n",
            "474:\tlearn: 0.3324433\ttotal: 637ms\tremaining: 704ms\n",
            "475:\tlearn: 0.3323357\ttotal: 638ms\tremaining: 702ms\n",
            "476:\tlearn: 0.3321734\ttotal: 639ms\tremaining: 701ms\n",
            "477:\tlearn: 0.3318040\ttotal: 640ms\tremaining: 699ms\n",
            "478:\tlearn: 0.3317082\ttotal: 641ms\tremaining: 698ms\n",
            "479:\tlearn: 0.3316907\ttotal: 642ms\tremaining: 696ms\n",
            "480:\tlearn: 0.3315080\ttotal: 643ms\tremaining: 694ms\n",
            "481:\tlearn: 0.3314396\ttotal: 645ms\tremaining: 693ms\n",
            "482:\tlearn: 0.3313196\ttotal: 646ms\tremaining: 691ms\n",
            "483:\tlearn: 0.3311843\ttotal: 647ms\tremaining: 690ms\n",
            "484:\tlearn: 0.3311438\ttotal: 648ms\tremaining: 688ms\n",
            "485:\tlearn: 0.3310273\ttotal: 649ms\tremaining: 687ms\n",
            "486:\tlearn: 0.3308573\ttotal: 650ms\tremaining: 685ms\n",
            "487:\tlearn: 0.3307463\ttotal: 652ms\tremaining: 684ms\n",
            "488:\tlearn: 0.3306422\ttotal: 653ms\tremaining: 682ms\n",
            "489:\tlearn: 0.3305337\ttotal: 654ms\tremaining: 681ms\n",
            "490:\tlearn: 0.3303816\ttotal: 655ms\tremaining: 679ms\n",
            "491:\tlearn: 0.3303746\ttotal: 656ms\tremaining: 677ms\n",
            "492:\tlearn: 0.3301337\ttotal: 657ms\tremaining: 676ms\n",
            "493:\tlearn: 0.3300085\ttotal: 658ms\tremaining: 674ms\n",
            "494:\tlearn: 0.3299188\ttotal: 659ms\tremaining: 673ms\n",
            "495:\tlearn: 0.3298848\ttotal: 661ms\tremaining: 671ms\n",
            "496:\tlearn: 0.3296486\ttotal: 662ms\tremaining: 670ms\n",
            "497:\tlearn: 0.3295993\ttotal: 663ms\tremaining: 668ms\n",
            "498:\tlearn: 0.3294756\ttotal: 664ms\tremaining: 667ms\n",
            "499:\tlearn: 0.3293880\ttotal: 666ms\tremaining: 666ms\n",
            "500:\tlearn: 0.3293163\ttotal: 667ms\tremaining: 664ms\n",
            "501:\tlearn: 0.3292801\ttotal: 668ms\tremaining: 663ms\n",
            "502:\tlearn: 0.3291686\ttotal: 669ms\tremaining: 661ms\n",
            "503:\tlearn: 0.3290317\ttotal: 671ms\tremaining: 660ms\n",
            "504:\tlearn: 0.3289234\ttotal: 672ms\tremaining: 658ms\n",
            "505:\tlearn: 0.3286563\ttotal: 673ms\tremaining: 657ms\n",
            "506:\tlearn: 0.3285537\ttotal: 674ms\tremaining: 656ms\n",
            "507:\tlearn: 0.3284974\ttotal: 675ms\tremaining: 654ms\n",
            "508:\tlearn: 0.3284856\ttotal: 676ms\tremaining: 652ms\n",
            "509:\tlearn: 0.3283933\ttotal: 677ms\tremaining: 651ms\n",
            "510:\tlearn: 0.3282279\ttotal: 679ms\tremaining: 649ms\n",
            "511:\tlearn: 0.3281324\ttotal: 680ms\tremaining: 648ms\n",
            "512:\tlearn: 0.3280089\ttotal: 681ms\tremaining: 647ms\n",
            "513:\tlearn: 0.3279382\ttotal: 682ms\tremaining: 645ms\n",
            "514:\tlearn: 0.3278911\ttotal: 684ms\tremaining: 644ms\n",
            "515:\tlearn: 0.3278629\ttotal: 685ms\tremaining: 642ms\n",
            "516:\tlearn: 0.3277739\ttotal: 686ms\tremaining: 641ms\n",
            "517:\tlearn: 0.3276699\ttotal: 687ms\tremaining: 639ms\n",
            "518:\tlearn: 0.3276301\ttotal: 688ms\tremaining: 638ms\n",
            "519:\tlearn: 0.3274947\ttotal: 689ms\tremaining: 636ms\n",
            "520:\tlearn: 0.3273505\ttotal: 691ms\tremaining: 635ms\n",
            "521:\tlearn: 0.3273088\ttotal: 692ms\tremaining: 634ms\n",
            "522:\tlearn: 0.3271670\ttotal: 693ms\tremaining: 632ms\n",
            "523:\tlearn: 0.3270531\ttotal: 694ms\tremaining: 631ms\n",
            "524:\tlearn: 0.3269820\ttotal: 696ms\tremaining: 629ms\n",
            "525:\tlearn: 0.3268922\ttotal: 697ms\tremaining: 628ms\n",
            "526:\tlearn: 0.3268343\ttotal: 698ms\tremaining: 626ms\n",
            "527:\tlearn: 0.3266798\ttotal: 699ms\tremaining: 625ms\n",
            "528:\tlearn: 0.3263985\ttotal: 700ms\tremaining: 624ms\n",
            "529:\tlearn: 0.3263286\ttotal: 702ms\tremaining: 622ms\n",
            "530:\tlearn: 0.3261255\ttotal: 703ms\tremaining: 621ms\n",
            "531:\tlearn: 0.3260651\ttotal: 704ms\tremaining: 619ms\n",
            "532:\tlearn: 0.3259902\ttotal: 705ms\tremaining: 618ms\n",
            "533:\tlearn: 0.3258454\ttotal: 706ms\tremaining: 616ms\n",
            "534:\tlearn: 0.3256844\ttotal: 707ms\tremaining: 615ms\n",
            "535:\tlearn: 0.3256401\ttotal: 709ms\tremaining: 613ms\n",
            "536:\tlearn: 0.3254005\ttotal: 710ms\tremaining: 612ms\n",
            "537:\tlearn: 0.3253188\ttotal: 711ms\tremaining: 611ms\n",
            "538:\tlearn: 0.3252813\ttotal: 712ms\tremaining: 609ms\n",
            "539:\tlearn: 0.3251398\ttotal: 713ms\tremaining: 608ms\n",
            "540:\tlearn: 0.3250639\ttotal: 714ms\tremaining: 606ms\n",
            "541:\tlearn: 0.3249118\ttotal: 716ms\tremaining: 605ms\n",
            "542:\tlearn: 0.3247699\ttotal: 717ms\tremaining: 603ms\n",
            "543:\tlearn: 0.3246207\ttotal: 718ms\tremaining: 602ms\n",
            "544:\tlearn: 0.3244403\ttotal: 719ms\tremaining: 601ms\n",
            "545:\tlearn: 0.3242898\ttotal: 721ms\tremaining: 599ms\n",
            "546:\tlearn: 0.3242168\ttotal: 722ms\tremaining: 598ms\n",
            "547:\tlearn: 0.3240658\ttotal: 723ms\tremaining: 596ms\n",
            "548:\tlearn: 0.3240111\ttotal: 724ms\tremaining: 595ms\n",
            "549:\tlearn: 0.3238403\ttotal: 726ms\tremaining: 594ms\n",
            "550:\tlearn: 0.3237962\ttotal: 727ms\tremaining: 592ms\n",
            "551:\tlearn: 0.3236505\ttotal: 728ms\tremaining: 591ms\n",
            "552:\tlearn: 0.3235052\ttotal: 729ms\tremaining: 589ms\n",
            "553:\tlearn: 0.3232407\ttotal: 732ms\tremaining: 589ms\n",
            "554:\tlearn: 0.3231363\ttotal: 734ms\tremaining: 588ms\n",
            "555:\tlearn: 0.3231029\ttotal: 735ms\tremaining: 587ms\n",
            "556:\tlearn: 0.3229261\ttotal: 736ms\tremaining: 586ms\n",
            "557:\tlearn: 0.3228571\ttotal: 738ms\tremaining: 584ms\n",
            "558:\tlearn: 0.3227657\ttotal: 739ms\tremaining: 583ms\n",
            "559:\tlearn: 0.3226726\ttotal: 741ms\tremaining: 582ms\n",
            "560:\tlearn: 0.3225850\ttotal: 743ms\tremaining: 581ms\n",
            "561:\tlearn: 0.3224697\ttotal: 744ms\tremaining: 580ms\n",
            "562:\tlearn: 0.3222984\ttotal: 745ms\tremaining: 578ms\n",
            "563:\tlearn: 0.3222484\ttotal: 746ms\tremaining: 577ms\n",
            "564:\tlearn: 0.3221945\ttotal: 747ms\tremaining: 575ms\n",
            "565:\tlearn: 0.3221377\ttotal: 749ms\tremaining: 574ms\n",
            "566:\tlearn: 0.3220968\ttotal: 750ms\tremaining: 573ms\n",
            "567:\tlearn: 0.3219997\ttotal: 752ms\tremaining: 572ms\n",
            "568:\tlearn: 0.3217513\ttotal: 756ms\tremaining: 572ms\n",
            "569:\tlearn: 0.3216140\ttotal: 757ms\tremaining: 571ms\n",
            "570:\tlearn: 0.3215728\ttotal: 758ms\tremaining: 570ms\n",
            "571:\tlearn: 0.3214429\ttotal: 759ms\tremaining: 568ms\n",
            "572:\tlearn: 0.3213207\ttotal: 761ms\tremaining: 567ms\n",
            "573:\tlearn: 0.3211987\ttotal: 762ms\tremaining: 565ms\n",
            "574:\tlearn: 0.3209780\ttotal: 763ms\tremaining: 564ms\n",
            "575:\tlearn: 0.3208916\ttotal: 764ms\tremaining: 563ms\n",
            "576:\tlearn: 0.3208466\ttotal: 765ms\tremaining: 561ms\n",
            "577:\tlearn: 0.3208095\ttotal: 767ms\tremaining: 560ms\n",
            "578:\tlearn: 0.3208000\ttotal: 767ms\tremaining: 558ms\n",
            "579:\tlearn: 0.3207275\ttotal: 769ms\tremaining: 557ms\n",
            "580:\tlearn: 0.3206398\ttotal: 770ms\tremaining: 555ms\n",
            "581:\tlearn: 0.3204393\ttotal: 772ms\tremaining: 554ms\n",
            "582:\tlearn: 0.3202998\ttotal: 773ms\tremaining: 553ms\n",
            "583:\tlearn: 0.3202425\ttotal: 774ms\tremaining: 552ms\n",
            "584:\tlearn: 0.3200943\ttotal: 776ms\tremaining: 550ms\n",
            "585:\tlearn: 0.3200304\ttotal: 777ms\tremaining: 549ms\n",
            "586:\tlearn: 0.3199360\ttotal: 778ms\tremaining: 547ms\n",
            "587:\tlearn: 0.3198405\ttotal: 779ms\tremaining: 546ms\n",
            "588:\tlearn: 0.3196469\ttotal: 780ms\tremaining: 545ms\n",
            "589:\tlearn: 0.3196083\ttotal: 782ms\tremaining: 543ms\n",
            "590:\tlearn: 0.3194753\ttotal: 783ms\tremaining: 542ms\n",
            "591:\tlearn: 0.3193593\ttotal: 784ms\tremaining: 540ms\n",
            "592:\tlearn: 0.3191109\ttotal: 785ms\tremaining: 539ms\n",
            "593:\tlearn: 0.3190337\ttotal: 786ms\tremaining: 538ms\n",
            "594:\tlearn: 0.3189545\ttotal: 788ms\tremaining: 536ms\n",
            "595:\tlearn: 0.3189284\ttotal: 789ms\tremaining: 535ms\n",
            "596:\tlearn: 0.3188138\ttotal: 790ms\tremaining: 533ms\n",
            "597:\tlearn: 0.3187221\ttotal: 791ms\tremaining: 532ms\n",
            "598:\tlearn: 0.3187024\ttotal: 792ms\tremaining: 530ms\n",
            "599:\tlearn: 0.3186037\ttotal: 794ms\tremaining: 529ms\n",
            "600:\tlearn: 0.3184550\ttotal: 795ms\tremaining: 528ms\n",
            "601:\tlearn: 0.3183665\ttotal: 796ms\tremaining: 526ms\n",
            "602:\tlearn: 0.3181980\ttotal: 797ms\tremaining: 525ms\n",
            "603:\tlearn: 0.3180402\ttotal: 798ms\tremaining: 523ms\n",
            "604:\tlearn: 0.3179278\ttotal: 800ms\tremaining: 522ms\n",
            "605:\tlearn: 0.3178357\ttotal: 801ms\tremaining: 521ms\n",
            "606:\tlearn: 0.3176332\ttotal: 802ms\tremaining: 519ms\n",
            "607:\tlearn: 0.3175354\ttotal: 803ms\tremaining: 518ms\n",
            "608:\tlearn: 0.3174895\ttotal: 804ms\tremaining: 516ms\n",
            "609:\tlearn: 0.3174556\ttotal: 806ms\tremaining: 515ms\n",
            "610:\tlearn: 0.3172658\ttotal: 807ms\tremaining: 514ms\n",
            "611:\tlearn: 0.3171073\ttotal: 808ms\tremaining: 512ms\n",
            "612:\tlearn: 0.3169645\ttotal: 809ms\tremaining: 511ms\n",
            "613:\tlearn: 0.3168284\ttotal: 810ms\tremaining: 509ms\n",
            "614:\tlearn: 0.3167694\ttotal: 812ms\tremaining: 508ms\n",
            "615:\tlearn: 0.3166734\ttotal: 813ms\tremaining: 507ms\n",
            "616:\tlearn: 0.3166104\ttotal: 814ms\tremaining: 505ms\n",
            "617:\tlearn: 0.3165358\ttotal: 815ms\tremaining: 504ms\n",
            "618:\tlearn: 0.3164383\ttotal: 816ms\tremaining: 503ms\n",
            "619:\tlearn: 0.3163956\ttotal: 818ms\tremaining: 501ms\n",
            "620:\tlearn: 0.3163352\ttotal: 819ms\tremaining: 500ms\n",
            "621:\tlearn: 0.3161923\ttotal: 820ms\tremaining: 498ms\n",
            "622:\tlearn: 0.3161105\ttotal: 821ms\tremaining: 497ms\n",
            "623:\tlearn: 0.3160403\ttotal: 822ms\tremaining: 496ms\n",
            "624:\tlearn: 0.3160036\ttotal: 824ms\tremaining: 494ms\n",
            "625:\tlearn: 0.3158946\ttotal: 825ms\tremaining: 493ms\n",
            "626:\tlearn: 0.3158394\ttotal: 826ms\tremaining: 491ms\n",
            "627:\tlearn: 0.3156960\ttotal: 827ms\tremaining: 490ms\n",
            "628:\tlearn: 0.3156168\ttotal: 829ms\tremaining: 489ms\n",
            "629:\tlearn: 0.3154496\ttotal: 830ms\tremaining: 487ms\n",
            "630:\tlearn: 0.3153972\ttotal: 831ms\tremaining: 486ms\n",
            "631:\tlearn: 0.3153722\ttotal: 832ms\tremaining: 485ms\n",
            "632:\tlearn: 0.3151979\ttotal: 834ms\tremaining: 483ms\n",
            "633:\tlearn: 0.3150785\ttotal: 835ms\tremaining: 482ms\n",
            "634:\tlearn: 0.3149913\ttotal: 836ms\tremaining: 480ms\n",
            "635:\tlearn: 0.3148138\ttotal: 837ms\tremaining: 479ms\n",
            "636:\tlearn: 0.3147839\ttotal: 838ms\tremaining: 478ms\n",
            "637:\tlearn: 0.3147672\ttotal: 840ms\tremaining: 476ms\n",
            "638:\tlearn: 0.3147291\ttotal: 841ms\tremaining: 475ms\n",
            "639:\tlearn: 0.3146113\ttotal: 842ms\tremaining: 474ms\n",
            "640:\tlearn: 0.3145003\ttotal: 843ms\tremaining: 472ms\n",
            "641:\tlearn: 0.3144063\ttotal: 845ms\tremaining: 471ms\n",
            "642:\tlearn: 0.3143048\ttotal: 846ms\tremaining: 470ms\n",
            "643:\tlearn: 0.3140890\ttotal: 847ms\tremaining: 468ms\n",
            "644:\tlearn: 0.3140051\ttotal: 848ms\tremaining: 467ms\n",
            "645:\tlearn: 0.3138817\ttotal: 849ms\tremaining: 465ms\n",
            "646:\tlearn: 0.3137852\ttotal: 850ms\tremaining: 464ms\n",
            "647:\tlearn: 0.3136761\ttotal: 852ms\tremaining: 463ms\n",
            "648:\tlearn: 0.3135709\ttotal: 853ms\tremaining: 461ms\n",
            "649:\tlearn: 0.3134907\ttotal: 854ms\tremaining: 460ms\n",
            "650:\tlearn: 0.3133862\ttotal: 855ms\tremaining: 459ms\n",
            "651:\tlearn: 0.3132917\ttotal: 857ms\tremaining: 457ms\n",
            "652:\tlearn: 0.3132194\ttotal: 858ms\tremaining: 456ms\n",
            "653:\tlearn: 0.3131550\ttotal: 859ms\tremaining: 454ms\n",
            "654:\tlearn: 0.3130886\ttotal: 860ms\tremaining: 453ms\n",
            "655:\tlearn: 0.3130371\ttotal: 861ms\tremaining: 452ms\n",
            "656:\tlearn: 0.3130049\ttotal: 863ms\tremaining: 450ms\n",
            "657:\tlearn: 0.3129141\ttotal: 864ms\tremaining: 449ms\n",
            "658:\tlearn: 0.3127224\ttotal: 865ms\tremaining: 448ms\n",
            "659:\tlearn: 0.3126788\ttotal: 866ms\tremaining: 446ms\n",
            "660:\tlearn: 0.3126304\ttotal: 867ms\tremaining: 445ms\n",
            "661:\tlearn: 0.3124429\ttotal: 869ms\tremaining: 443ms\n",
            "662:\tlearn: 0.3122067\ttotal: 870ms\tremaining: 442ms\n",
            "663:\tlearn: 0.3121145\ttotal: 871ms\tremaining: 441ms\n",
            "664:\tlearn: 0.3120326\ttotal: 872ms\tremaining: 439ms\n",
            "665:\tlearn: 0.3119815\ttotal: 873ms\tremaining: 438ms\n",
            "666:\tlearn: 0.3118959\ttotal: 875ms\tremaining: 437ms\n",
            "667:\tlearn: 0.3116937\ttotal: 876ms\tremaining: 435ms\n",
            "668:\tlearn: 0.3116548\ttotal: 877ms\tremaining: 434ms\n",
            "669:\tlearn: 0.3114724\ttotal: 878ms\tremaining: 433ms\n",
            "670:\tlearn: 0.3114181\ttotal: 880ms\tremaining: 431ms\n",
            "671:\tlearn: 0.3113514\ttotal: 881ms\tremaining: 430ms\n",
            "672:\tlearn: 0.3113431\ttotal: 882ms\tremaining: 429ms\n",
            "673:\tlearn: 0.3112534\ttotal: 883ms\tremaining: 427ms\n",
            "674:\tlearn: 0.3111355\ttotal: 884ms\tremaining: 426ms\n",
            "675:\tlearn: 0.3108346\ttotal: 886ms\tremaining: 424ms\n",
            "676:\tlearn: 0.3107372\ttotal: 887ms\tremaining: 423ms\n",
            "677:\tlearn: 0.3106024\ttotal: 888ms\tremaining: 422ms\n",
            "678:\tlearn: 0.3105043\ttotal: 889ms\tremaining: 420ms\n",
            "679:\tlearn: 0.3102733\ttotal: 890ms\tremaining: 419ms\n",
            "680:\tlearn: 0.3102310\ttotal: 892ms\tremaining: 418ms\n",
            "681:\tlearn: 0.3101360\ttotal: 893ms\tremaining: 416ms\n",
            "682:\tlearn: 0.3100430\ttotal: 894ms\tremaining: 415ms\n",
            "683:\tlearn: 0.3098492\ttotal: 895ms\tremaining: 414ms\n",
            "684:\tlearn: 0.3098292\ttotal: 896ms\tremaining: 412ms\n",
            "685:\tlearn: 0.3096859\ttotal: 898ms\tremaining: 411ms\n",
            "686:\tlearn: 0.3095035\ttotal: 899ms\tremaining: 409ms\n",
            "687:\tlearn: 0.3093604\ttotal: 900ms\tremaining: 408ms\n",
            "688:\tlearn: 0.3092981\ttotal: 901ms\tremaining: 407ms\n",
            "689:\tlearn: 0.3092336\ttotal: 902ms\tremaining: 405ms\n",
            "690:\tlearn: 0.3091782\ttotal: 904ms\tremaining: 404ms\n",
            "691:\tlearn: 0.3090792\ttotal: 905ms\tremaining: 403ms\n",
            "692:\tlearn: 0.3088882\ttotal: 906ms\tremaining: 401ms\n",
            "693:\tlearn: 0.3086629\ttotal: 907ms\tremaining: 400ms\n",
            "694:\tlearn: 0.3085990\ttotal: 908ms\tremaining: 399ms\n",
            "695:\tlearn: 0.3085431\ttotal: 910ms\tremaining: 397ms\n",
            "696:\tlearn: 0.3085211\ttotal: 911ms\tremaining: 396ms\n",
            "697:\tlearn: 0.3082907\ttotal: 912ms\tremaining: 395ms\n",
            "698:\tlearn: 0.3081836\ttotal: 913ms\tremaining: 393ms\n",
            "699:\tlearn: 0.3079735\ttotal: 914ms\tremaining: 392ms\n",
            "700:\tlearn: 0.3079083\ttotal: 916ms\tremaining: 391ms\n",
            "701:\tlearn: 0.3073787\ttotal: 917ms\tremaining: 389ms\n",
            "702:\tlearn: 0.3072981\ttotal: 918ms\tremaining: 388ms\n",
            "703:\tlearn: 0.3072430\ttotal: 919ms\tremaining: 387ms\n",
            "704:\tlearn: 0.3070374\ttotal: 920ms\tremaining: 385ms\n",
            "705:\tlearn: 0.3068459\ttotal: 922ms\tremaining: 384ms\n",
            "706:\tlearn: 0.3067986\ttotal: 923ms\tremaining: 382ms\n",
            "707:\tlearn: 0.3067356\ttotal: 924ms\tremaining: 381ms\n",
            "708:\tlearn: 0.3065827\ttotal: 925ms\tremaining: 380ms\n",
            "709:\tlearn: 0.3065191\ttotal: 927ms\tremaining: 378ms\n",
            "710:\tlearn: 0.3063475\ttotal: 928ms\tremaining: 377ms\n",
            "711:\tlearn: 0.3062630\ttotal: 929ms\tremaining: 376ms\n",
            "712:\tlearn: 0.3061682\ttotal: 930ms\tremaining: 374ms\n",
            "713:\tlearn: 0.3060287\ttotal: 931ms\tremaining: 373ms\n",
            "714:\tlearn: 0.3059533\ttotal: 933ms\tremaining: 372ms\n",
            "715:\tlearn: 0.3059024\ttotal: 934ms\tremaining: 370ms\n",
            "716:\tlearn: 0.3058529\ttotal: 935ms\tremaining: 369ms\n",
            "717:\tlearn: 0.3057535\ttotal: 936ms\tremaining: 368ms\n",
            "718:\tlearn: 0.3056868\ttotal: 938ms\tremaining: 366ms\n",
            "719:\tlearn: 0.3056457\ttotal: 940ms\tremaining: 366ms\n",
            "720:\tlearn: 0.3056199\ttotal: 942ms\tremaining: 364ms\n",
            "721:\tlearn: 0.3055569\ttotal: 944ms\tremaining: 364ms\n",
            "722:\tlearn: 0.3055035\ttotal: 946ms\tremaining: 362ms\n",
            "723:\tlearn: 0.3053120\ttotal: 947ms\tremaining: 361ms\n",
            "724:\tlearn: 0.3052540\ttotal: 948ms\tremaining: 360ms\n",
            "725:\tlearn: 0.3050792\ttotal: 949ms\tremaining: 358ms\n",
            "726:\tlearn: 0.3049819\ttotal: 951ms\tremaining: 357ms\n",
            "727:\tlearn: 0.3047132\ttotal: 952ms\tremaining: 356ms\n",
            "728:\tlearn: 0.3046882\ttotal: 953ms\tremaining: 354ms\n",
            "729:\tlearn: 0.3045007\ttotal: 954ms\tremaining: 353ms\n",
            "730:\tlearn: 0.3043854\ttotal: 955ms\tremaining: 352ms\n",
            "731:\tlearn: 0.3043581\ttotal: 956ms\tremaining: 350ms\n",
            "732:\tlearn: 0.3042374\ttotal: 957ms\tremaining: 349ms\n",
            "733:\tlearn: 0.3041338\ttotal: 959ms\tremaining: 347ms\n",
            "734:\tlearn: 0.3040361\ttotal: 960ms\tremaining: 346ms\n",
            "735:\tlearn: 0.3038368\ttotal: 961ms\tremaining: 345ms\n",
            "736:\tlearn: 0.3036782\ttotal: 962ms\tremaining: 343ms\n",
            "737:\tlearn: 0.3036522\ttotal: 963ms\tremaining: 342ms\n",
            "738:\tlearn: 0.3036088\ttotal: 964ms\tremaining: 341ms\n",
            "739:\tlearn: 0.3035071\ttotal: 966ms\tremaining: 339ms\n",
            "740:\tlearn: 0.3034327\ttotal: 967ms\tremaining: 338ms\n",
            "741:\tlearn: 0.3033883\ttotal: 968ms\tremaining: 337ms\n",
            "742:\tlearn: 0.3033740\ttotal: 969ms\tremaining: 335ms\n",
            "743:\tlearn: 0.3032128\ttotal: 970ms\tremaining: 334ms\n",
            "744:\tlearn: 0.3031594\ttotal: 972ms\tremaining: 333ms\n",
            "745:\tlearn: 0.3030852\ttotal: 973ms\tremaining: 331ms\n",
            "746:\tlearn: 0.3029596\ttotal: 974ms\tremaining: 330ms\n",
            "747:\tlearn: 0.3028863\ttotal: 975ms\tremaining: 329ms\n",
            "748:\tlearn: 0.3028254\ttotal: 976ms\tremaining: 327ms\n",
            "749:\tlearn: 0.3027789\ttotal: 978ms\tremaining: 326ms\n",
            "750:\tlearn: 0.3025639\ttotal: 979ms\tremaining: 325ms\n",
            "751:\tlearn: 0.3024663\ttotal: 980ms\tremaining: 323ms\n",
            "752:\tlearn: 0.3024276\ttotal: 981ms\tremaining: 322ms\n",
            "753:\tlearn: 0.3023899\ttotal: 982ms\tremaining: 321ms\n",
            "754:\tlearn: 0.3023529\ttotal: 984ms\tremaining: 319ms\n",
            "755:\tlearn: 0.3022892\ttotal: 985ms\tremaining: 318ms\n",
            "756:\tlearn: 0.3022091\ttotal: 986ms\tremaining: 317ms\n",
            "757:\tlearn: 0.3020865\ttotal: 987ms\tremaining: 315ms\n",
            "758:\tlearn: 0.3019838\ttotal: 988ms\tremaining: 314ms\n",
            "759:\tlearn: 0.3019550\ttotal: 990ms\tremaining: 313ms\n",
            "760:\tlearn: 0.3019103\ttotal: 991ms\tremaining: 311ms\n",
            "761:\tlearn: 0.3018930\ttotal: 992ms\tremaining: 310ms\n",
            "762:\tlearn: 0.3016583\ttotal: 993ms\tremaining: 309ms\n",
            "763:\tlearn: 0.3015970\ttotal: 994ms\tremaining: 307ms\n",
            "764:\tlearn: 0.3013815\ttotal: 996ms\tremaining: 306ms\n",
            "765:\tlearn: 0.3013442\ttotal: 997ms\tremaining: 304ms\n",
            "766:\tlearn: 0.3012100\ttotal: 998ms\tremaining: 303ms\n",
            "767:\tlearn: 0.3011113\ttotal: 999ms\tremaining: 302ms\n",
            "768:\tlearn: 0.3010010\ttotal: 1s\tremaining: 301ms\n",
            "769:\tlearn: 0.3009872\ttotal: 1s\tremaining: 299ms\n",
            "770:\tlearn: 0.3009320\ttotal: 1s\tremaining: 298ms\n",
            "771:\tlearn: 0.3008467\ttotal: 1s\tremaining: 297ms\n",
            "772:\tlearn: 0.3007621\ttotal: 1s\tremaining: 295ms\n",
            "773:\tlearn: 0.3006865\ttotal: 1.01s\tremaining: 294ms\n",
            "774:\tlearn: 0.3006528\ttotal: 1.01s\tremaining: 293ms\n",
            "775:\tlearn: 0.3006214\ttotal: 1.01s\tremaining: 291ms\n",
            "776:\tlearn: 0.3004434\ttotal: 1.01s\tremaining: 290ms\n",
            "777:\tlearn: 0.3003950\ttotal: 1.01s\tremaining: 289ms\n",
            "778:\tlearn: 0.3003826\ttotal: 1.01s\tremaining: 287ms\n",
            "779:\tlearn: 0.3003221\ttotal: 1.01s\tremaining: 286ms\n",
            "780:\tlearn: 0.3001542\ttotal: 1.01s\tremaining: 284ms\n",
            "781:\tlearn: 0.2999787\ttotal: 1.01s\tremaining: 283ms\n",
            "782:\tlearn: 0.2999158\ttotal: 1.02s\tremaining: 282ms\n",
            "783:\tlearn: 0.2998909\ttotal: 1.02s\tremaining: 280ms\n",
            "784:\tlearn: 0.2997131\ttotal: 1.02s\tremaining: 279ms\n",
            "785:\tlearn: 0.2996099\ttotal: 1.02s\tremaining: 278ms\n",
            "786:\tlearn: 0.2993468\ttotal: 1.02s\tremaining: 276ms\n",
            "787:\tlearn: 0.2992796\ttotal: 1.02s\tremaining: 275ms\n",
            "788:\tlearn: 0.2990224\ttotal: 1.02s\tremaining: 274ms\n",
            "789:\tlearn: 0.2989595\ttotal: 1.02s\tremaining: 272ms\n",
            "790:\tlearn: 0.2988557\ttotal: 1.03s\tremaining: 271ms\n",
            "791:\tlearn: 0.2985437\ttotal: 1.03s\tremaining: 270ms\n",
            "792:\tlearn: 0.2984317\ttotal: 1.03s\tremaining: 268ms\n",
            "793:\tlearn: 0.2982372\ttotal: 1.03s\tremaining: 267ms\n",
            "794:\tlearn: 0.2982125\ttotal: 1.03s\tremaining: 266ms\n",
            "795:\tlearn: 0.2981483\ttotal: 1.03s\tremaining: 264ms\n",
            "796:\tlearn: 0.2981045\ttotal: 1.03s\tremaining: 263ms\n",
            "797:\tlearn: 0.2980386\ttotal: 1.03s\tremaining: 262ms\n",
            "798:\tlearn: 0.2979790\ttotal: 1.03s\tremaining: 261ms\n",
            "799:\tlearn: 0.2977337\ttotal: 1.04s\tremaining: 259ms\n",
            "800:\tlearn: 0.2975776\ttotal: 1.04s\tremaining: 258ms\n",
            "801:\tlearn: 0.2974684\ttotal: 1.04s\tremaining: 257ms\n",
            "802:\tlearn: 0.2972742\ttotal: 1.04s\tremaining: 255ms\n",
            "803:\tlearn: 0.2972090\ttotal: 1.04s\tremaining: 254ms\n",
            "804:\tlearn: 0.2971301\ttotal: 1.04s\tremaining: 253ms\n",
            "805:\tlearn: 0.2970981\ttotal: 1.04s\tremaining: 251ms\n",
            "806:\tlearn: 0.2970379\ttotal: 1.04s\tremaining: 250ms\n",
            "807:\tlearn: 0.2969049\ttotal: 1.05s\tremaining: 249ms\n",
            "808:\tlearn: 0.2966775\ttotal: 1.05s\tremaining: 247ms\n",
            "809:\tlearn: 0.2966338\ttotal: 1.05s\tremaining: 246ms\n",
            "810:\tlearn: 0.2965540\ttotal: 1.05s\tremaining: 245ms\n",
            "811:\tlearn: 0.2964705\ttotal: 1.05s\tremaining: 243ms\n",
            "812:\tlearn: 0.2964040\ttotal: 1.05s\tremaining: 242ms\n",
            "813:\tlearn: 0.2963102\ttotal: 1.05s\tremaining: 241ms\n",
            "814:\tlearn: 0.2962258\ttotal: 1.05s\tremaining: 239ms\n",
            "815:\tlearn: 0.2961319\ttotal: 1.06s\tremaining: 238ms\n",
            "816:\tlearn: 0.2960368\ttotal: 1.06s\tremaining: 237ms\n",
            "817:\tlearn: 0.2959733\ttotal: 1.06s\tremaining: 236ms\n",
            "818:\tlearn: 0.2959136\ttotal: 1.06s\tremaining: 234ms\n",
            "819:\tlearn: 0.2958121\ttotal: 1.06s\tremaining: 233ms\n",
            "820:\tlearn: 0.2954416\ttotal: 1.06s\tremaining: 232ms\n",
            "821:\tlearn: 0.2953914\ttotal: 1.06s\tremaining: 230ms\n",
            "822:\tlearn: 0.2952854\ttotal: 1.06s\tremaining: 229ms\n",
            "823:\tlearn: 0.2951490\ttotal: 1.06s\tremaining: 228ms\n",
            "824:\tlearn: 0.2949301\ttotal: 1.07s\tremaining: 226ms\n",
            "825:\tlearn: 0.2948380\ttotal: 1.07s\tremaining: 225ms\n",
            "826:\tlearn: 0.2947617\ttotal: 1.07s\tremaining: 224ms\n",
            "827:\tlearn: 0.2946197\ttotal: 1.07s\tremaining: 222ms\n",
            "828:\tlearn: 0.2944993\ttotal: 1.07s\tremaining: 221ms\n",
            "829:\tlearn: 0.2944064\ttotal: 1.07s\tremaining: 220ms\n",
            "830:\tlearn: 0.2944008\ttotal: 1.07s\tremaining: 218ms\n",
            "831:\tlearn: 0.2942430\ttotal: 1.07s\tremaining: 217ms\n",
            "832:\tlearn: 0.2941912\ttotal: 1.08s\tremaining: 216ms\n",
            "833:\tlearn: 0.2938655\ttotal: 1.08s\tremaining: 214ms\n",
            "834:\tlearn: 0.2937201\ttotal: 1.08s\tremaining: 213ms\n",
            "835:\tlearn: 0.2936639\ttotal: 1.08s\tremaining: 212ms\n",
            "836:\tlearn: 0.2935512\ttotal: 1.08s\tremaining: 210ms\n",
            "837:\tlearn: 0.2934581\ttotal: 1.08s\tremaining: 209ms\n",
            "838:\tlearn: 0.2932518\ttotal: 1.08s\tremaining: 208ms\n",
            "839:\tlearn: 0.2930108\ttotal: 1.08s\tremaining: 207ms\n",
            "840:\tlearn: 0.2929711\ttotal: 1.08s\tremaining: 205ms\n",
            "841:\tlearn: 0.2927478\ttotal: 1.09s\tremaining: 204ms\n",
            "842:\tlearn: 0.2926118\ttotal: 1.09s\tremaining: 203ms\n",
            "843:\tlearn: 0.2924691\ttotal: 1.09s\tremaining: 201ms\n",
            "844:\tlearn: 0.2924294\ttotal: 1.09s\tremaining: 200ms\n",
            "845:\tlearn: 0.2923044\ttotal: 1.09s\tremaining: 199ms\n",
            "846:\tlearn: 0.2921786\ttotal: 1.09s\tremaining: 197ms\n",
            "847:\tlearn: 0.2921011\ttotal: 1.09s\tremaining: 196ms\n",
            "848:\tlearn: 0.2918712\ttotal: 1.09s\tremaining: 195ms\n",
            "849:\tlearn: 0.2917779\ttotal: 1.1s\tremaining: 194ms\n",
            "850:\tlearn: 0.2917064\ttotal: 1.1s\tremaining: 192ms\n",
            "851:\tlearn: 0.2916341\ttotal: 1.1s\tremaining: 191ms\n",
            "852:\tlearn: 0.2915770\ttotal: 1.1s\tremaining: 190ms\n",
            "853:\tlearn: 0.2915163\ttotal: 1.1s\tremaining: 189ms\n",
            "854:\tlearn: 0.2914609\ttotal: 1.1s\tremaining: 187ms\n",
            "855:\tlearn: 0.2914318\ttotal: 1.11s\tremaining: 186ms\n",
            "856:\tlearn: 0.2913949\ttotal: 1.11s\tremaining: 185ms\n",
            "857:\tlearn: 0.2911555\ttotal: 1.11s\tremaining: 184ms\n",
            "858:\tlearn: 0.2910909\ttotal: 1.11s\tremaining: 182ms\n",
            "859:\tlearn: 0.2910695\ttotal: 1.11s\tremaining: 181ms\n",
            "860:\tlearn: 0.2909403\ttotal: 1.11s\tremaining: 180ms\n",
            "861:\tlearn: 0.2908560\ttotal: 1.11s\tremaining: 179ms\n",
            "862:\tlearn: 0.2907593\ttotal: 1.12s\tremaining: 177ms\n",
            "863:\tlearn: 0.2906288\ttotal: 1.12s\tremaining: 176ms\n",
            "864:\tlearn: 0.2905413\ttotal: 1.12s\tremaining: 175ms\n",
            "865:\tlearn: 0.2904711\ttotal: 1.12s\tremaining: 173ms\n",
            "866:\tlearn: 0.2902066\ttotal: 1.12s\tremaining: 172ms\n",
            "867:\tlearn: 0.2900888\ttotal: 1.12s\tremaining: 171ms\n",
            "868:\tlearn: 0.2900151\ttotal: 1.12s\tremaining: 169ms\n",
            "869:\tlearn: 0.2898820\ttotal: 1.12s\tremaining: 168ms\n",
            "870:\tlearn: 0.2898002\ttotal: 1.13s\tremaining: 167ms\n",
            "871:\tlearn: 0.2897266\ttotal: 1.13s\tremaining: 165ms\n",
            "872:\tlearn: 0.2896666\ttotal: 1.13s\tremaining: 164ms\n",
            "873:\tlearn: 0.2895613\ttotal: 1.13s\tremaining: 163ms\n",
            "874:\tlearn: 0.2895223\ttotal: 1.13s\tremaining: 162ms\n",
            "875:\tlearn: 0.2892875\ttotal: 1.13s\tremaining: 161ms\n",
            "876:\tlearn: 0.2891995\ttotal: 1.14s\tremaining: 159ms\n",
            "877:\tlearn: 0.2891612\ttotal: 1.14s\tremaining: 158ms\n",
            "878:\tlearn: 0.2891363\ttotal: 1.14s\tremaining: 157ms\n",
            "879:\tlearn: 0.2888828\ttotal: 1.14s\tremaining: 155ms\n",
            "880:\tlearn: 0.2887665\ttotal: 1.14s\tremaining: 154ms\n",
            "881:\tlearn: 0.2885407\ttotal: 1.14s\tremaining: 153ms\n",
            "882:\tlearn: 0.2884931\ttotal: 1.14s\tremaining: 151ms\n",
            "883:\tlearn: 0.2884506\ttotal: 1.14s\tremaining: 150ms\n",
            "884:\tlearn: 0.2883924\ttotal: 1.15s\tremaining: 149ms\n",
            "885:\tlearn: 0.2882766\ttotal: 1.15s\tremaining: 148ms\n",
            "886:\tlearn: 0.2882279\ttotal: 1.15s\tremaining: 146ms\n",
            "887:\tlearn: 0.2881852\ttotal: 1.15s\tremaining: 145ms\n",
            "888:\tlearn: 0.2880830\ttotal: 1.15s\tremaining: 144ms\n",
            "889:\tlearn: 0.2880303\ttotal: 1.15s\tremaining: 142ms\n",
            "890:\tlearn: 0.2877708\ttotal: 1.15s\tremaining: 141ms\n",
            "891:\tlearn: 0.2876366\ttotal: 1.15s\tremaining: 140ms\n",
            "892:\tlearn: 0.2875687\ttotal: 1.16s\tremaining: 138ms\n",
            "893:\tlearn: 0.2873699\ttotal: 1.16s\tremaining: 137ms\n",
            "894:\tlearn: 0.2872212\ttotal: 1.16s\tremaining: 136ms\n",
            "895:\tlearn: 0.2871945\ttotal: 1.16s\tremaining: 134ms\n",
            "896:\tlearn: 0.2871154\ttotal: 1.16s\tremaining: 133ms\n",
            "897:\tlearn: 0.2869791\ttotal: 1.16s\tremaining: 132ms\n",
            "898:\tlearn: 0.2867860\ttotal: 1.16s\tremaining: 131ms\n",
            "899:\tlearn: 0.2867383\ttotal: 1.16s\tremaining: 129ms\n",
            "900:\tlearn: 0.2865624\ttotal: 1.16s\tremaining: 128ms\n",
            "901:\tlearn: 0.2863418\ttotal: 1.17s\tremaining: 127ms\n",
            "902:\tlearn: 0.2863103\ttotal: 1.17s\tremaining: 125ms\n",
            "903:\tlearn: 0.2862129\ttotal: 1.17s\tremaining: 124ms\n",
            "904:\tlearn: 0.2861576\ttotal: 1.17s\tremaining: 123ms\n",
            "905:\tlearn: 0.2861108\ttotal: 1.17s\tremaining: 121ms\n",
            "906:\tlearn: 0.2859965\ttotal: 1.17s\tremaining: 120ms\n",
            "907:\tlearn: 0.2859250\ttotal: 1.17s\tremaining: 119ms\n",
            "908:\tlearn: 0.2857975\ttotal: 1.18s\tremaining: 118ms\n",
            "909:\tlearn: 0.2856333\ttotal: 1.18s\tremaining: 116ms\n",
            "910:\tlearn: 0.2855666\ttotal: 1.18s\tremaining: 115ms\n",
            "911:\tlearn: 0.2855004\ttotal: 1.18s\tremaining: 114ms\n",
            "912:\tlearn: 0.2854752\ttotal: 1.18s\tremaining: 113ms\n",
            "913:\tlearn: 0.2854263\ttotal: 1.18s\tremaining: 111ms\n",
            "914:\tlearn: 0.2851758\ttotal: 1.18s\tremaining: 110ms\n",
            "915:\tlearn: 0.2850954\ttotal: 1.18s\tremaining: 109ms\n",
            "916:\tlearn: 0.2850349\ttotal: 1.19s\tremaining: 107ms\n",
            "917:\tlearn: 0.2849582\ttotal: 1.19s\tremaining: 106ms\n",
            "918:\tlearn: 0.2849217\ttotal: 1.19s\tremaining: 105ms\n",
            "919:\tlearn: 0.2849154\ttotal: 1.19s\tremaining: 103ms\n",
            "920:\tlearn: 0.2848164\ttotal: 1.19s\tremaining: 102ms\n",
            "921:\tlearn: 0.2846770\ttotal: 1.19s\tremaining: 101ms\n",
            "922:\tlearn: 0.2846151\ttotal: 1.19s\tremaining: 99.5ms\n",
            "923:\tlearn: 0.2844617\ttotal: 1.19s\tremaining: 98.2ms\n",
            "924:\tlearn: 0.2843247\ttotal: 1.2s\tremaining: 96.9ms\n",
            "925:\tlearn: 0.2842139\ttotal: 1.2s\tremaining: 95.6ms\n",
            "926:\tlearn: 0.2841672\ttotal: 1.2s\tremaining: 94.3ms\n",
            "927:\tlearn: 0.2840394\ttotal: 1.2s\tremaining: 93ms\n",
            "928:\tlearn: 0.2839938\ttotal: 1.2s\tremaining: 91.7ms\n",
            "929:\tlearn: 0.2839386\ttotal: 1.2s\tremaining: 90.4ms\n",
            "930:\tlearn: 0.2838502\ttotal: 1.2s\tremaining: 89.1ms\n",
            "931:\tlearn: 0.2837810\ttotal: 1.2s\tremaining: 87.8ms\n",
            "932:\tlearn: 0.2837285\ttotal: 1.2s\tremaining: 86.5ms\n",
            "933:\tlearn: 0.2836319\ttotal: 1.21s\tremaining: 85.2ms\n",
            "934:\tlearn: 0.2834370\ttotal: 1.21s\tremaining: 83.9ms\n",
            "935:\tlearn: 0.2833203\ttotal: 1.21s\tremaining: 82.6ms\n",
            "936:\tlearn: 0.2832410\ttotal: 1.21s\tremaining: 81.3ms\n",
            "937:\tlearn: 0.2831011\ttotal: 1.21s\tremaining: 80ms\n",
            "938:\tlearn: 0.2828356\ttotal: 1.21s\tremaining: 78.7ms\n",
            "939:\tlearn: 0.2826818\ttotal: 1.21s\tremaining: 77.4ms\n",
            "940:\tlearn: 0.2825909\ttotal: 1.21s\tremaining: 76.1ms\n",
            "941:\tlearn: 0.2825420\ttotal: 1.22s\tremaining: 74.9ms\n",
            "942:\tlearn: 0.2824638\ttotal: 1.22s\tremaining: 73.6ms\n",
            "943:\tlearn: 0.2824127\ttotal: 1.22s\tremaining: 72.3ms\n",
            "944:\tlearn: 0.2820687\ttotal: 1.22s\tremaining: 71ms\n",
            "945:\tlearn: 0.2820193\ttotal: 1.22s\tremaining: 69.7ms\n",
            "946:\tlearn: 0.2819731\ttotal: 1.22s\tremaining: 68.4ms\n",
            "947:\tlearn: 0.2816225\ttotal: 1.22s\tremaining: 67.1ms\n",
            "948:\tlearn: 0.2815709\ttotal: 1.22s\tremaining: 65.8ms\n",
            "949:\tlearn: 0.2815027\ttotal: 1.23s\tremaining: 64.5ms\n",
            "950:\tlearn: 0.2814528\ttotal: 1.23s\tremaining: 63.2ms\n",
            "951:\tlearn: 0.2813098\ttotal: 1.23s\tremaining: 61.9ms\n",
            "952:\tlearn: 0.2811690\ttotal: 1.23s\tremaining: 60.6ms\n",
            "953:\tlearn: 0.2811139\ttotal: 1.23s\tremaining: 59.3ms\n",
            "954:\tlearn: 0.2810386\ttotal: 1.23s\tremaining: 58ms\n",
            "955:\tlearn: 0.2810095\ttotal: 1.23s\tremaining: 56.7ms\n",
            "956:\tlearn: 0.2809608\ttotal: 1.23s\tremaining: 55.4ms\n",
            "957:\tlearn: 0.2807109\ttotal: 1.23s\tremaining: 54.1ms\n",
            "958:\tlearn: 0.2804918\ttotal: 1.24s\tremaining: 52.8ms\n",
            "959:\tlearn: 0.2803084\ttotal: 1.24s\tremaining: 51.6ms\n",
            "960:\tlearn: 0.2802760\ttotal: 1.24s\tremaining: 50.3ms\n",
            "961:\tlearn: 0.2802331\ttotal: 1.24s\tremaining: 49ms\n",
            "962:\tlearn: 0.2801623\ttotal: 1.24s\tremaining: 47.7ms\n",
            "963:\tlearn: 0.2798435\ttotal: 1.24s\tremaining: 46.4ms\n",
            "964:\tlearn: 0.2795314\ttotal: 1.24s\tremaining: 45.1ms\n",
            "965:\tlearn: 0.2791835\ttotal: 1.24s\tremaining: 43.8ms\n",
            "966:\tlearn: 0.2791055\ttotal: 1.25s\tremaining: 42.5ms\n",
            "967:\tlearn: 0.2790780\ttotal: 1.25s\tremaining: 41.2ms\n",
            "968:\tlearn: 0.2790196\ttotal: 1.25s\tremaining: 39.9ms\n",
            "969:\tlearn: 0.2789518\ttotal: 1.25s\tremaining: 38.6ms\n",
            "970:\tlearn: 0.2786067\ttotal: 1.25s\tremaining: 37.4ms\n",
            "971:\tlearn: 0.2784983\ttotal: 1.25s\tremaining: 36.1ms\n",
            "972:\tlearn: 0.2783905\ttotal: 1.25s\tremaining: 34.8ms\n",
            "973:\tlearn: 0.2783467\ttotal: 1.25s\tremaining: 33.5ms\n",
            "974:\tlearn: 0.2781715\ttotal: 1.25s\tremaining: 32.2ms\n",
            "975:\tlearn: 0.2781229\ttotal: 1.26s\tremaining: 30.9ms\n",
            "976:\tlearn: 0.2780886\ttotal: 1.26s\tremaining: 29.6ms\n",
            "977:\tlearn: 0.2779491\ttotal: 1.26s\tremaining: 28.3ms\n",
            "978:\tlearn: 0.2778839\ttotal: 1.26s\tremaining: 27ms\n",
            "979:\tlearn: 0.2777570\ttotal: 1.26s\tremaining: 25.7ms\n",
            "980:\tlearn: 0.2777048\ttotal: 1.26s\tremaining: 24.5ms\n",
            "981:\tlearn: 0.2775065\ttotal: 1.26s\tremaining: 23.2ms\n",
            "982:\tlearn: 0.2773831\ttotal: 1.26s\tremaining: 21.9ms\n",
            "983:\tlearn: 0.2773192\ttotal: 1.27s\tremaining: 20.6ms\n",
            "984:\tlearn: 0.2772808\ttotal: 1.27s\tremaining: 19.3ms\n",
            "985:\tlearn: 0.2772283\ttotal: 1.27s\tremaining: 18ms\n",
            "986:\tlearn: 0.2771933\ttotal: 1.27s\tremaining: 16.7ms\n",
            "987:\tlearn: 0.2770349\ttotal: 1.27s\tremaining: 15.4ms\n",
            "988:\tlearn: 0.2769208\ttotal: 1.27s\tremaining: 14.2ms\n",
            "989:\tlearn: 0.2766404\ttotal: 1.27s\tremaining: 12.9ms\n",
            "990:\tlearn: 0.2765497\ttotal: 1.27s\tremaining: 11.6ms\n",
            "991:\tlearn: 0.2765090\ttotal: 1.28s\tremaining: 10.3ms\n",
            "992:\tlearn: 0.2764018\ttotal: 1.28s\tremaining: 9ms\n",
            "993:\tlearn: 0.2763107\ttotal: 1.28s\tremaining: 7.72ms\n",
            "994:\tlearn: 0.2762515\ttotal: 1.28s\tremaining: 6.43ms\n",
            "995:\tlearn: 0.2761326\ttotal: 1.28s\tremaining: 5.14ms\n",
            "996:\tlearn: 0.2760146\ttotal: 1.28s\tremaining: 3.86ms\n",
            "997:\tlearn: 0.2757196\ttotal: 1.28s\tremaining: 2.57ms\n",
            "998:\tlearn: 0.2756099\ttotal: 1.28s\tremaining: 1.28ms\n",
            "999:\tlearn: 0.2754346\ttotal: 1.28s\tremaining: 0us\n"
          ],
          "name": "stdout"
        },
        {
          "output_type": "execute_result",
          "data": {
            "text/plain": [
              "<catboost.core.CatBoostClassifier at 0x7ff104577128>"
            ]
          },
          "metadata": {
            "tags": []
          },
          "execution_count": 54
        }
      ]
    },
    {
      "cell_type": "code",
      "metadata": {
        "id": "27VnJ4OVrM2E",
        "colab_type": "code",
        "colab": {
          "base_uri": "https://localhost:8080/",
          "height": 279
        },
        "outputId": "480e7abd-f5db-42b9-99a5-ef2ae54ef18d"
      },
      "source": [
        "sns.heatmap(confusion_matrix(y_valid,cat.predict(x_valid)),annot=True)\n",
        "plt.xlabel('Actual Values')\n",
        "plt.ylabel('Predicted Values')\n",
        "plt.show()"
      ],
      "execution_count": 55,
      "outputs": [
        {
          "output_type": "display_data",
          "data": {
            "image/png": "[encoded data removed]",
            "text/plain": [
              "<Figure size 432x288 with 2 Axes>"
            ]
          },
          "metadata": {
            "tags": [],
            "needs_background": "light"
          }
        }
      ]
    },
    {
      "cell_type": "code",
      "metadata": {
        "id": "Be0wVmSeraql",
        "colab_type": "code",
        "colab": {
          "base_uri": "https://localhost:8080/",
          "height": 34
        },
        "outputId": "f6c151ec-36e3-4e3e-eaa6-5ff552a8103d"
      },
      "source": [
        "print(accuracy_score(y_valid,cat.predict(x_valid)))"
      ],
      "execution_count": 56,
      "outputs": [
        {
          "output_type": "stream",
          "text": [
            "0.8666666666666667\n"
          ],
          "name": "stdout"
        }
      ]
    },
    {
      "cell_type": "markdown",
      "metadata": {
        "id": "WvNPsSgNyEim",
        "colab_type": "text"
      },
      "source": [
        "# Building final model on test dataset"
      ]
    },
    {
      "cell_type": "code",
      "metadata": {
        "id": "LZDFqWKTsxKx",
        "colab_type": "code",
        "colab": {}
      },
      "source": [
        "test=pd.read_csv('/content/drive/My Drive/Colab Notebooks/Competitions/Titanic Kaggle/test_clean.csv')"
      ],
      "execution_count": 58,
      "outputs": []
    },
    {
      "cell_type": "code",
      "metadata": {
        "id": "_H-0q4_iyIyJ",
        "colab_type": "code",
        "colab": {}
      },
      "source": [
        "passenger_details_test=test[['Name','Ticket','PassengerId']]\n",
        "test.drop(['Name','Ticket','PassengerId'],axis=1,inplace=True)"
      ],
      "execution_count": 59,
      "outputs": []
    },
    {
      "cell_type": "code",
      "metadata": {
        "id": "87v7KA6kyRPt",
        "colab_type": "code",
        "colab": {
          "base_uri": "https://localhost:8080/",
          "height": 84
        },
        "outputId": "8153022b-372e-4359-f42a-457ed8faa98d"
      },
      "source": [
        "test.columns"
      ],
      "execution_count": 60,
      "outputs": [
        {
          "output_type": "execute_result",
          "data": {
            "text/plain": [
              "Index(['Age', 'SibSp', 'Parch', 'Fare', 'Family_Size', 'Superior_Cabins',\n",
              "       'male', '2', '3', 'Q', 'S', 'Miss', 'Mr', 'Mrs', 'Other', 'B', 'C', 'D',\n",
              "       'E', 'F', 'G', 'U', 't'],\n",
              "      dtype='object')"
            ]
          },
          "metadata": {
            "tags": []
          },
          "execution_count": 60
        }
      ]
    },
    {
      "cell_type": "code",
      "metadata": {
        "id": "qgivT_eiyTIq",
        "colab_type": "code",
        "colab": {
          "base_uri": "https://localhost:8080/",
          "height": 84
        },
        "outputId": "22c6d487-65bb-4bdd-d4c2-da5db26e90b6"
      },
      "source": [
        "x.columns"
      ],
      "execution_count": 61,
      "outputs": [
        {
          "output_type": "execute_result",
          "data": {
            "text/plain": [
              "Index(['Age', 'SibSp', 'Parch', 'Fare', 'Family_Size', 'Superior_Cabins',\n",
              "       'male', '2', '3', 'Q', 'S', 'Miss', 'Mr', 'Mrs', 'Other', 'B', 'C', 'D',\n",
              "       'E', 'F', 'G', 'T', 'U'],\n",
              "      dtype='object')"
            ]
          },
          "metadata": {
            "tags": []
          },
          "execution_count": 61
        }
      ]
    },
    {
      "cell_type": "code",
      "metadata": {
        "id": "AMlPQ4kszmG5",
        "colab_type": "code",
        "colab": {}
      },
      "source": [
        "scaler=StandardScaler()\n",
        "x_scaled=scaler.fit_transform(x)"
      ],
      "execution_count": 62,
      "outputs": []
    },
    {
      "cell_type": "code",
      "metadata": {
        "id": "XOANKLdxyUJY",
        "colab_type": "code",
        "colab": {}
      },
      "source": [
        "test_scaled=scaler.transform(test)"
      ],
      "execution_count": 63,
      "outputs": []
    },
    {
      "cell_type": "code",
      "metadata": {
        "id": "ont60ZPvyirT",
        "colab_type": "code",
        "colab": {
          "base_uri": "https://localhost:8080/",
          "height": 151
        },
        "outputId": "5c8d5481-c64f-4cbf-d7f4-aaf7706107a9"
      },
      "source": [
        "rf_grid.best_estimator_"
      ],
      "execution_count": 68,
      "outputs": [
        {
          "output_type": "execute_result",
          "data": {
            "text/plain": [
              "RandomForestClassifier(bootstrap=True, ccp_alpha=0.0, class_weight=None,\n",
              "                       criterion='gini', max_depth=32, max_features='log2',\n",
              "                       max_leaf_nodes=None, max_samples=None,\n",
              "                       min_impurity_decrease=0.0, min_impurity_split=None,\n",
              "                       min_samples_leaf=1, min_samples_split=15,\n",
              "                       min_weight_fraction_leaf=0.0, n_estimators=50,\n",
              "                       n_jobs=None, oob_score=False, random_state=None,\n",
              "                       verbose=0, warm_start=False)"
            ]
          },
          "metadata": {
            "tags": []
          },
          "execution_count": 68
        }
      ]
    },
    {
      "cell_type": "code",
      "metadata": {
        "id": "aekaW9QjwxxR",
        "colab_type": "code",
        "colab": {}
      },
      "source": [
        "rf_final=RandomForestClassifier(bootstrap=True, ccp_alpha=0.0, class_weight=None,\n",
        "                       criterion='gini', max_depth=32, max_features='log2',\n",
        "                       max_leaf_nodes=None, max_samples=None,\n",
        "                       min_impurity_decrease=0.0, min_impurity_split=None,\n",
        "                       min_samples_leaf=1, min_samples_split=15,\n",
        "                       min_weight_fraction_leaf=0.0, n_estimators=50,\n",
        "                       n_jobs=None, oob_score=False, random_state=None,\n",
        "                       verbose=0, warm_start=False)"
      ],
      "execution_count": 69,
      "outputs": []
    },
    {
      "cell_type": "code",
      "metadata": {
        "id": "QmwPlsvAwx0K",
        "colab_type": "code",
        "colab": {
          "base_uri": "https://localhost:8080/",
          "height": 151
        },
        "outputId": "4c767c37-ed60-4591-ee95-9b88eb696b1a"
      },
      "source": [
        "rf_final.fit(x,y)"
      ],
      "execution_count": 70,
      "outputs": [
        {
          "output_type": "execute_result",
          "data": {
            "text/plain": [
              "RandomForestClassifier(bootstrap=True, ccp_alpha=0.0, class_weight=None,\n",
              "                       criterion='gini', max_depth=32, max_features='log2',\n",
              "                       max_leaf_nodes=None, max_samples=None,\n",
              "                       min_impurity_decrease=0.0, min_impurity_split=None,\n",
              "                       min_samples_leaf=1, min_samples_split=15,\n",
              "                       min_weight_fraction_leaf=0.0, n_estimators=50,\n",
              "                       n_jobs=None, oob_score=False, random_state=None,\n",
              "                       verbose=0, warm_start=False)"
            ]
          },
          "metadata": {
            "tags": []
          },
          "execution_count": 70
        }
      ]
    },
    {
      "cell_type": "code",
      "metadata": {
        "id": "LGF9HHXEwx2T",
        "colab_type": "code",
        "colab": {}
      },
      "source": [
        "predictions=rf_final.predict(test)"
      ],
      "execution_count": 71,
      "outputs": []
    },
    {
      "cell_type": "code",
      "metadata": {
        "id": "F9DHLmZBSwA6",
        "colab_type": "code",
        "colab": {}
      },
      "source": [
        "result=pd.DataFrame()\n",
        "result['PassengerId']=passenger_details_test['PassengerId']\n",
        "result['Survived']=predictions"
      ],
      "execution_count": 72,
      "outputs": []
    },
    {
      "cell_type": "code",
      "metadata": {
        "id": "E1EYed6Oxm_y",
        "colab_type": "code",
        "colab": {}
      },
      "source": [
        ""
      ],
      "execution_count": null,
      "outputs": []
    }
  ]
}