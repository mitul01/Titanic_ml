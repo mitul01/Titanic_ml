{
  "nbformat": 4,
  "nbformat_minor": 0,
  "metadata": {
    "colab": {
      "name": "TitanicKaggle_EDA.ipynb",
      "provenance": [],
      "collapsed_sections": [
        "qKkVeK5w2iRt",
        "ZLbEDk1q3YQL",
        "mtXBufqz4da-",
        "EKEK_CLC5Q0E",
        "4TWteBrk89fw",
        "TsGEhR0T7igC",
        "-xM25gBNFlGN",
        "AjohFFFdJ9T3",
        "eEiKLW8ZR65b",
        "D6ygfqJD1Ey-"
      ]
    },
    "kernelspec": {
      "name": "python3",
      "display_name": "Python 3"
    }
  },
  "cells": [
    {
      "cell_type": "code",
      "metadata": {
        "id": "p02V5KWk7edj",
        "colab_type": "code",
        "colab": {
          "base_uri": "https://localhost:8080/",
          "height": 70
        },
        "outputId": "eb92e3e9-2701-4097-d6c9-5b7c25ac2be7"
      },
      "source": [
        "import pandas as pd \n",
        "import matplotlib.pyplot as plt \n",
        "import seaborn as sns \n",
        "import numpy as np"
      ],
      "execution_count": 1,
      "outputs": [
        {
          "output_type": "stream",
          "text": [
            "/usr/local/lib/python3.6/dist-packages/statsmodels/tools/_testing.py:19: FutureWarning: pandas.util.testing is deprecated. Use the functions in the public API at pandas.testing instead.\n",
            "  import pandas.util.testing as tm\n"
          ],
          "name": "stderr"
        }
      ]
    },
    {
      "cell_type": "markdown",
      "metadata": {
        "id": "VU9tjMOI8Rae",
        "colab_type": "text"
      },
      "source": [
        "#Loading the data"
      ]
    },
    {
      "cell_type": "code",
      "metadata": {
        "id": "61VAJMoP8N0c",
        "colab_type": "code",
        "colab": {}
      },
      "source": [
        "train=pd.read_csv('/content/drive/My Drive/Colab Notebooks/Competitions/Titanic Kaggle/train.csv')\n",
        "test=pd.read_csv('/content/drive/My Drive/Colab Notebooks/Competitions/Titanic Kaggle/test.csv')"
      ],
      "execution_count": 2,
      "outputs": []
    },
    {
      "cell_type": "markdown",
      "metadata": {
        "id": "LdQIuDg90Yl1",
        "colab_type": "text"
      },
      "source": [
        "# Null values"
      ]
    },
    {
      "cell_type": "code",
      "metadata": {
        "id": "pmpqkwEl0Nu-",
        "colab_type": "code",
        "colab": {
          "base_uri": "https://localhost:8080/",
          "height": 195
        },
        "outputId": "5de45393-9d24-4528-f741-fe44716aad8e"
      },
      "source": [
        "train.head()"
      ],
      "execution_count": 3,
      "outputs": [
        {
          "output_type": "execute_result",
          "data": {
            "text/html": [
              "<div>\n",
              "<style scoped>\n",
              "    .dataframe tbody tr th:only-of-type {\n",
              "        vertical-align: middle;\n",
              "    }\n",
              "\n",
              "    .dataframe tbody tr th {\n",
              "        vertical-align: top;\n",
              "    }\n",
              "\n",
              "    .dataframe thead th {\n",
              "        text-align: right;\n",
              "    }\n",
              "</style>\n",
              "<table border=\"1\" class=\"dataframe\">\n",
              "  <thead>\n",
              "    <tr style=\"text-align: right;\">\n",
              "      <th></th>\n",
              "      <th>PassengerId</th>\n",
              "      <th>Survived</th>\n",
              "      <th>Pclass</th>\n",
              "      <th>Name</th>\n",
              "      <th>Sex</th>\n",
              "      <th>Age</th>\n",
              "      <th>SibSp</th>\n",
              "      <th>Parch</th>\n",
              "      <th>Ticket</th>\n",
              "      <th>Fare</th>\n",
              "      <th>Cabin</th>\n",
              "      <th>Embarked</th>\n",
              "    </tr>\n",
              "  </thead>\n",
              "  <tbody>\n",
              "    <tr>\n",
              "      <th>0</th>\n",
              "      <td>1</td>\n",
              "      <td>0</td>\n",
              "      <td>3</td>\n",
              "      <td>Braund, Mr. Owen Harris</td>\n",
              "      <td>male</td>\n",
              "      <td>22.0</td>\n",
              "      <td>1</td>\n",
              "      <td>0</td>\n",
              "      <td>A/5 21171</td>\n",
              "      <td>7.2500</td>\n",
              "      <td>NaN</td>\n",
              "      <td>S</td>\n",
              "    </tr>\n",
              "    <tr>\n",
              "      <th>1</th>\n",
              "      <td>2</td>\n",
              "      <td>1</td>\n",
              "      <td>1</td>\n",
              "      <td>Cumings, Mrs. John Bradley (Florence Briggs Th...</td>\n",
              "      <td>female</td>\n",
              "      <td>38.0</td>\n",
              "      <td>1</td>\n",
              "      <td>0</td>\n",
              "      <td>PC 17599</td>\n",
              "      <td>71.2833</td>\n",
              "      <td>C85</td>\n",
              "      <td>C</td>\n",
              "    </tr>\n",
              "    <tr>\n",
              "      <th>2</th>\n",
              "      <td>3</td>\n",
              "      <td>1</td>\n",
              "      <td>3</td>\n",
              "      <td>Heikkinen, Miss. Laina</td>\n",
              "      <td>female</td>\n",
              "      <td>26.0</td>\n",
              "      <td>0</td>\n",
              "      <td>0</td>\n",
              "      <td>STON/O2. 3101282</td>\n",
              "      <td>7.9250</td>\n",
              "      <td>NaN</td>\n",
              "      <td>S</td>\n",
              "    </tr>\n",
              "    <tr>\n",
              "      <th>3</th>\n",
              "      <td>4</td>\n",
              "      <td>1</td>\n",
              "      <td>1</td>\n",
              "      <td>Futrelle, Mrs. Jacques Heath (Lily May Peel)</td>\n",
              "      <td>female</td>\n",
              "      <td>35.0</td>\n",
              "      <td>1</td>\n",
              "      <td>0</td>\n",
              "      <td>113803</td>\n",
              "      <td>53.1000</td>\n",
              "      <td>C123</td>\n",
              "      <td>S</td>\n",
              "    </tr>\n",
              "    <tr>\n",
              "      <th>4</th>\n",
              "      <td>5</td>\n",
              "      <td>0</td>\n",
              "      <td>3</td>\n",
              "      <td>Allen, Mr. William Henry</td>\n",
              "      <td>male</td>\n",
              "      <td>35.0</td>\n",
              "      <td>0</td>\n",
              "      <td>0</td>\n",
              "      <td>373450</td>\n",
              "      <td>8.0500</td>\n",
              "      <td>NaN</td>\n",
              "      <td>S</td>\n",
              "    </tr>\n",
              "  </tbody>\n",
              "</table>\n",
              "</div>"
            ],
            "text/plain": [
              "   PassengerId  Survived  Pclass  ...     Fare Cabin  Embarked\n",
              "0            1         0       3  ...   7.2500   NaN         S\n",
              "1            2         1       1  ...  71.2833   C85         C\n",
              "2            3         1       3  ...   7.9250   NaN         S\n",
              "3            4         1       1  ...  53.1000  C123         S\n",
              "4            5         0       3  ...   8.0500   NaN         S\n",
              "\n",
              "[5 rows x 12 columns]"
            ]
          },
          "metadata": {
            "tags": []
          },
          "execution_count": 3
        }
      ]
    },
    {
      "cell_type": "markdown",
      "metadata": {
        "id": "am2Z4wYy_CDJ",
        "colab_type": "text"
      },
      "source": [
        "### We will drop id column as it is completly irrelevat here\n",
        "### however if we were provided with some celebrities names or cast of people we could have feature engg to create a new column called \"imp persons\". We can still feature engg name column by extracting title from names like Mr,Miss ..etc"
      ]
    },
    {
      "cell_type": "markdown",
      "metadata": {
        "id": "CTeuPWwr_qtG",
        "colab_type": "text"
      },
      "source": [
        "### Ticket column can be handled in various ways by feature engg it with other column like cabin , but we will focus on data analysis first"
      ]
    },
    {
      "cell_type": "code",
      "metadata": {
        "id": "kusTUbKb0cX4",
        "colab_type": "code",
        "colab": {
          "base_uri": "https://localhost:8080/",
          "height": 235
        },
        "outputId": "e4027629-cb37-4d44-9a42-a87899e691e9"
      },
      "source": [
        "train.isnull().sum()"
      ],
      "execution_count": 4,
      "outputs": [
        {
          "output_type": "execute_result",
          "data": {
            "text/plain": [
              "PassengerId      0\n",
              "Survived         0\n",
              "Pclass           0\n",
              "Name             0\n",
              "Sex              0\n",
              "Age            177\n",
              "SibSp            0\n",
              "Parch            0\n",
              "Ticket           0\n",
              "Fare             0\n",
              "Cabin          687\n",
              "Embarked         2\n",
              "dtype: int64"
            ]
          },
          "metadata": {
            "tags": []
          },
          "execution_count": 4
        }
      ]
    },
    {
      "cell_type": "code",
      "metadata": {
        "id": "rCUoYAOI0fyl",
        "colab_type": "code",
        "colab": {
          "base_uri": "https://localhost:8080/",
          "height": 387
        },
        "outputId": "bee36a6c-c309-411d-8a0f-e5ac20a33188"
      },
      "source": [
        "#Visualizating the null values\n",
        "plt.figure(figsize=(10,5))\n",
        "sns.heatmap(train.isnull(),yticklabels=False,xticklabels=True,cbar=False,cmap='Blues')"
      ],
      "execution_count": 5,
      "outputs": [
        {
          "output_type": "execute_result",
          "data": {
            "text/plain": [
              "<matplotlib.axes._subplots.AxesSubplot at 0x7f4e1abed7f0>"
            ]
          },
          "metadata": {
            "tags": []
          },
          "execution_count": 5
        },
        {
          "output_type": "display_data",
          "data": {
            "image/png": "[encoded data removed]",
            "text/plain": [
              "<Figure size 720x360 with 1 Axes>"
            ]
          },
          "metadata": {
            "tags": [],
            "needs_background": "light"
          }
        }
      ]
    },
    {
      "cell_type": "code",
      "metadata": {
        "id": "-0iv5aTH1ctZ",
        "colab_type": "code",
        "colab": {
          "base_uri": "https://localhost:8080/",
          "height": 50
        },
        "outputId": "5d0cfaa6-a077-4643-8774-4a55c765f9bf"
      },
      "source": [
        "print(\"% of data null for cabin column:\",sum(train.isnull()['Cabin'])/len(train)*100)\n",
        "print(\"% of data null for age column:\",sum(train.isnull()['Age'])/len(train)*100)"
      ],
      "execution_count": 6,
      "outputs": [
        {
          "output_type": "stream",
          "text": [
            "% of data null for cabin column: 77.10437710437711\n",
            "% of data null for age column: 19.865319865319865\n"
          ],
          "name": "stdout"
        }
      ]
    },
    {
      "cell_type": "markdown",
      "metadata": {
        "id": "hAvOyNN42cC8",
        "colab_type": "text"
      },
      "source": [
        "## Before going on to fill null values lets visualize the data first"
      ]
    },
    {
      "cell_type": "markdown",
      "metadata": {
        "id": "0cSoIrbN2YbC",
        "colab_type": "text"
      },
      "source": [
        "# Visualzing data per column"
      ]
    },
    {
      "cell_type": "code",
      "metadata": {
        "id": "AfTEqNTx2lMB",
        "colab_type": "code",
        "colab": {
          "base_uri": "https://localhost:8080/",
          "height": 67
        },
        "outputId": "511428a7-ebe5-4276-e0aa-06fc861aacdf"
      },
      "source": [
        "train.columns"
      ],
      "execution_count": 7,
      "outputs": [
        {
          "output_type": "execute_result",
          "data": {
            "text/plain": [
              "Index(['PassengerId', 'Survived', 'Pclass', 'Name', 'Sex', 'Age', 'SibSp',\n",
              "       'Parch', 'Ticket', 'Fare', 'Cabin', 'Embarked'],\n",
              "      dtype='object')"
            ]
          },
          "metadata": {
            "tags": []
          },
          "execution_count": 7
        }
      ]
    },
    {
      "cell_type": "markdown",
      "metadata": {
        "id": "qKkVeK5w2iRt",
        "colab_type": "text"
      },
      "source": [
        "## Pclass"
      ]
    },
    {
      "cell_type": "markdown",
      "metadata": {
        "id": "WGCJD5LW3I6x",
        "colab_type": "text"
      },
      "source": [
        "### Categorical feature \n",
        "\n",
        "*   1 - Rich class\n",
        "*   2 - Middle class\n",
        "*   3 - Poor class\n",
        "\n",
        "\n",
        "\n"
      ]
    },
    {
      "cell_type": "code",
      "metadata": {
        "id": "BDL2VoiD0xQ_",
        "colab_type": "code",
        "colab": {
          "base_uri": "https://localhost:8080/",
          "height": 351
        },
        "outputId": "7fc72a3d-f509-4f7d-b3fc-497c06adf43f"
      },
      "source": [
        "plt.figure(figsize=(12,5))\n",
        "\n",
        "plt.subplot(1,2,1)\n",
        "sns.countplot(x='Pclass',data=train)\n",
        "\n",
        "plt.subplot(1,2,2)\n",
        "sns.set_style('whitegrid')\n",
        "sns.countplot(x='Survived',hue='Pclass',data=train)"
      ],
      "execution_count": 8,
      "outputs": [
        {
          "output_type": "execute_result",
          "data": {
            "text/plain": [
              "<matplotlib.axes._subplots.AxesSubplot at 0x7f4e1ac04908>"
            ]
          },
          "metadata": {
            "tags": []
          },
          "execution_count": 8
        },
        {
          "output_type": "display_data",
          "data": {
            "image/png": "[encoded data removed]",
            "text/plain": [
              "<Figure size 864x360 with 2 Axes>"
            ]
          },
          "metadata": {
            "tags": [],
            "needs_background": "light"
          }
        }
      ]
    },
    {
      "cell_type": "markdown",
      "metadata": {
        "id": "abETqLlc3rxX",
        "colab_type": "text"
      },
      "source": [
        "### We can see a lot of poor people(Pclass=3) died in titanic accident\n",
        "### This feature is important factor for our model  "
      ]
    },
    {
      "cell_type": "markdown",
      "metadata": {
        "id": "ZLbEDk1q3YQL",
        "colab_type": "text"
      },
      "source": [
        "## Gender"
      ]
    },
    {
      "cell_type": "code",
      "metadata": {
        "id": "p0h4MLUT25Gg",
        "colab_type": "code",
        "colab": {
          "base_uri": "https://localhost:8080/",
          "height": 352
        },
        "outputId": "b400a9b7-f420-4548-cafe-ae3d825b69a0"
      },
      "source": [
        "plt.figure(figsize=(12,5))\n",
        "\n",
        "plt.subplot(1,2,1)\n",
        "sns.countplot(x='Sex',data=train)\n",
        "\n",
        "plt.subplot(1,2,2)\n",
        "sns.set_style('whitegrid')\n",
        "sns.countplot(x='Survived',hue='Sex',data=train)"
      ],
      "execution_count": 9,
      "outputs": [
        {
          "output_type": "execute_result",
          "data": {
            "text/plain": [
              "<matplotlib.axes._subplots.AxesSubplot at 0x7f4e19371dd8>"
            ]
          },
          "metadata": {
            "tags": []
          },
          "execution_count": 9
        },
        {
          "output_type": "display_data",
          "data": {
            "image/png": "[encoded data removed]",
            "text/plain": [
              "<Figure size 864x360 with 2 Axes>"
            ]
          },
          "metadata": {
            "tags": []
          }
        }
      ]
    },
    {
      "cell_type": "markdown",
      "metadata": {
        "id": "-GoZQqga4J0D",
        "colab_type": "text"
      },
      "source": [
        "### Majority of male did not survived in accident , the female and children were given priority "
      ]
    },
    {
      "cell_type": "markdown",
      "metadata": {
        "id": "mtXBufqz4da-",
        "colab_type": "text"
      },
      "source": [
        "## Age"
      ]
    },
    {
      "cell_type": "code",
      "metadata": {
        "id": "fm8MXpS63f1O",
        "colab_type": "code",
        "colab": {
          "base_uri": "https://localhost:8080/",
          "height": 296
        },
        "outputId": "554f564f-69f4-4770-ba49-e8bf16f75a91"
      },
      "source": [
        "sns.distplot(train['Age'],kde=False,bins=40)"
      ],
      "execution_count": 10,
      "outputs": [
        {
          "output_type": "execute_result",
          "data": {
            "text/plain": [
              "<matplotlib.axes._subplots.AxesSubplot at 0x7f4e19345c18>"
            ]
          },
          "metadata": {
            "tags": []
          },
          "execution_count": 10
        },
        {
          "output_type": "display_data",
          "data": {
            "image/png": "[encoded data removed]",
            "text/plain": [
              "<Figure size 432x288 with 1 Axes>"
            ]
          },
          "metadata": {
            "tags": []
          }
        }
      ]
    },
    {
      "cell_type": "markdown",
      "metadata": {
        "id": "1CRABOiQg_Y4",
        "colab_type": "text"
      },
      "source": [
        "### Not a clean column , have many outliers"
      ]
    },
    {
      "cell_type": "markdown",
      "metadata": {
        "id": "EKEK_CLC5Q0E",
        "colab_type": "text"
      },
      "source": [
        "## Sibsb"
      ]
    },
    {
      "cell_type": "markdown",
      "metadata": {
        "id": "x2Kw2YrL5SsW",
        "colab_type": "text"
      },
      "source": [
        "### Column tells no.of siblings or relatives.. person was travelling with"
      ]
    },
    {
      "cell_type": "code",
      "metadata": {
        "id": "zmPRuEJB4j4C",
        "colab_type": "code",
        "colab": {
          "base_uri": "https://localhost:8080/",
          "height": 351
        },
        "outputId": "f73b7547-d12a-458b-b8ce-bca730be6dfa"
      },
      "source": [
        "plt.figure(figsize=(12,5))\n",
        "\n",
        "plt.subplot(1,2,1)\n",
        "sns.countplot(x='SibSp',data=train)\n",
        "\n",
        "plt.subplot(1,2,2)\n",
        "sns.set_style('whitegrid')\n",
        "sns.countplot(x='Survived',hue='SibSp',data=train)"
      ],
      "execution_count": 11,
      "outputs": [
        {
          "output_type": "execute_result",
          "data": {
            "text/plain": [
              "<matplotlib.axes._subplots.AxesSubplot at 0x7f4e191d2a58>"
            ]
          },
          "metadata": {
            "tags": []
          },
          "execution_count": 11
        },
        {
          "output_type": "display_data",
          "data": {
            "image/png": "[encoded data removed]",
            "text/plain": [
              "<Figure size 864x360 with 2 Axes>"
            ]
          },
          "metadata": {
            "tags": []
          }
        }
      ]
    },
    {
      "cell_type": "markdown",
      "metadata": {
        "id": "1axAxiFs6ZLr",
        "colab_type": "text"
      },
      "source": [
        "### There is no trend as such in this column ..."
      ]
    },
    {
      "cell_type": "markdown",
      "metadata": {
        "id": "4TWteBrk89fw",
        "colab_type": "text"
      },
      "source": [
        "## Parch"
      ]
    },
    {
      "cell_type": "markdown",
      "metadata": {
        "id": "ytpcyFtv9Zzk",
        "colab_type": "text"
      },
      "source": [
        "### This column represents no.of parents/children"
      ]
    },
    {
      "cell_type": "code",
      "metadata": {
        "id": "vm4n33087rJS",
        "colab_type": "code",
        "colab": {
          "base_uri": "https://localhost:8080/",
          "height": 296
        },
        "outputId": "7d4a2651-be95-413b-f86c-c38734a97b09"
      },
      "source": [
        "sns.countplot(x='Survived',hue='Parch',data=train)"
      ],
      "execution_count": 12,
      "outputs": [
        {
          "output_type": "execute_result",
          "data": {
            "text/plain": [
              "<matplotlib.axes._subplots.AxesSubplot at 0x7f4e194356d8>"
            ]
          },
          "metadata": {
            "tags": []
          },
          "execution_count": 12
        },
        {
          "output_type": "display_data",
          "data": {
            "image/png": "[encoded data removed]",
            "text/plain": [
              "<Figure size 432x288 with 1 Axes>"
            ]
          },
          "metadata": {
            "tags": []
          }
        }
      ]
    },
    {
      "cell_type": "markdown",
      "metadata": {
        "id": "8hrkx9AR9emZ",
        "colab_type": "text"
      },
      "source": [
        "### This column again represents same details  but it does not have any general trend with respect to survival  "
      ]
    },
    {
      "cell_type": "markdown",
      "metadata": {
        "id": "TsGEhR0T7igC",
        "colab_type": "text"
      },
      "source": [
        "## Fare"
      ]
    },
    {
      "cell_type": "code",
      "metadata": {
        "id": "dRC-mUqs5muQ",
        "colab_type": "code",
        "colab": {
          "base_uri": "https://localhost:8080/",
          "height": 352
        },
        "outputId": "91080bd8-fef0-4ab8-89b1-8f23dd668a53"
      },
      "source": [
        "plt.figure(figsize=(10,5))\n",
        "sns.distplot(train['Fare'],kde=False)"
      ],
      "execution_count": 13,
      "outputs": [
        {
          "output_type": "execute_result",
          "data": {
            "text/plain": [
              "<matplotlib.axes._subplots.AxesSubplot at 0x7f4e19435128>"
            ]
          },
          "metadata": {
            "tags": []
          },
          "execution_count": 13
        },
        {
          "output_type": "display_data",
          "data": {
            "image/png": "[encoded data removed]",
            "text/plain": [
              "<Figure size 720x360 with 1 Axes>"
            ]
          },
          "metadata": {
            "tags": []
          }
        }
      ]
    },
    {
      "cell_type": "markdown",
      "metadata": {
        "id": "WvX-4vTS71jd",
        "colab_type": "text"
      },
      "source": [
        "### There are some outliers clearly visible in fare column\n",
        "### These need to handled if we decide to use models like logistic regression otherwise can be ignored in case of trees classifiers"
      ]
    },
    {
      "cell_type": "markdown",
      "metadata": {
        "id": "U5HXxYdIkC6d",
        "colab_type": "text"
      },
      "source": [
        "## Embarked"
      ]
    },
    {
      "cell_type": "code",
      "metadata": {
        "id": "hyCZirwfkE4x",
        "colab_type": "code",
        "colab": {
          "base_uri": "https://localhost:8080/",
          "height": 351
        },
        "outputId": "9f732e78-7ddb-4d4b-cbd4-210926a7f6c4"
      },
      "source": [
        "plt.figure(figsize=(12,5))\n",
        "\n",
        "plt.subplot(1,2,1)\n",
        "sns.countplot(x='Embarked',data=train)\n",
        "\n",
        "plt.subplot(1,2,2)\n",
        "sns.set_style('whitegrid')\n",
        "sns.countplot(x='Survived',hue='Embarked',data=train)"
      ],
      "execution_count": 14,
      "outputs": [
        {
          "output_type": "execute_result",
          "data": {
            "text/plain": [
              "<matplotlib.axes._subplots.AxesSubplot at 0x7f4e18f45710>"
            ]
          },
          "metadata": {
            "tags": []
          },
          "execution_count": 14
        },
        {
          "output_type": "display_data",
          "data": {
            "image/png": "[encoded data removed]",
            "text/plain": [
              "<Figure size 864x360 with 2 Axes>"
            ]
          },
          "metadata": {
            "tags": []
          }
        }
      ]
    },
    {
      "cell_type": "markdown",
      "metadata": {
        "id": "kyGnftajkRDZ",
        "colab_type": "text"
      },
      "source": [
        "Not a great factor for model as of now , no such trend \n",
        "Gives us a information though ..lot of people boarded ship from port S , makes sense since S(Southampton) was the place were titanic started"
      ]
    },
    {
      "cell_type": "markdown",
      "metadata": {
        "id": "hYe9VOPnhpo6",
        "colab_type": "text"
      },
      "source": [
        "# Feature relation"
      ]
    },
    {
      "cell_type": "code",
      "metadata": {
        "id": "fmsWQVGm8_wb",
        "colab_type": "code",
        "colab": {
          "base_uri": "https://localhost:8080/",
          "height": 337
        },
        "outputId": "3a067be6-103a-4b97-8865-d111f7564135"
      },
      "source": [
        "plt.figure(figsize=(10,5))\n",
        "corr=train.corr()\n",
        "sns.heatmap(corr[((corr >= 0.3) | (corr <= -0.3)) & (corr != 1)],cmap='Blues',annot=True,fmt='.2f')"
      ],
      "execution_count": 15,
      "outputs": [
        {
          "output_type": "execute_result",
          "data": {
            "text/plain": [
              "<matplotlib.axes._subplots.AxesSubplot at 0x7f4e18ee5b00>"
            ]
          },
          "metadata": {
            "tags": []
          },
          "execution_count": 15
        },
        {
          "output_type": "display_data",
          "data": {
            "image/png": "[encoded data removed]",
            "text/plain": [
              "<Figure size 720x360 with 2 Axes>"
            ]
          },
          "metadata": {
            "tags": []
          }
        }
      ]
    },
    {
      "cell_type": "markdown",
      "metadata": {
        "id": "71sfKJWm__CK",
        "colab_type": "text"
      },
      "source": [
        "1.  We can see parch and SibSp seem to co-relate with each other \n",
        "2.  Fare vs Pclass\n",
        "3.  Age vs Pclass\n",
        "4.  Age vs SibSp"
      ]
    },
    {
      "cell_type": "code",
      "metadata": {
        "id": "McgPY3wg-QAm",
        "colab_type": "code",
        "colab": {
          "base_uri": "https://localhost:8080/",
          "height": 67
        },
        "outputId": "f0f2186b-5caf-4586-ed20-3c1517b520cb"
      },
      "source": [
        "train.columns"
      ],
      "execution_count": 16,
      "outputs": [
        {
          "output_type": "execute_result",
          "data": {
            "text/plain": [
              "Index(['PassengerId', 'Survived', 'Pclass', 'Name', 'Sex', 'Age', 'SibSp',\n",
              "       'Parch', 'Ticket', 'Fare', 'Cabin', 'Embarked'],\n",
              "      dtype='object')"
            ]
          },
          "metadata": {
            "tags": []
          },
          "execution_count": 16
        }
      ]
    },
    {
      "cell_type": "markdown",
      "metadata": {
        "id": "FiFoe8d2jGji",
        "colab_type": "text"
      },
      "source": [
        "## Age vs Pclass"
      ]
    },
    {
      "cell_type": "code",
      "metadata": {
        "id": "Mxt5J_oeA6MI",
        "colab_type": "code",
        "colab": {
          "base_uri": "https://localhost:8080/",
          "height": 296
        },
        "outputId": "526de5ca-c6ba-44c3-9f06-2bc1e4d2017c"
      },
      "source": [
        "sns.boxplot(x='Pclass',y='Age',data=train)\n",
        "# Lot of younger people are from class3 and old people belong to class1 , linear relation between Pclass and age"
      ],
      "execution_count": 17,
      "outputs": [
        {
          "output_type": "execute_result",
          "data": {
            "text/plain": [
              "<matplotlib.axes._subplots.AxesSubplot at 0x7f4e18f99c88>"
            ]
          },
          "metadata": {
            "tags": []
          },
          "execution_count": 17
        },
        {
          "output_type": "display_data",
          "data": {
            "image/png": "[encoded data removed]",
            "text/plain": [
              "<Figure size 432x288 with 1 Axes>"
            ]
          },
          "metadata": {
            "tags": []
          }
        }
      ]
    },
    {
      "cell_type": "markdown",
      "metadata": {
        "id": "jmswMlQajhtA",
        "colab_type": "text"
      },
      "source": [
        "## Fare vs Pclass"
      ]
    },
    {
      "cell_type": "code",
      "metadata": {
        "id": "OaRN2SXtjOpq",
        "colab_type": "code",
        "colab": {
          "base_uri": "https://localhost:8080/",
          "height": 458
        },
        "outputId": "3c5e37eb-2e93-4d37-8f25-1d8e3b6ddcb7"
      },
      "source": [
        "sns.catplot(x=\"Pclass\", y=\"Fare\", kind=\"swarm\", data=train, height = 6)\n",
        "# Rich Pclass people have bought higher priced ticket and class 2 & 3 have bought similar rate tickets"
      ],
      "execution_count": 18,
      "outputs": [
        {
          "output_type": "execute_result",
          "data": {
            "text/plain": [
              "<seaborn.axisgrid.FacetGrid at 0x7f4e1a976940>"
            ]
          },
          "metadata": {
            "tags": []
          },
          "execution_count": 18
        },
        {
          "output_type": "display_data",
          "data": {
            "image/png": "[encoded data removed]",
            "text/plain": [
              "<Figure size 432x432 with 1 Axes>"
            ]
          },
          "metadata": {
            "tags": []
          }
        }
      ]
    },
    {
      "cell_type": "markdown",
      "metadata": {
        "id": "vDOmQZB3kbHl",
        "colab_type": "text"
      },
      "source": [
        "## Age vs SibSp"
      ]
    },
    {
      "cell_type": "code",
      "metadata": {
        "id": "UHH5ZT7ajOsV",
        "colab_type": "code",
        "colab": {
          "base_uri": "https://localhost:8080/",
          "height": 458
        },
        "outputId": "1648acf5-ddbd-4c98-b511-c59fe6b08c41"
      },
      "source": [
        "sns.catplot(x=\"SibSp\", y=\"Age\", kind=\"swarm\", data=train, height = 6)"
      ],
      "execution_count": 19,
      "outputs": [
        {
          "output_type": "execute_result",
          "data": {
            "text/plain": [
              "<seaborn.axisgrid.FacetGrid at 0x7f4e18e64eb8>"
            ]
          },
          "metadata": {
            "tags": []
          },
          "execution_count": 19
        },
        {
          "output_type": "display_data",
          "data": {
            "image/png": "[encoded data removed]",
            "text/plain": [
              "<Figure size 432x432 with 1 Axes>"
            ]
          },
          "metadata": {
            "tags": []
          }
        }
      ]
    },
    {
      "cell_type": "markdown",
      "metadata": {
        "id": "yYbuiJcmkvWA",
        "colab_type": "text"
      },
      "source": [
        "Passanger with SibSp of 4-5 are kids of age below 20. \n",
        "Lot of older people that are travelling alone or with a spouse"
      ]
    },
    {
      "cell_type": "markdown",
      "metadata": {
        "id": "skDfJ_rilHy4",
        "colab_type": "text"
      },
      "source": [
        "# Fill Null Values"
      ]
    },
    {
      "cell_type": "code",
      "metadata": {
        "id": "byyfiJYwCgYD",
        "colab_type": "code",
        "colab": {
          "base_uri": "https://localhost:8080/",
          "height": 101
        },
        "outputId": "04acd304-1dcf-4827-e2c0-92b89bb31da9"
      },
      "source": [
        "train.groupby('Pclass')['Age'].mean()"
      ],
      "execution_count": 20,
      "outputs": [
        {
          "output_type": "execute_result",
          "data": {
            "text/plain": [
              "Pclass\n",
              "1    38.233441\n",
              "2    29.877630\n",
              "3    25.140620\n",
              "Name: Age, dtype: float64"
            ]
          },
          "metadata": {
            "tags": []
          },
          "execution_count": 20
        }
      ]
    },
    {
      "cell_type": "code",
      "metadata": {
        "id": "GkBg6wGZCqtH",
        "colab_type": "code",
        "colab": {
          "base_uri": "https://localhost:8080/",
          "height": 296
        },
        "outputId": "7910830f-1fd2-4e37-b032-1c35cee0373c"
      },
      "source": [
        "sns.boxplot(x='Sex',y='Age',data=train)"
      ],
      "execution_count": 21,
      "outputs": [
        {
          "output_type": "execute_result",
          "data": {
            "text/plain": [
              "<matplotlib.axes._subplots.AxesSubplot at 0x7f4e164782e8>"
            ]
          },
          "metadata": {
            "tags": []
          },
          "execution_count": 21
        },
        {
          "output_type": "display_data",
          "data": {
            "image/png": "[encoded data removed]",
            "text/plain": [
              "<Figure size 432x288 with 1 Axes>"
            ]
          },
          "metadata": {
            "tags": []
          }
        }
      ]
    },
    {
      "cell_type": "code",
      "metadata": {
        "id": "o293OIVdC9od",
        "colab_type": "code",
        "colab": {
          "base_uri": "https://localhost:8080/",
          "height": 84
        },
        "outputId": "10341d00-1962-4e7a-e1af-a27d57e78894"
      },
      "source": [
        "train.groupby('Sex')['Age'].mean()"
      ],
      "execution_count": 22,
      "outputs": [
        {
          "output_type": "execute_result",
          "data": {
            "text/plain": [
              "Sex\n",
              "female    27.915709\n",
              "male      30.726645\n",
              "Name: Age, dtype: float64"
            ]
          },
          "metadata": {
            "tags": []
          },
          "execution_count": 22
        }
      ]
    },
    {
      "cell_type": "code",
      "metadata": {
        "id": "XheGva9mDCGs",
        "colab_type": "code",
        "colab": {
          "base_uri": "https://localhost:8080/",
          "height": 151
        },
        "outputId": "abaf9cb9-8a64-49bc-f122-b769f47df23c"
      },
      "source": [
        "train.groupby(['Pclass','Sex'])['Age'].mean()"
      ],
      "execution_count": 23,
      "outputs": [
        {
          "output_type": "execute_result",
          "data": {
            "text/plain": [
              "Pclass  Sex   \n",
              "1       female    34.611765\n",
              "        male      41.281386\n",
              "2       female    28.722973\n",
              "        male      30.740707\n",
              "3       female    21.750000\n",
              "        male      26.507589\n",
              "Name: Age, dtype: float64"
            ]
          },
          "metadata": {
            "tags": []
          },
          "execution_count": 23
        }
      ]
    },
    {
      "cell_type": "markdown",
      "metadata": {
        "id": "LPQMoGUvlXi-",
        "colab_type": "text"
      },
      "source": [
        "We have used Pclass , Sex as other factors to fill null values in Age"
      ]
    },
    {
      "cell_type": "code",
      "metadata": {
        "id": "WUyYSfQuDpFs",
        "colab_type": "code",
        "colab": {}
      },
      "source": [
        "def fill_age(cols):\n",
        "  age=cols[0]\n",
        "  pclass=cols[1]\n",
        "  gender=cols[2]\n",
        "  if pd.isnull(age):\n",
        "    if pclass==1 and gender=='male':\n",
        "      return 41\n",
        "    if pclass==1 and gender=='female':\n",
        "      return 37\n",
        "    if pclass==2 and gender=='male':\n",
        "      return 31\n",
        "    if pclass==2 and gender=='female':\n",
        "      return 27\n",
        "    if pclass==3 and gender=='male':\n",
        "      return 26\n",
        "    if pclass==3 and gender=='female':\n",
        "      return 22\n",
        "  else:\n",
        "    return age"
      ],
      "execution_count": 24,
      "outputs": []
    },
    {
      "cell_type": "code",
      "metadata": {
        "id": "HdJv4zPrrMlp",
        "colab_type": "code",
        "colab": {}
      },
      "source": [
        "train['Age']=train[['Age','Pclass','Sex']].apply(fill_age,axis=1)\n",
        "test['Age']=test[['Age','Pclass','Sex']].apply(fill_age,axis=1)"
      ],
      "execution_count": 25,
      "outputs": []
    },
    {
      "cell_type": "markdown",
      "metadata": {
        "id": "Dvu1G-T4lqml",
        "colab_type": "text"
      },
      "source": [
        "Filling embarked missing values with mode"
      ]
    },
    {
      "cell_type": "code",
      "metadata": {
        "id": "dr4NCQpV1-BH",
        "colab_type": "code",
        "colab": {}
      },
      "source": [
        "train['Embarked']=train['Embarked'].fillna(train['Embarked'].value_counts().index[0])\n",
        "test['Embarked']=test['Embarked'].fillna(test['Embarked'].value_counts().index[0])"
      ],
      "execution_count": 26,
      "outputs": []
    },
    {
      "cell_type": "markdown",
      "metadata": {
        "id": "b1gi6TSXl6pu",
        "colab_type": "text"
      },
      "source": [
        "Filling the fare null values in test data by its mean , we can also use Pclass factor to fill null values of fare as we did it in age columns. But for now we will fill it by mean value becuase only 1 value of fare is null"
      ]
    },
    {
      "cell_type": "code",
      "metadata": {
        "id": "V6XxAgTR4Ia9",
        "colab_type": "code",
        "colab": {}
      },
      "source": [
        "test['Fare']=test['Fare'].fillna(np.mean(test['Fare']))"
      ],
      "execution_count": 27,
      "outputs": []
    },
    {
      "cell_type": "markdown",
      "metadata": {
        "id": "U4YWDcWumg4u",
        "colab_type": "text"
      },
      "source": [
        "We will fill null values of cabin by U meaning unknown rather than dropping it because it may be helpful in feature engg ahead"
      ]
    },
    {
      "cell_type": "code",
      "metadata": {
        "id": "D4T58S8LmU6-",
        "colab_type": "code",
        "colab": {}
      },
      "source": [
        "train['Cabin']=train['Cabin'].fillna(value='U')\n",
        "test['Cabin']=test['Cabin'].fillna(value='U')"
      ],
      "execution_count": 28,
      "outputs": []
    },
    {
      "cell_type": "code",
      "metadata": {
        "id": "1dEKEvWnrlGM",
        "colab_type": "code",
        "colab": {
          "base_uri": "https://localhost:8080/",
          "height": 235
        },
        "outputId": "09004c01-dabb-4fd5-c73b-9072e558d8bc"
      },
      "source": [
        "train.isnull().sum()"
      ],
      "execution_count": 29,
      "outputs": [
        {
          "output_type": "execute_result",
          "data": {
            "text/plain": [
              "PassengerId    0\n",
              "Survived       0\n",
              "Pclass         0\n",
              "Name           0\n",
              "Sex            0\n",
              "Age            0\n",
              "SibSp          0\n",
              "Parch          0\n",
              "Ticket         0\n",
              "Fare           0\n",
              "Cabin          0\n",
              "Embarked       0\n",
              "dtype: int64"
            ]
          },
          "metadata": {
            "tags": []
          },
          "execution_count": 29
        }
      ]
    },
    {
      "cell_type": "code",
      "metadata": {
        "id": "eBZyI3Nqrm8v",
        "colab_type": "code",
        "colab": {
          "base_uri": "https://localhost:8080/",
          "height": 218
        },
        "outputId": "8abce64d-dac3-4e36-af3b-6ebf2ceada8e"
      },
      "source": [
        "test.isnull().sum()"
      ],
      "execution_count": 30,
      "outputs": [
        {
          "output_type": "execute_result",
          "data": {
            "text/plain": [
              "PassengerId    0\n",
              "Pclass         0\n",
              "Name           0\n",
              "Sex            0\n",
              "Age            0\n",
              "SibSp          0\n",
              "Parch          0\n",
              "Ticket         0\n",
              "Fare           0\n",
              "Cabin          0\n",
              "Embarked       0\n",
              "dtype: int64"
            ]
          },
          "metadata": {
            "tags": []
          },
          "execution_count": 30
        }
      ]
    },
    {
      "cell_type": "markdown",
      "metadata": {
        "id": "fbPnWkTe_T1o",
        "colab_type": "text"
      },
      "source": [
        "# Feature Engg"
      ]
    },
    {
      "cell_type": "code",
      "metadata": {
        "id": "tIfxNle5_Vvk",
        "colab_type": "code",
        "colab": {}
      },
      "source": [
        "# Lets extract some more relevant features from given data "
      ],
      "execution_count": 31,
      "outputs": []
    },
    {
      "cell_type": "markdown",
      "metadata": {
        "id": "EeVNFkpSFiyz",
        "colab_type": "text"
      },
      "source": [
        "### Name"
      ]
    },
    {
      "cell_type": "code",
      "metadata": {
        "id": "ncMqwQb1_VyM",
        "colab_type": "code",
        "colab": {}
      },
      "source": [
        "#let's extract Titles of Passengers\n",
        "train['Title']=train['Name'].str.extract('([A-Za-z]+)\\.',)\n",
        "test['Title']=test['Name'].str.extract('([A-Za-z]+)\\.',)"
      ],
      "execution_count": 32,
      "outputs": []
    },
    {
      "cell_type": "code",
      "metadata": {
        "id": "XKP5QF-at233",
        "colab_type": "code",
        "colab": {
          "base_uri": "https://localhost:8080/",
          "height": 514
        },
        "outputId": "56464e06-c2cb-476e-a078-1ac0761d2bce"
      },
      "source": [
        "plt.figure(figsize=(8,8))\n",
        "sns.countplot(train['Title'])"
      ],
      "execution_count": 33,
      "outputs": [
        {
          "output_type": "execute_result",
          "data": {
            "text/plain": [
              "<matplotlib.axes._subplots.AxesSubplot at 0x7f4e198a6470>"
            ]
          },
          "metadata": {
            "tags": []
          },
          "execution_count": 33
        },
        {
          "output_type": "display_data",
          "data": {
            "image/png": "[encoded data removed]",
            "text/plain": [
              "<Figure size 576x576 with 1 Axes>"
            ]
          },
          "metadata": {
            "tags": []
          }
        }
      ]
    },
    {
      "cell_type": "code",
      "metadata": {
        "id": "oL-49WcZuIjY",
        "colab_type": "code",
        "colab": {}
      },
      "source": [
        "# There are lot of titles but only 4 are frequently occuring \n",
        "train['Title'] = train['Title'].replace(['Rev', 'Dr', 'Col', 'Ms', 'Mlle', 'Major', 'Countess', \n",
        "                                       'Capt', 'Dona', 'Jonkheer', 'Lady', 'Sir', 'Mme', 'Don'], 'Other')\n",
        "test['Title'] = test['Title'].replace(['Rev', 'Dr', 'Col', 'Ms', 'Mlle', 'Major', 'Countess', \n",
        "                                       'Capt', 'Dona', 'Jonkheer', 'Lady', 'Sir', 'Mme', 'Don'], 'Other')"
      ],
      "execution_count": 34,
      "outputs": []
    },
    {
      "cell_type": "code",
      "metadata": {
        "id": "fWyoto2i_V2K",
        "colab_type": "code",
        "colab": {
          "base_uri": "https://localhost:8080/",
          "height": 386
        },
        "outputId": "cea12a00-d415-4c09-fb88-d045cfcd37d8"
      },
      "source": [
        "sns.catplot(y='Title',x='Survived',data=train,kind='bar')"
      ],
      "execution_count": 35,
      "outputs": [
        {
          "output_type": "execute_result",
          "data": {
            "text/plain": [
              "<seaborn.axisgrid.FacetGrid at 0x7f4e164d7c50>"
            ]
          },
          "metadata": {
            "tags": []
          },
          "execution_count": 35
        },
        {
          "output_type": "display_data",
          "data": {
            "image/png": "[encoded data removed]",
            "text/plain": [
              "<Figure size 360x360 with 1 Axes>"
            ]
          },
          "metadata": {
            "tags": []
          }
        }
      ]
    },
    {
      "cell_type": "markdown",
      "metadata": {
        "id": "-xM25gBNFlGN",
        "colab_type": "text"
      },
      "source": [
        "### Sibsp + Parch "
      ]
    },
    {
      "cell_type": "code",
      "metadata": {
        "id": "xDgYeE3TFQqK",
        "colab_type": "code",
        "colab": {}
      },
      "source": [
        "#sibsp - Number of Siblings/Spouses Aboard. parch - Number of Parents/Children --> We need to feature engg these column as parch and sibsb are highly correlated   \n",
        "train['Family_Size']=train['Parch']+train['SibSp']+1\n",
        "test['Family_Size']=test['Parch']+test['SibSp']+1"
      ],
      "execution_count": 36,
      "outputs": []
    },
    {
      "cell_type": "markdown",
      "metadata": {
        "id": "AjohFFFdJ9T3",
        "colab_type": "text"
      },
      "source": [
        "### Cabin"
      ]
    },
    {
      "cell_type": "code",
      "metadata": {
        "id": "MmeY-wTcqp21",
        "colab_type": "code",
        "colab": {}
      },
      "source": [
        "import re"
      ],
      "execution_count": 37,
      "outputs": []
    },
    {
      "cell_type": "code",
      "metadata": {
        "id": "yJ41a1ypodeG",
        "colab_type": "code",
        "colab": {}
      },
      "source": [
        "train['Cabin'] = train['Cabin'].map(lambda x:re.compile(\"([a-zA-Z])\").search(x).group())\n",
        "test['Cabin'] = test['Cabin'].map(lambda x:re.compile(\"([a-zA-Z])\").search(x).group())"
      ],
      "execution_count": 38,
      "outputs": []
    },
    {
      "cell_type": "code",
      "metadata": {
        "id": "ek-_CB9FqsEc",
        "colab_type": "code",
        "colab": {
          "base_uri": "https://localhost:8080/",
          "height": 34
        },
        "outputId": "e8a12769-f6fe-4edf-aa9f-f9e5caba6c64"
      },
      "source": [
        "train['Cabin'].unique()"
      ],
      "execution_count": 39,
      "outputs": [
        {
          "output_type": "execute_result",
          "data": {
            "text/plain": [
              "array(['U', 'C', 'E', 'G', 'D', 'A', 'B', 'F', 'T'], dtype=object)"
            ]
          },
          "metadata": {
            "tags": []
          },
          "execution_count": 39
        }
      ]
    },
    {
      "cell_type": "code",
      "metadata": {
        "id": "ZDYPQ8lvszNP",
        "colab_type": "code",
        "colab": {
          "base_uri": "https://localhost:8080/",
          "height": 352
        },
        "outputId": "ad0cce8a-7f64-40fa-a213-93877c1e8b2b"
      },
      "source": [
        "plt.figure(figsize=(12,5))\n",
        "\n",
        "plt.subplot(1,2,1)\n",
        "sns.countplot(x='Cabin',data=train)\n",
        "\n",
        "plt.subplot(1,2,2)\n",
        "sns.set_style('whitegrid')\n",
        "sns.countplot(x='Survived',hue='Cabin',data=train)"
      ],
      "execution_count": 40,
      "outputs": [
        {
          "output_type": "execute_result",
          "data": {
            "text/plain": [
              "<matplotlib.axes._subplots.AxesSubplot at 0x7f4e16616a20>"
            ]
          },
          "metadata": {
            "tags": []
          },
          "execution_count": 40
        },
        {
          "output_type": "display_data",
          "data": {
            "image/png": "[encoded data removed]",
            "text/plain": [
              "<Figure size 864x360 with 2 Axes>"
            ]
          },
          "metadata": {
            "tags": []
          }
        }
      ]
    },
    {
      "cell_type": "markdown",
      "metadata": {
        "id": "vxOIWNt85rf1",
        "colab_type": "text"
      },
      "source": [
        "Lot of people did not survive who had no cabin alloted. May be they belonged to Pclass 3 and paid less fare. Lets check."
      ]
    },
    {
      "cell_type": "code",
      "metadata": {
        "id": "dgmxq52G6CRI",
        "colab_type": "code",
        "colab": {}
      },
      "source": [
        "unknown_cabin=train[train['Cabin']=='U']"
      ],
      "execution_count": 41,
      "outputs": []
    },
    {
      "cell_type": "code",
      "metadata": {
        "id": "6jIr9PFD6N5m",
        "colab_type": "code",
        "colab": {
          "base_uri": "https://localhost:8080/",
          "height": 84
        },
        "outputId": "db8c2db8-0073-49ee-d8e1-371019a0b1cc"
      },
      "source": [
        "unknown_cabin['Pclass'].value_counts()"
      ],
      "execution_count": 42,
      "outputs": [
        {
          "output_type": "execute_result",
          "data": {
            "text/plain": [
              "3    479\n",
              "2    168\n",
              "1     40\n",
              "Name: Pclass, dtype: int64"
            ]
          },
          "metadata": {
            "tags": []
          },
          "execution_count": 42
        }
      ]
    },
    {
      "cell_type": "code",
      "metadata": {
        "id": "s-8wJu_v6TZE",
        "colab_type": "code",
        "colab": {
          "base_uri": "https://localhost:8080/",
          "height": 101
        },
        "outputId": "aea92253-5ab5-401c-8ad8-a93a572004dc"
      },
      "source": [
        "unknown_cabin.groupby('Pclass')['Fare'].mean()"
      ],
      "execution_count": 43,
      "outputs": [
        {
          "output_type": "execute_result",
          "data": {
            "text/plain": [
              "Pclass\n",
              "1    76.848643\n",
              "2    20.909673\n",
              "3    13.725077\n",
              "Name: Fare, dtype: float64"
            ]
          },
          "metadata": {
            "tags": []
          },
          "execution_count": 43
        }
      ]
    },
    {
      "cell_type": "markdown",
      "metadata": {
        "id": "Kf1HPTfuzZF5",
        "colab_type": "text"
      },
      "source": [
        "## Tickets "
      ]
    },
    {
      "cell_type": "code",
      "metadata": {
        "id": "BirbZmqS24Zn",
        "colab_type": "code",
        "colab": {}
      },
      "source": [
        "ticket_fare_cabin=pd.DataFrame(train.groupby(['Cabin','Pclass'])['Ticket'].unique())"
      ],
      "execution_count": 44,
      "outputs": []
    },
    {
      "cell_type": "code",
      "metadata": {
        "id": "mgiCG4Dl24hY",
        "colab_type": "code",
        "colab": {
          "base_uri": "https://localhost:8080/",
          "height": 1000
        },
        "outputId": "f66bf75a-1bf3-48ff-d550-e7a4ceb3e63c"
      },
      "source": [
        "ticket_fare_cabin.to_dict()"
      ],
      "execution_count": 45,
      "outputs": [
        {
          "output_type": "execute_result",
          "data": {
            "text/plain": [
              "{'Ticket': {('A',\n",
              "   1): array(['113788', 'PC 17754', '17764', '113767', '112277', '113056',\n",
              "         '33638', '110465', '11755', '13049', 'PC 17485', '27042', '13213',\n",
              "         '112050', 'PC 17590'], dtype=object),\n",
              "  ('B',\n",
              "   1): array(['PC 17569', '113509', '113572', 'PC 17558', 'PC 17593', '111240',\n",
              "         'PC 17610', '110152', '112059', '11967', 'PC 17608', '111361',\n",
              "         'PC 17477', '113760', '11771', '12749', '113050', '13568',\n",
              "         'WE/P 5735', '13567', '13214', 'F.C. 12750', 'PC 17755', '24160',\n",
              "         '17474', '112058', '695', '112053'], dtype=object),\n",
              "  ('C', 1): array(['PC 17599', '113803', '113783', '19950', '19947', '36973',\n",
              "         '110465', '113776', 'PC 17595', '19943', '19928', '113514',\n",
              "         'PC 17582', 'PC 17760', 'PC 17596', '113781', '19988', 'PC 17758',\n",
              "         '11767', '36928', '113043', '113510', '113503', '110564', '113786',\n",
              "         '113051', '17453', '113787', 'PC 17483', 'PC 17761', '17421',\n",
              "         '11769', '19996', 'PC 17757', 'PC 17482', '113028', '19877',\n",
              "         '11774', '111369'], dtype=object),\n",
              "  ('D', 1): array(['PC 17572', 'PC 17759', '35281', '11752', '35273', '11813',\n",
              "         '11751', '13502', '110813', '17464', '36947', '36967', '11753',\n",
              "         '36963', '16988', '113773', '113501', '17465', 'PC 17592', '17466'],\n",
              "        dtype=object),\n",
              "  ('D', 2): array(['248698', 'SC/Paris 2163', '28551', 'SC/AH Basle 541'],\n",
              "        dtype=object),\n",
              "  ('E',\n",
              "   1): array(['17463', 'W.E.P. 5734', '113505', '110413', 'PC 17485', '16966',\n",
              "         '11765', '13507', '13509', '19952', '111320', 'PC 17473',\n",
              "         'PC 17474', '5727', 'PC 17475', 'PC 17476', '113806', 'PC 17756',\n",
              "         '113055'], dtype=object),\n",
              "  ('E', 2): array(['27267', '226593', '34218', 'S.O./P.P. 3'], dtype=object),\n",
              "  ('E', 3): array(['SOTON/O.Q. 392078', '392096'], dtype=object),\n",
              "  ('F', 2): array(['C.A. 29395', '230080', '230136', '248733', 'C.A. 34260'],\n",
              "        dtype=object),\n",
              "  ('F',\n",
              "   3): array(['348123', '2668', '348121', '348124', '383121'], dtype=object),\n",
              "  ('G', 3): array(['PP 9549', '347054'], dtype=object),\n",
              "  ('T', 1): array(['113784'], dtype=object),\n",
              "  ('U',\n",
              "   1): array(['PC 17601', 'PC 17604', '113789', 'PC 17605', '113059', 'PC 17597',\n",
              "         'PC 17318', '111428', 'PC 17585', 'PC 17755', '113798', '19877',\n",
              "         'PC 17612', '17421', 'PC 17611', 'PC 17760', 'PC 17757', '113794',\n",
              "         '113792', 'PC 17609', '111427', 'PC 17603', 'PC 17761', '693',\n",
              "         '113807', '113796', '111426', '113804', '112052', '113800',\n",
              "         '113781', '112379', 'PC 17600', '19972', '36928'], dtype=object),\n",
              "  ('U',\n",
              "   2): array(['237736', '248706', '244373', '239865', 'C.A. 24579', '11668',\n",
              "         'SC/Paris 2123', '2926', 'C.A. 31026', 'C.A. 34651', 'C.A. 33111',\n",
              "         'S.O.C. 14879', '248738', 'SO/C 14885', '231919', '244367',\n",
              "         '228414', 'C.A. 29178', 'SC/PARIS 2133', '231945', 'C.A. 33112',\n",
              "         '244310', 'S.O.P. 1166', 'C.A. 33595', '250653', 'SC/PARIS 2131',\n",
              "         '234604', '28424', '248747', 'F.C.C. 13528', '250646', '243847',\n",
              "         'W/C 14208', '220367', 'SW/PP 751', '236171', '237442',\n",
              "         'C.A. 29566', '26707', 'C.A. 31921', '28665', 'SCO/W 1585',\n",
              "         'W./C. 14263', '250649', '244252', '230433', 'C.A. 17248',\n",
              "         '250644', '239853', '237798', 'P/PP 3381', '250651',\n",
              "         'F.C.C. 13529', '29011', '234818', '248740', '244361', '229236',\n",
              "         '31418', '237671', 'SC/PARIS 2167', '27849', 'SC 1748', '28403',\n",
              "         '244278', '240929', '28664', '29106', '28220', '250652', '28228',\n",
              "         '2003', '250655', 'SC/AH 3085', 'C.A. 18723', '230434',\n",
              "         'F.C.C. 13531', '234360', '31027', '239854', '26360', '226875',\n",
              "         'W./C. 14258', '29104', '2908', 'SC/PARIS 2146', '244358',\n",
              "         '218629', 'S.W./PP 752', '243880', '237789', '237565',\n",
              "         'SC/AH 29037', '248727', '220845', '31028', '219533', '237668',\n",
              "         '29751', '234686', '29750', 'C.A. 24580', '244270', '239856',\n",
              "         '248731', '223596', '250647', '12233', '250643', '236853',\n",
              "         '239855', '28425', '233639', '250648', '29103', '29108', '29105',\n",
              "         '28213', '248723', '28206', 'S.C./PARIS 2079', 'S.O./P.P. 3',\n",
              "         '28134', '233866', '236852', 'SC/PARIS 2149', 'C.A./SOTON 34068',\n",
              "         '211536'], dtype=object),\n",
              "  ('U',\n",
              "   3): array(['A/5 21171', 'STON/O2. 3101282', '373450', '330877', '349909',\n",
              "         '347742', 'A/5. 2151', '347082', '350406', '382652', '345763',\n",
              "         '2649', '330923', '347077', '2631', '330959', '349216', '335677',\n",
              "         '2677', 'A./5. 2152', '345764', '2651', '7546', '349253', '330958',\n",
              "         'S.C./A.4. 23567', '370371', '14311', '2662', '349237', '3101295',\n",
              "         'A/4. 39886', '2697', 'CA 2144', '2669', '347088', '2661',\n",
              "         'S.P. 3464', '3101281', '315151', '2680', '1601', '349208',\n",
              "         '374746', '364516', '345767', '345779', '330932', '3101278',\n",
              "         'W./C. 6608', 'SOTON/OQ 392086', '343275', '343276', '347466',\n",
              "         'C.A. 2315', '364500', '374910', '349245', '349215', '7540',\n",
              "         '3101276', '349207', '343120', '312991', '349249', '371110',\n",
              "         '2665', '324669', '4136', '2627', 'STON/O 2. 3101294', '370369',\n",
              "         'A4. 54510', '370372', 'C 17369', '347061', '349241',\n",
              "         'SOTON/O.Q. 3101307', 'A/5. 3337', '7534', '2678', '347081',\n",
              "         'STON/O2. 3101279', '365222', '350043', 'A.5. 11206', 'A/5. 851',\n",
              "         'Fa 265302', '35851', 'SOTON/OQ 392090', '315037', 'CA. 2343',\n",
              "         '371362', '347068', '315093', '363291', 'STON/O 2. 3101280',\n",
              "         '350404', '4133', 'LINE', '315153', '370365', '364849', '349247',\n",
              "         '350046', '368703', '4579', '370370', '345770', '3101264', '2628',\n",
              "         'A/5 3540', '2699', '367231', 'SOTON/O.Q. 3101311', 'A/5 21174',\n",
              "         '367229', 'STON/O2. 3101283', 'SOTON/OQ 392089', '21440', '349234',\n",
              "         'PP 4348', 'A/5 21173', '347067', 'W./C. 6609', '367230',\n",
              "         'STON/O 2. 3101275', '2694', '347071', '362316', 'A/5. 3336',\n",
              "         '370129', '2650', '384461', '382649', '347083', '370375', '347073',\n",
              "         'C.A. 2673', '336439', '347464', '345778', 'A/5. 10482', '349239',\n",
              "         '345774', '349206', '370373', '349236', '349233', '2693', '9234',\n",
              "         '367226', 'A/5 2466', '349243', '347470', 'A/5 21172', '349219',\n",
              "         '345364', '349225', '7598', '386525', 'C.A. 37671', '315088',\n",
              "         '7267', '2695', '2647', '345783', '330931', '330980', '2691',\n",
              "         'SOTON/O.Q. 3101310', 'C 7076', '2626', '14313', '3101267',\n",
              "         '323951', 'C 7077', '2648', '347069', '2653', 'STON/O 2. 3101293',\n",
              "         '349227', '367655', '350034', '3101277', '350052', '350407',\n",
              "         'STON/O 2. 3101289', '341826', '4137', '315096', '347064',\n",
              "         '312992', '349222', '394140', 'STON/O 2. 3101269', '343095',\n",
              "         '345773', '349254', 'A/5. 13032', '315082', '347080', 'A/4. 34244',\n",
              "         '364851', '376564', 'STON/O 2. 3101274', '345769', '347076',\n",
              "         '65306', '2666', '65303', 'A/5 2817', '349240', '371060', '364506',\n",
              "         'A/S 2816', 'SOTON/O.Q. 3101306', '36209', '323592', '315089',\n",
              "         '7553', '3460', '350060', '3101298', 'A/5 3594', '4134',\n",
              "         'A.5. 18509', '65304', 'SOTON/OQ 3101317', 'A/4 45380',\n",
              "         'C.A. 6212', '350035', '315086', '364846', '330909', '4135',\n",
              "         'C 4001', '382651', 'SOTON/OQ 3101316', '349209', '349242',\n",
              "         '349252', '2624', '2700', '367232', '3101296', '2641', '2690',\n",
              "         '2668', '315084', '364498', '330979', '2620', '347085', '345572',\n",
              "         '372622', '349251', 'SOTON/OQ 392082', 'SOTON/O.Q. 392087',\n",
              "         'A/4 48871', '349205', '2686', '350417', '14312', 'A/4. 20589',\n",
              "         '358585', '2689', 'STON/O 2. 3101286', '3411', '14973',\n",
              "         'A./5. 3235', 'STON/O 2. 3101273', 'A/5 3902', '364848', '2664',\n",
              "         '349214', '364511', '349910', '349246', 'SOTON/O.Q. 3101305',\n",
              "         '370377', '364512', '2659', '350029', '54636', '349224', '334912',\n",
              "         '347743', 'STON/O 2. 3101292', '350050', '349231', 'S.O./P.P. 751',\n",
              "         'CA. 2314', '349221', '8475', '330919', '365226', '349223', '2623',\n",
              "         '349210', 'STON/O 2. 3101285', '312993', 'A/5 3536', '349912',\n",
              "         '342826', '4138', '330935', '6563', '349228', '350036', '349256',\n",
              "         '2672', '363592', '35852', '36864', '350025', '7545', '36568',\n",
              "         '347062', '350048', '315094', '36866', 'STON/O2. 3101271',\n",
              "         '349201', '349218', '376566', 'STON/O 2. 3101288', '335097',\n",
              "         '345780', '349204', '350042', '363294', 'SOTON/O2 3101272', '2663',\n",
              "         '347074', '364850', '8471', '345781', '350047', '2674', '347078',\n",
              "         '36865', '2687', 'W./C. 6607', 'SOTON/O.Q. 3101312', '374887',\n",
              "         '3101265', '12460', '349203', '349244', '2685', '2625', '347089',\n",
              "         '347063', '347087', '3474', '364499', 'STON/O2. 3101290', 'C 7075',\n",
              "         '315098', '368323', '367228', '2671', '347468', '2223', '315097',\n",
              "         '392092', 'SOTON/O2 3101287', '2683', '315090', 'C.A. 5547',\n",
              "         '349213', '347060', '392091', '2629', '350026', '345777', '349248',\n",
              "         '345765', '2667', '349212', '349217', '349257', '7552',\n",
              "         'SOTON/OQ 392076', '370376'], dtype=object)}}"
            ]
          },
          "metadata": {
            "tags": []
          },
          "execution_count": 45
        }
      ]
    },
    {
      "cell_type": "markdown",
      "metadata": {
        "id": "WUY1k5a68rYr",
        "colab_type": "text"
      },
      "source": [
        "Lets Observe some points in ticket column:-\n",
        "\n",
        "\n",
        "*   T Cabin was alloted only to one person of Pclass 1 with ticket no:-113784\n",
        "*   Cabin A,B,C,D was never alloted to person of Pclass 3, infact Cabin A,B,C were only given to Pclass 1\n",
        "*   Cabin E,F,G were given to Pclass 2 and 3\n",
        "*   Majority of Pclass 3 were given unkown cabins \n",
        "\n",
        "\n",
        "\n"
      ]
    },
    {
      "cell_type": "code",
      "metadata": {
        "id": "KC6tLIo8_mtv",
        "colab_type": "code",
        "colab": {}
      },
      "source": [
        "#We can make new columns from cabin+pclass as Superior_Cabins and Non-Superior_Cabins\n",
        "def superior_cabins(df):\n",
        "  if df['Cabin']=='A' or df['Cabin']=='B' or df['Cabin']=='C' or df['Cabin']=='D' or df['Cabin']=='T':\n",
        "    return 1\n",
        "  if df['Cabin']=='E' or df['Cabin']=='F' or df['Cabin']=='G':\n",
        "    return 0\n",
        "  if df['Cabin']=='U' and df['Pclass']==1:\n",
        "    return 1\n",
        "  if df['Cabin']=='U' and df['Pclass']==2:\n",
        "    return 0\n",
        "  if df['Cabin']=='U' and df['Pclass']==3:\n",
        "    return 0"
      ],
      "execution_count": 46,
      "outputs": []
    },
    {
      "cell_type": "code",
      "metadata": {
        "id": "kFKj2GX9AyHg",
        "colab_type": "code",
        "colab": {}
      },
      "source": [
        "train['Superior_Cabins']=train.apply(lambda x:superior_cabins(x),axis=1)"
      ],
      "execution_count": 47,
      "outputs": []
    },
    {
      "cell_type": "code",
      "metadata": {
        "id": "UGdKtgQoRio_",
        "colab_type": "code",
        "colab": {}
      },
      "source": [
        "test['Superior_Cabins']=test.apply(lambda x:superior_cabins(x),axis=1)"
      ],
      "execution_count": 48,
      "outputs": []
    },
    {
      "cell_type": "code",
      "metadata": {
        "id": "NHMpPfrn-QWH",
        "colab_type": "code",
        "colab": {
          "base_uri": "https://localhost:8080/",
          "height": 1000
        },
        "outputId": "6b25f07c-0633-4987-f3e0-5195d06b5c70"
      },
      "source": [
        "train.groupby(['Cabin','Embarked'])['Ticket'].unique().to_dict()"
      ],
      "execution_count": 49,
      "outputs": [
        {
          "output_type": "execute_result",
          "data": {
            "text/plain": [
              "{('A',\n",
              "  'C'): array(['PC 17754', '17764', '112277', '11755', '13049', 'PC 17485',\n",
              "        '13213'], dtype=object),\n",
              " ('A',\n",
              "  'S'): array(['113788', '113767', '113056', '33638', '110465', '27042', '112050',\n",
              "        'PC 17590'], dtype=object),\n",
              " ('B',\n",
              "  'C'): array(['PC 17569', '113509', 'PC 17558', 'PC 17593', 'PC 17610', '11967',\n",
              "        'PC 17608', '111361', 'PC 17477', '11771', '13568', '13567',\n",
              "        '13214', 'PC 17755'], dtype=object),\n",
              " ('B', 'S'): array(['113572', '111240', '110152', '112059', '113760', '12749',\n",
              "        '113050', 'WE/P 5735', 'F.C. 12750', '24160', '17474', '112058',\n",
              "        '695', '112053'], dtype=object),\n",
              " ('C', 'C'): array(['PC 17599', 'PC 17595', 'PC 17596', 'PC 17758', '11767',\n",
              "        'PC 17760', '113503', '113051', '17453', 'PC 17761', '17421',\n",
              "        'PC 17757', 'PC 17482', '11774', '111369'], dtype=object),\n",
              " ('C', 'Q'): array(['19928'], dtype=object),\n",
              " ('C',\n",
              "  'S'): array(['113803', '113783', '19950', '19947', '36973', '110465', '113776',\n",
              "        '19943', '113514', 'PC 17582', 'PC 17760', '113781', '19988',\n",
              "        '36928', '113043', '113510', '110564', '113786', '113787',\n",
              "        'PC 17483', '11769', '19996', '113028', '19877'], dtype=object),\n",
              " ('D', 'C'): array(['PC 17572', 'PC 17759', '35273', '11813', 'SC/Paris 2163',\n",
              "        '110813', 'SC/AH Basle 541', '36947'], dtype=object),\n",
              " ('D',\n",
              "  'S'): array(['248698', '35281', '11752', '11751', '13502', '28551', '17464',\n",
              "        '36967', '11753', '36963', '16988', '113773', '113501', '17465',\n",
              "        'PC 17592', '17466'], dtype=object),\n",
              " ('E', 'C'): array(['PC 17485', '16966', '11765', 'PC 17756'], dtype=object),\n",
              " ('E', 'Q'): array(['226593'], dtype=object),\n",
              " ('E', 'S'): array(['17463', 'W.E.P. 5734', '27267', '113505', '110413',\n",
              "        'SOTON/O.Q. 392078', '13507', '13509', '19952', '111320',\n",
              "        'PC 17473', 'PC 17474', '5727', 'PC 17475', 'PC 17476', '34218',\n",
              "        '113806', '392096', 'S.O./P.P. 3', '113055'], dtype=object),\n",
              " ('F', 'C'): array(['2668'], dtype=object),\n",
              " ('F', 'Q'): array(['383121'], dtype=object),\n",
              " ('F',\n",
              "  'S'): array(['C.A. 29395', '348123', '230080', '230136', '248733', 'C.A. 34260',\n",
              "        '348121', '348124'], dtype=object),\n",
              " ('G', 'S'): array(['PP 9549', '347054'], dtype=object),\n",
              " ('T', 'S'): array(['113784'], dtype=object),\n",
              " ('U',\n",
              "  'C'): array(['237736', '2649', '2631', 'PC 17601', 'PC 17604', '2677', '2651',\n",
              "        '349253', 'SC/Paris 2123', '2662', '2697', '2669', 'PC 17605',\n",
              "        '2661', '2680', '2665', '2627', '349241', 'SC/PARIS 2133', '2678',\n",
              "        'PC 17597', 'SC/PARIS 2131', '2628', '2699', '2694', '2650',\n",
              "        'PC 17585', 'PC 17755', '349239', 'PC 17612', '2693', '17421',\n",
              "        'P/PP 3381', '2695', '2647', 'SC/PARIS 2167', '2691', '2626',\n",
              "        'PC 17760', '2648', 'PC 17757', '2653', 'SC 1748', '349254',\n",
              "        '2666', '349240', 'PC 17609', 'PC 17603', '2624', '2700', '2641',\n",
              "        '2690', '2668', 'PC 17761', 'SC/PARIS 2146', '2620', '2686',\n",
              "        '2689', '3411', '2664', '111426', '2659', '2623', '349256', '2672',\n",
              "        '2663', '112379', '2674', '2687', 'PC 17600', '2685', '2625',\n",
              "        'S.C./PARIS 2079', '2671', '113798', '2683', '349213', '2629',\n",
              "        'SC/PARIS 2149', '2667'], dtype=object),\n",
              " ('U', 'Q'): array(['330877', '382652', '330923', '330959', '335677', '330958',\n",
              "        '370371', '14311', '330932', '371110', '370369', '370372',\n",
              "        '365222', '35851', '370365', '364849', '368703', '370370',\n",
              "        '367231', '367229', '367230', '384461', '382649', '370375',\n",
              "        '336439', '370373', '9234', '367226', '234818', '330931', '330980',\n",
              "        '14313', '367655', '394140', 'A/5. 13032', '364851', '371060',\n",
              "        '36209', '364846', '330909', '382651', '367232', '330979',\n",
              "        '372622', '14312', '364848', '370377', '219533', '334912',\n",
              "        '330919', '365226', '330935', '35852', '36864', '36568', '36866',\n",
              "        '335097', '364850', '36865', '12460', '368323', '367228', '370376'],\n",
              "       dtype=object),\n",
              " ('U',\n",
              "  'S'): array(['A/5 21171', 'STON/O2. 3101282', '373450', '349909', '347742',\n",
              "        'A/5. 2151', '347082', '350406', '248706', '244373', '345763',\n",
              "        '239865', '347077', '349216', 'C.A. 24579', '113789', 'A./5. 2152',\n",
              "        '345764', '7546', '11668', 'S.C./A.4. 23567', '349237', '3101295',\n",
              "        'A/4. 39886', '2926', 'C.A. 31026', 'C.A. 34651', 'CA 2144',\n",
              "        '347088', 'S.P. 3464', '3101281', '315151', 'C.A. 33111',\n",
              "        'S.O.C. 14879', '1601', '349208', '374746', '248738', '364516',\n",
              "        '345767', '345779', '113059', 'SO/C 14885', '3101278',\n",
              "        'W./C. 6608', 'SOTON/OQ 392086', '343275', '343276', '347466',\n",
              "        'C.A. 2315', '364500', '374910', '231919', '244367', '349245',\n",
              "        '349215', '7540', '3101276', '349207', '343120', '312991',\n",
              "        '349249', '324669', '4136', 'STON/O 2. 3101294', 'A4. 54510',\n",
              "        'C 17369', '347061', 'SOTON/O.Q. 3101307', 'A/5. 3337', '228414',\n",
              "        'C.A. 29178', '7534', '347081', 'STON/O2. 3101279', '231945',\n",
              "        'C.A. 33112', '350043', '244310', 'S.O.P. 1166', 'A.5. 11206',\n",
              "        'A/5. 851', 'Fa 265302', 'SOTON/OQ 392090', '315037', 'CA. 2343',\n",
              "        '371362', 'C.A. 33595', '347068', '315093', '363291', 'PC 17318',\n",
              "        'STON/O 2. 3101280', '350404', '4133', '250653', 'LINE', '315153',\n",
              "        '111428', '349247', '234604', '28424', '350046', '4579', '248747',\n",
              "        '345770', '3101264', 'A/5 3540', 'SOTON/O.Q. 3101311',\n",
              "        'F.C.C. 13528', 'A/5 21174', '250646', 'STON/O2. 3101283',\n",
              "        '243847', 'W/C 14208', 'SOTON/OQ 392089', '220367', '21440',\n",
              "        '349234', 'PP 4348', 'SW/PP 751', 'A/5 21173', '236171', '347067',\n",
              "        '237442', 'C.A. 29566', 'W./C. 6609', '26707', 'C.A. 31921',\n",
              "        '28665', 'SCO/W 1585', 'W./C. 14263', 'STON/O 2. 3101275',\n",
              "        '347071', '250649', '244252', '362316', 'A/5. 3336', '370129',\n",
              "        '230433', 'C.A. 17248', '347083', '113798', '250644', '347073',\n",
              "        '239853', 'C.A. 2673', '347464', '345778', 'A/5. 10482', '345774',\n",
              "        '349206', '237798', '19877', '349236', '349233', 'A/5 2466',\n",
              "        '250651', '349243', 'F.C.C. 13529', '347470', '29011', 'A/5 21172',\n",
              "        '349219', '345364', 'PC 17611', '349225', '7598', '248740',\n",
              "        '244361', '229236', '31418', '386525', 'C.A. 37671', '315088',\n",
              "        '7267', '345783', '237671', 'SOTON/O.Q. 3101310', 'C 7076',\n",
              "        '3101267', '323951', 'C 7077', '347069', 'STON/O 2. 3101293',\n",
              "        '349227', '27849', '350034', '3101277', '350052', '350407',\n",
              "        '28403', '244278', '240929', 'STON/O 2. 3101289', '341826', '4137',\n",
              "        '315096', '28664', '347064', '29106', '312992', '349222',\n",
              "        'STON/O 2. 3101269', '343095', '28220', '250652', '28228',\n",
              "        '345773', '315082', '347080', 'A/4. 34244', '2003', '250655',\n",
              "        '376564', 'SC/AH 3085', 'STON/O 2. 3101274', 'C.A. 18723',\n",
              "        '345769', '347076', '230434', '65306', '113794', '65303',\n",
              "        'A/5 2817', 'F.C.C. 13531', '364506', '234360', 'A/S 2816',\n",
              "        'SOTON/O.Q. 3101306', '113792', '323592', '315089', '7553',\n",
              "        '31027', '3460', '350060', '3101298', '239854', 'A/5 3594', '4134',\n",
              "        'A.5. 18509', '65304', 'SOTON/OQ 3101317', 'A/4 45380',\n",
              "        'C.A. 6212', '350035', '315086', '4135', '26360', '111427',\n",
              "        'C 4001', 'SOTON/OQ 3101316', '349209', '226875', '349242',\n",
              "        '349252', 'W./C. 14258', '3101296', '29104', '315084', '364498',\n",
              "        '2908', '693', '244358', '347085', '113807', '345572', '349251',\n",
              "        '218629', 'SOTON/OQ 392082', 'SOTON/O.Q. 392087', 'A/4 48871',\n",
              "        '349205', '350417', 'S.W./PP 752', 'A/4. 20589', '358585',\n",
              "        '243880', 'STON/O 2. 3101286', '237789', '237565', '14973',\n",
              "        'A./5. 3235', 'STON/O 2. 3101273', 'A/5 3902', 'SC/AH 29037',\n",
              "        '248727', '349214', '113796', '364511', '349910', '349246',\n",
              "        '113804', 'SOTON/O.Q. 3101305', '364512', '220845', '31028',\n",
              "        '350029', '54636', '349224', '347743', '112052', '237668',\n",
              "        'STON/O 2. 3101292', '350050', '349231', 'S.O./P.P. 751',\n",
              "        'CA. 2314', '349221', '8475', '349223', '29751', '349210',\n",
              "        'STON/O 2. 3101285', '234686', '312993', 'A/5 3536', '29750',\n",
              "        'C.A. 24580', '244270', '239856', '349912', '342826', '4138',\n",
              "        '6563', '349228', '350036', '113800', '248731', '363592', '350025',\n",
              "        '223596', '113781', '7545', '250647', '347062', '350048', '12233',\n",
              "        '250643', '315094', '236853', 'STON/O2. 3101271', '239855',\n",
              "        '28425', '233639', '349201', '349218', '376566',\n",
              "        'STON/O 2. 3101288', '250648', '29103', '345780', '349204',\n",
              "        '350042', '29108', '363294', 'SOTON/O2 3101272', '347074', '8471',\n",
              "        '345781', '350047', '29105', '347078', 'W./C. 6607',\n",
              "        'SOTON/O.Q. 3101312', '374887', '3101265', '349203', '28213',\n",
              "        '349244', '347089', '347063', '347087', '248723', '3474', '28206',\n",
              "        '364499', 'STON/O2. 3101290', 'C 7075', '315098', '19972',\n",
              "        '347468', '2223', '315097', '392092', 'SOTON/O2 3101287',\n",
              "        'S.O./P.P. 3', '315090', 'C.A. 5547', '347060', '392091', '36928',\n",
              "        '350026', '28134', '233866', '236852', '345777', '349248',\n",
              "        '345765', '349212', '349217', '349257', '7552', 'C.A./SOTON 34068',\n",
              "        'SOTON/OQ 392076', '211536'], dtype=object)}"
            ]
          },
          "metadata": {
            "tags": []
          },
          "execution_count": 49
        }
      ]
    },
    {
      "cell_type": "markdown",
      "metadata": {
        "id": "EpbxKktXLQzZ",
        "colab_type": "text"
      },
      "source": [
        "Titanic journey started from Southampton(S) to Cherbourg(C) and then Queenstown(Q)\n",
        "1. C represented in tickets may represent that journey started from Cherbourg\n",
        "2. Less tickets sold of Queenstown ( we can also see fare comparison of tickets as per embarked,we will explore this next)\n",
        "3. We can probably map the entire tickets with design of ship using cabin and embarked columns but that will require a lot of knwoledge about titanic ship\n",
        "\n",
        "\n",
        "\n"
      ]
    },
    {
      "cell_type": "markdown",
      "metadata": {
        "id": "N5PYh-xF5ACV",
        "colab_type": "text"
      },
      "source": [
        "## Fare"
      ]
    },
    {
      "cell_type": "code",
      "metadata": {
        "id": "3_HKpDXQ5BzN",
        "colab_type": "code",
        "colab": {
          "base_uri": "https://localhost:8080/",
          "height": 67
        },
        "outputId": "e206cea3-0cc8-4142-8600-078759d7ab7f"
      },
      "source": [
        "train[train['Fare']==0]['Survived'].value_counts()\n",
        "# Some people got tickets for free...wohooo! But majority of them could not survive"
      ],
      "execution_count": 50,
      "outputs": [
        {
          "output_type": "execute_result",
          "data": {
            "text/plain": [
              "0    14\n",
              "1     1\n",
              "Name: Survived, dtype: int64"
            ]
          },
          "metadata": {
            "tags": []
          },
          "execution_count": 50
        }
      ]
    },
    {
      "cell_type": "code",
      "metadata": {
        "id": "I6QkpYoFOwjP",
        "colab_type": "code",
        "colab": {
          "base_uri": "https://localhost:8080/",
          "height": 386
        },
        "outputId": "634f0482-54ba-4a14-85da-7e1f6a1b8d7b"
      },
      "source": [
        "sns.catplot(x='Embarked',y='Fare',data=train)"
      ],
      "execution_count": 51,
      "outputs": [
        {
          "output_type": "execute_result",
          "data": {
            "text/plain": [
              "<seaborn.axisgrid.FacetGrid at 0x7f4e16222710>"
            ]
          },
          "metadata": {
            "tags": []
          },
          "execution_count": 51
        },
        {
          "output_type": "display_data",
          "data": {
            "image/png": "[encoded data removed]",
            "text/plain": [
              "<Figure size 360x360 with 1 Axes>"
            ]
          },
          "metadata": {
            "tags": []
          }
        }
      ]
    },
    {
      "cell_type": "markdown",
      "metadata": {
        "id": "AeDOYq_XPIED",
        "colab_type": "text"
      },
      "source": [
        "Fairly similar prices of tickets of S and C and very less fare from Q(last stop of ship). Cherbourg(Paris) seems to be the place where rich people boarded the ship!"
      ]
    },
    {
      "cell_type": "code",
      "metadata": {
        "id": "14QlYTSURsOD",
        "colab_type": "code",
        "colab": {
          "base_uri": "https://localhost:8080/",
          "height": 195
        },
        "outputId": "26263edc-9269-4a44-d10f-ed0e0cf5bcb7"
      },
      "source": [
        "train.head()"
      ],
      "execution_count": 52,
      "outputs": [
        {
          "output_type": "execute_result",
          "data": {
            "text/html": [
              "<div>\n",
              "<style scoped>\n",
              "    .dataframe tbody tr th:only-of-type {\n",
              "        vertical-align: middle;\n",
              "    }\n",
              "\n",
              "    .dataframe tbody tr th {\n",
              "        vertical-align: top;\n",
              "    }\n",
              "\n",
              "    .dataframe thead th {\n",
              "        text-align: right;\n",
              "    }\n",
              "</style>\n",
              "<table border=\"1\" class=\"dataframe\">\n",
              "  <thead>\n",
              "    <tr style=\"text-align: right;\">\n",
              "      <th></th>\n",
              "      <th>PassengerId</th>\n",
              "      <th>Survived</th>\n",
              "      <th>Pclass</th>\n",
              "      <th>Name</th>\n",
              "      <th>Sex</th>\n",
              "      <th>Age</th>\n",
              "      <th>SibSp</th>\n",
              "      <th>Parch</th>\n",
              "      <th>Ticket</th>\n",
              "      <th>Fare</th>\n",
              "      <th>Cabin</th>\n",
              "      <th>Embarked</th>\n",
              "      <th>Title</th>\n",
              "      <th>Family_Size</th>\n",
              "      <th>Superior_Cabins</th>\n",
              "    </tr>\n",
              "  </thead>\n",
              "  <tbody>\n",
              "    <tr>\n",
              "      <th>0</th>\n",
              "      <td>1</td>\n",
              "      <td>0</td>\n",
              "      <td>3</td>\n",
              "      <td>Braund, Mr. Owen Harris</td>\n",
              "      <td>male</td>\n",
              "      <td>22.0</td>\n",
              "      <td>1</td>\n",
              "      <td>0</td>\n",
              "      <td>A/5 21171</td>\n",
              "      <td>7.2500</td>\n",
              "      <td>U</td>\n",
              "      <td>S</td>\n",
              "      <td>Mr</td>\n",
              "      <td>2</td>\n",
              "      <td>0</td>\n",
              "    </tr>\n",
              "    <tr>\n",
              "      <th>1</th>\n",
              "      <td>2</td>\n",
              "      <td>1</td>\n",
              "      <td>1</td>\n",
              "      <td>Cumings, Mrs. John Bradley (Florence Briggs Th...</td>\n",
              "      <td>female</td>\n",
              "      <td>38.0</td>\n",
              "      <td>1</td>\n",
              "      <td>0</td>\n",
              "      <td>PC 17599</td>\n",
              "      <td>71.2833</td>\n",
              "      <td>C</td>\n",
              "      <td>C</td>\n",
              "      <td>Mrs</td>\n",
              "      <td>2</td>\n",
              "      <td>1</td>\n",
              "    </tr>\n",
              "    <tr>\n",
              "      <th>2</th>\n",
              "      <td>3</td>\n",
              "      <td>1</td>\n",
              "      <td>3</td>\n",
              "      <td>Heikkinen, Miss. Laina</td>\n",
              "      <td>female</td>\n",
              "      <td>26.0</td>\n",
              "      <td>0</td>\n",
              "      <td>0</td>\n",
              "      <td>STON/O2. 3101282</td>\n",
              "      <td>7.9250</td>\n",
              "      <td>U</td>\n",
              "      <td>S</td>\n",
              "      <td>Miss</td>\n",
              "      <td>1</td>\n",
              "      <td>0</td>\n",
              "    </tr>\n",
              "    <tr>\n",
              "      <th>3</th>\n",
              "      <td>4</td>\n",
              "      <td>1</td>\n",
              "      <td>1</td>\n",
              "      <td>Futrelle, Mrs. Jacques Heath (Lily May Peel)</td>\n",
              "      <td>female</td>\n",
              "      <td>35.0</td>\n",
              "      <td>1</td>\n",
              "      <td>0</td>\n",
              "      <td>113803</td>\n",
              "      <td>53.1000</td>\n",
              "      <td>C</td>\n",
              "      <td>S</td>\n",
              "      <td>Mrs</td>\n",
              "      <td>2</td>\n",
              "      <td>1</td>\n",
              "    </tr>\n",
              "    <tr>\n",
              "      <th>4</th>\n",
              "      <td>5</td>\n",
              "      <td>0</td>\n",
              "      <td>3</td>\n",
              "      <td>Allen, Mr. William Henry</td>\n",
              "      <td>male</td>\n",
              "      <td>35.0</td>\n",
              "      <td>0</td>\n",
              "      <td>0</td>\n",
              "      <td>373450</td>\n",
              "      <td>8.0500</td>\n",
              "      <td>U</td>\n",
              "      <td>S</td>\n",
              "      <td>Mr</td>\n",
              "      <td>1</td>\n",
              "      <td>0</td>\n",
              "    </tr>\n",
              "  </tbody>\n",
              "</table>\n",
              "</div>"
            ],
            "text/plain": [
              "   PassengerId  Survived  Pclass  ... Title Family_Size  Superior_Cabins\n",
              "0            1         0       3  ...    Mr           2                0\n",
              "1            2         1       1  ...   Mrs           2                1\n",
              "2            3         1       3  ...  Miss           1                0\n",
              "3            4         1       1  ...   Mrs           2                1\n",
              "4            5         0       3  ...    Mr           1                0\n",
              "\n",
              "[5 rows x 15 columns]"
            ]
          },
          "metadata": {
            "tags": []
          },
          "execution_count": 52
        }
      ]
    },
    {
      "cell_type": "markdown",
      "metadata": {
        "id": "D6ygfqJD1Ey-",
        "colab_type": "text"
      },
      "source": [
        "# Handling categorical features\n",
        "\n",
        "1.   Pclass\n",
        "2.   Sex\n",
        "3.   Embarked\n",
        "4.   Title \n",
        "5.   Cabin\n",
        "\n"
      ]
    },
    {
      "cell_type": "code",
      "metadata": {
        "id": "X8qKaqN61Aov",
        "colab_type": "code",
        "colab": {}
      },
      "source": [
        "def convert_categorical(data,cols): # cols=['Sex','Pclass','Embarked','Title','Cabin']\n",
        "  cat1=pd.get_dummies(data[cols[0]],drop_first=True)\n",
        "  cat2=pd.get_dummies(data[cols[1]],drop_first=True)\n",
        "  cat3=pd.get_dummies(data[cols[2]],drop_first=True)\n",
        "  cat4=pd.get_dummies(data[cols[3]],drop_first=True)\n",
        "  cat5=pd.get_dummies(data[cols[4]],drop_first=True)\n",
        "  data=pd.concat([data,cat1,cat2,cat3,cat4,cat5],axis=1)\n",
        "  data.drop(cols,axis=1,inplace=True)\n",
        "\n",
        "  return data"
      ],
      "execution_count": 53,
      "outputs": []
    },
    {
      "cell_type": "code",
      "metadata": {
        "id": "wRiiVbCL4CUH",
        "colab_type": "code",
        "colab": {}
      },
      "source": [
        "train=convert_categorical(cols=['Sex','Pclass','Embarked','Title','Cabin'],data=train)"
      ],
      "execution_count": 54,
      "outputs": []
    },
    {
      "cell_type": "code",
      "metadata": {
        "id": "Czk5gBDQ4ReK",
        "colab_type": "code",
        "colab": {
          "base_uri": "https://localhost:8080/",
          "height": 246
        },
        "outputId": "706e580b-97bd-4cce-f9f9-7eb68515f2c7"
      },
      "source": [
        "train.head()"
      ],
      "execution_count": 55,
      "outputs": [
        {
          "output_type": "execute_result",
          "data": {
            "text/html": [
              "<div>\n",
              "<style scoped>\n",
              "    .dataframe tbody tr th:only-of-type {\n",
              "        vertical-align: middle;\n",
              "    }\n",
              "\n",
              "    .dataframe tbody tr th {\n",
              "        vertical-align: top;\n",
              "    }\n",
              "\n",
              "    .dataframe thead th {\n",
              "        text-align: right;\n",
              "    }\n",
              "</style>\n",
              "<table border=\"1\" class=\"dataframe\">\n",
              "  <thead>\n",
              "    <tr style=\"text-align: right;\">\n",
              "      <th></th>\n",
              "      <th>PassengerId</th>\n",
              "      <th>Survived</th>\n",
              "      <th>Name</th>\n",
              "      <th>Age</th>\n",
              "      <th>SibSp</th>\n",
              "      <th>Parch</th>\n",
              "      <th>Ticket</th>\n",
              "      <th>Fare</th>\n",
              "      <th>Family_Size</th>\n",
              "      <th>Superior_Cabins</th>\n",
              "      <th>male</th>\n",
              "      <th>2</th>\n",
              "      <th>3</th>\n",
              "      <th>Q</th>\n",
              "      <th>S</th>\n",
              "      <th>Miss</th>\n",
              "      <th>Mr</th>\n",
              "      <th>Mrs</th>\n",
              "      <th>Other</th>\n",
              "      <th>B</th>\n",
              "      <th>C</th>\n",
              "      <th>D</th>\n",
              "      <th>E</th>\n",
              "      <th>F</th>\n",
              "      <th>G</th>\n",
              "      <th>T</th>\n",
              "      <th>U</th>\n",
              "    </tr>\n",
              "  </thead>\n",
              "  <tbody>\n",
              "    <tr>\n",
              "      <th>0</th>\n",
              "      <td>1</td>\n",
              "      <td>0</td>\n",
              "      <td>Braund, Mr. Owen Harris</td>\n",
              "      <td>22.0</td>\n",
              "      <td>1</td>\n",
              "      <td>0</td>\n",
              "      <td>A/5 21171</td>\n",
              "      <td>7.2500</td>\n",
              "      <td>2</td>\n",
              "      <td>0</td>\n",
              "      <td>1</td>\n",
              "      <td>0</td>\n",
              "      <td>1</td>\n",
              "      <td>0</td>\n",
              "      <td>1</td>\n",
              "      <td>0</td>\n",
              "      <td>1</td>\n",
              "      <td>0</td>\n",
              "      <td>0</td>\n",
              "      <td>0</td>\n",
              "      <td>0</td>\n",
              "      <td>0</td>\n",
              "      <td>0</td>\n",
              "      <td>0</td>\n",
              "      <td>0</td>\n",
              "      <td>0</td>\n",
              "      <td>1</td>\n",
              "    </tr>\n",
              "    <tr>\n",
              "      <th>1</th>\n",
              "      <td>2</td>\n",
              "      <td>1</td>\n",
              "      <td>Cumings, Mrs. John Bradley (Florence Briggs Th...</td>\n",
              "      <td>38.0</td>\n",
              "      <td>1</td>\n",
              "      <td>0</td>\n",
              "      <td>PC 17599</td>\n",
              "      <td>71.2833</td>\n",
              "      <td>2</td>\n",
              "      <td>1</td>\n",
              "      <td>0</td>\n",
              "      <td>0</td>\n",
              "      <td>0</td>\n",
              "      <td>0</td>\n",
              "      <td>0</td>\n",
              "      <td>0</td>\n",
              "      <td>0</td>\n",
              "      <td>1</td>\n",
              "      <td>0</td>\n",
              "      <td>0</td>\n",
              "      <td>1</td>\n",
              "      <td>0</td>\n",
              "      <td>0</td>\n",
              "      <td>0</td>\n",
              "      <td>0</td>\n",
              "      <td>0</td>\n",
              "      <td>0</td>\n",
              "    </tr>\n",
              "    <tr>\n",
              "      <th>2</th>\n",
              "      <td>3</td>\n",
              "      <td>1</td>\n",
              "      <td>Heikkinen, Miss. Laina</td>\n",
              "      <td>26.0</td>\n",
              "      <td>0</td>\n",
              "      <td>0</td>\n",
              "      <td>STON/O2. 3101282</td>\n",
              "      <td>7.9250</td>\n",
              "      <td>1</td>\n",
              "      <td>0</td>\n",
              "      <td>0</td>\n",
              "      <td>0</td>\n",
              "      <td>1</td>\n",
              "      <td>0</td>\n",
              "      <td>1</td>\n",
              "      <td>1</td>\n",
              "      <td>0</td>\n",
              "      <td>0</td>\n",
              "      <td>0</td>\n",
              "      <td>0</td>\n",
              "      <td>0</td>\n",
              "      <td>0</td>\n",
              "      <td>0</td>\n",
              "      <td>0</td>\n",
              "      <td>0</td>\n",
              "      <td>0</td>\n",
              "      <td>1</td>\n",
              "    </tr>\n",
              "    <tr>\n",
              "      <th>3</th>\n",
              "      <td>4</td>\n",
              "      <td>1</td>\n",
              "      <td>Futrelle, Mrs. Jacques Heath (Lily May Peel)</td>\n",
              "      <td>35.0</td>\n",
              "      <td>1</td>\n",
              "      <td>0</td>\n",
              "      <td>113803</td>\n",
              "      <td>53.1000</td>\n",
              "      <td>2</td>\n",
              "      <td>1</td>\n",
              "      <td>0</td>\n",
              "      <td>0</td>\n",
              "      <td>0</td>\n",
              "      <td>0</td>\n",
              "      <td>1</td>\n",
              "      <td>0</td>\n",
              "      <td>0</td>\n",
              "      <td>1</td>\n",
              "      <td>0</td>\n",
              "      <td>0</td>\n",
              "      <td>1</td>\n",
              "      <td>0</td>\n",
              "      <td>0</td>\n",
              "      <td>0</td>\n",
              "      <td>0</td>\n",
              "      <td>0</td>\n",
              "      <td>0</td>\n",
              "    </tr>\n",
              "    <tr>\n",
              "      <th>4</th>\n",
              "      <td>5</td>\n",
              "      <td>0</td>\n",
              "      <td>Allen, Mr. William Henry</td>\n",
              "      <td>35.0</td>\n",
              "      <td>0</td>\n",
              "      <td>0</td>\n",
              "      <td>373450</td>\n",
              "      <td>8.0500</td>\n",
              "      <td>1</td>\n",
              "      <td>0</td>\n",
              "      <td>1</td>\n",
              "      <td>0</td>\n",
              "      <td>1</td>\n",
              "      <td>0</td>\n",
              "      <td>1</td>\n",
              "      <td>0</td>\n",
              "      <td>1</td>\n",
              "      <td>0</td>\n",
              "      <td>0</td>\n",
              "      <td>0</td>\n",
              "      <td>0</td>\n",
              "      <td>0</td>\n",
              "      <td>0</td>\n",
              "      <td>0</td>\n",
              "      <td>0</td>\n",
              "      <td>0</td>\n",
              "      <td>1</td>\n",
              "    </tr>\n",
              "  </tbody>\n",
              "</table>\n",
              "</div>"
            ],
            "text/plain": [
              "   PassengerId  Survived  ...  T  U\n",
              "0            1         0  ...  0  1\n",
              "1            2         1  ...  0  0\n",
              "2            3         1  ...  0  1\n",
              "3            4         1  ...  0  0\n",
              "4            5         0  ...  0  1\n",
              "\n",
              "[5 rows x 27 columns]"
            ]
          },
          "metadata": {
            "tags": []
          },
          "execution_count": 55
        }
      ]
    },
    {
      "cell_type": "code",
      "metadata": {
        "id": "Fz_G6IHE5YWQ",
        "colab_type": "code",
        "colab": {}
      },
      "source": [
        "test=convert_categorical(cols=['Sex','Pclass','Embarked','Title','Cabin'],data=test)"
      ],
      "execution_count": 56,
      "outputs": []
    },
    {
      "cell_type": "code",
      "metadata": {
        "id": "gvVk6i9y5vnV",
        "colab_type": "code",
        "colab": {
          "base_uri": "https://localhost:8080/",
          "height": 185
        },
        "outputId": "2eb8ec42-59e1-4e5f-9e80-7271fdec59d4"
      },
      "source": [
        "train.columns"
      ],
      "execution_count": 57,
      "outputs": [
        {
          "output_type": "execute_result",
          "data": {
            "text/plain": [
              "Index([    'PassengerId',        'Survived',            'Name',\n",
              "                   'Age',           'SibSp',           'Parch',\n",
              "                'Ticket',            'Fare',     'Family_Size',\n",
              "       'Superior_Cabins',            'male',                 2,\n",
              "                       3,               'Q',               'S',\n",
              "                  'Miss',              'Mr',             'Mrs',\n",
              "                 'Other',               'B',               'C',\n",
              "                     'D',               'E',               'F',\n",
              "                     'G',               'T',               'U'],\n",
              "      dtype='object')"
            ]
          },
          "metadata": {
            "tags": []
          },
          "execution_count": 57
        }
      ]
    },
    {
      "cell_type": "code",
      "metadata": {
        "id": "xZ5XGNH6S5KA",
        "colab_type": "code",
        "colab": {
          "base_uri": "https://localhost:8080/",
          "height": 185
        },
        "outputId": "58fa5dbf-f4e3-4116-9850-50ac75f348f6"
      },
      "source": [
        "test.columns"
      ],
      "execution_count": 58,
      "outputs": [
        {
          "output_type": "execute_result",
          "data": {
            "text/plain": [
              "Index([    'PassengerId',            'Name',             'Age',\n",
              "                 'SibSp',           'Parch',          'Ticket',\n",
              "                  'Fare',     'Family_Size', 'Superior_Cabins',\n",
              "                  'male',                 2,                 3,\n",
              "                     'Q',               'S',            'Miss',\n",
              "                    'Mr',             'Mrs',           'Other',\n",
              "                     'B',               'C',               'D',\n",
              "                     'E',               'F',               'G',\n",
              "                     'U'],\n",
              "      dtype='object')"
            ]
          },
          "metadata": {
            "tags": []
          },
          "execution_count": 58
        }
      ]
    },
    {
      "cell_type": "code",
      "metadata": {
        "id": "aDh468IQTCvc",
        "colab_type": "code",
        "colab": {}
      },
      "source": [
        "# Lets add t binary columns missing in test dataset\n",
        "test['t']=0"
      ],
      "execution_count": 59,
      "outputs": []
    },
    {
      "cell_type": "markdown",
      "metadata": {
        "id": "MbqN0n2Po8fy",
        "colab_type": "text"
      },
      "source": [
        "# Feature selection"
      ]
    },
    {
      "cell_type": "code",
      "metadata": {
        "id": "kxfB4urGdsVl",
        "colab_type": "code",
        "colab": {}
      },
      "source": [
        "X = train.drop(['Name','Ticket','Survived','PassengerId'],axis=1)\n",
        "y = train['Survived']"
      ],
      "execution_count": 60,
      "outputs": []
    },
    {
      "cell_type": "code",
      "metadata": {
        "id": "omFBxS34dtLf",
        "colab_type": "code",
        "colab": {}
      },
      "source": [
        "from sklearn.preprocessing import MinMaxScaler\n",
        "scaler=MinMaxScaler()\n",
        "X=scaler.fit_transform(X)"
      ],
      "execution_count": 61,
      "outputs": []
    },
    {
      "cell_type": "markdown",
      "metadata": {
        "id": "VVGfLop3aCbd",
        "colab_type": "text"
      },
      "source": [
        "## Univariate Selection"
      ]
    },
    {
      "cell_type": "code",
      "metadata": {
        "id": "MR9kuJn8_F54",
        "colab_type": "code",
        "colab": {}
      },
      "source": [
        "from sklearn.feature_selection import SelectKBest,chi2\n",
        "feature_imp=SelectKBest(score_func=chi2, k=10)"
      ],
      "execution_count": 62,
      "outputs": []
    },
    {
      "cell_type": "code",
      "metadata": {
        "id": "8XkZnudYYOig",
        "colab_type": "code",
        "colab": {}
      },
      "source": [
        "imp=feature_imp.fit(X,train['Survived'])"
      ],
      "execution_count": 63,
      "outputs": []
    },
    {
      "cell_type": "code",
      "metadata": {
        "id": "TW9qo_1F6aj_",
        "colab_type": "code",
        "colab": {}
      },
      "source": [
        "f_imp=pd.DataFrame(imp.scores_,columns=['Score'])\n",
        "f_imp['Columns']=train.drop(['Name','Ticket','Survived','PassengerId'],axis=1).columns"
      ],
      "execution_count": 64,
      "outputs": []
    },
    {
      "cell_type": "code",
      "metadata": {
        "id": "Shm6Sb8kZkXp",
        "colab_type": "code",
        "colab": {
          "base_uri": "https://localhost:8080/",
          "height": 728
        },
        "outputId": "a78ff06b-9867-40c2-af83-c9d81e548f1d"
      },
      "source": [
        "f_imp.sort_values('Score',ascending=False)"
      ],
      "execution_count": 65,
      "outputs": [
        {
          "output_type": "execute_result",
          "data": {
            "text/html": [
              "<div>\n",
              "<style scoped>\n",
              "    .dataframe tbody tr th:only-of-type {\n",
              "        vertical-align: middle;\n",
              "    }\n",
              "\n",
              "    .dataframe tbody tr th {\n",
              "        vertical-align: top;\n",
              "    }\n",
              "\n",
              "    .dataframe thead th {\n",
              "        text-align: right;\n",
              "    }\n",
              "</style>\n",
              "<table border=\"1\" class=\"dataframe\">\n",
              "  <thead>\n",
              "    <tr style=\"text-align: right;\">\n",
              "      <th></th>\n",
              "      <th>Score</th>\n",
              "      <th>Columns</th>\n",
              "    </tr>\n",
              "  </thead>\n",
              "  <tbody>\n",
              "    <tr>\n",
              "      <th>12</th>\n",
              "      <td>112.805785</td>\n",
              "      <td>Mr</td>\n",
              "    </tr>\n",
              "    <tr>\n",
              "      <th>6</th>\n",
              "      <td>92.702447</td>\n",
              "      <td>male</td>\n",
              "    </tr>\n",
              "    <tr>\n",
              "      <th>13</th>\n",
              "      <td>88.050392</td>\n",
              "      <td>Mrs</td>\n",
              "    </tr>\n",
              "    <tr>\n",
              "      <th>11</th>\n",
              "      <td>75.855581</td>\n",
              "      <td>Miss</td>\n",
              "    </tr>\n",
              "    <tr>\n",
              "      <th>5</th>\n",
              "      <td>46.184290</td>\n",
              "      <td>Superior_Cabins</td>\n",
              "    </tr>\n",
              "    <tr>\n",
              "      <th>8</th>\n",
              "      <td>41.553071</td>\n",
              "      <td>3</td>\n",
              "    </tr>\n",
              "    <tr>\n",
              "      <th>15</th>\n",
              "      <td>25.875581</td>\n",
              "      <td>B</td>\n",
              "    </tr>\n",
              "    <tr>\n",
              "      <th>22</th>\n",
              "      <td>20.488314</td>\n",
              "      <td>U</td>\n",
              "    </tr>\n",
              "    <tr>\n",
              "      <th>17</th>\n",
              "      <td>19.489646</td>\n",
              "      <td>D</td>\n",
              "    </tr>\n",
              "    <tr>\n",
              "      <th>18</th>\n",
              "      <td>18.140638</td>\n",
              "      <td>E</td>\n",
              "    </tr>\n",
              "    <tr>\n",
              "      <th>16</th>\n",
              "      <td>10.936730</td>\n",
              "      <td>C</td>\n",
              "    </tr>\n",
              "    <tr>\n",
              "      <th>3</th>\n",
              "      <td>8.819172</td>\n",
              "      <td>Fare</td>\n",
              "    </tr>\n",
              "    <tr>\n",
              "      <th>7</th>\n",
              "      <td>6.160767</td>\n",
              "      <td>2</td>\n",
              "    </tr>\n",
              "    <tr>\n",
              "      <th>10</th>\n",
              "      <td>5.489205</td>\n",
              "      <td>S</td>\n",
              "    </tr>\n",
              "    <tr>\n",
              "      <th>19</th>\n",
              "      <td>2.946970</td>\n",
              "      <td>F</td>\n",
              "    </tr>\n",
              "    <tr>\n",
              "      <th>2</th>\n",
              "      <td>1.682917</td>\n",
              "      <td>Parch</td>\n",
              "    </tr>\n",
              "    <tr>\n",
              "      <th>21</th>\n",
              "      <td>0.622951</td>\n",
              "      <td>T</td>\n",
              "    </tr>\n",
              "    <tr>\n",
              "      <th>14</th>\n",
              "      <td>0.419327</td>\n",
              "      <td>Other</td>\n",
              "    </tr>\n",
              "    <tr>\n",
              "      <th>1</th>\n",
              "      <td>0.322733</td>\n",
              "      <td>SibSp</td>\n",
              "    </tr>\n",
              "    <tr>\n",
              "      <th>0</th>\n",
              "      <td>0.268521</td>\n",
              "      <td>Age</td>\n",
              "    </tr>\n",
              "    <tr>\n",
              "      <th>20</th>\n",
              "      <td>0.228214</td>\n",
              "      <td>G</td>\n",
              "    </tr>\n",
              "    <tr>\n",
              "      <th>4</th>\n",
              "      <td>0.070909</td>\n",
              "      <td>Family_Size</td>\n",
              "    </tr>\n",
              "    <tr>\n",
              "      <th>9</th>\n",
              "      <td>0.010847</td>\n",
              "      <td>Q</td>\n",
              "    </tr>\n",
              "  </tbody>\n",
              "</table>\n",
              "</div>"
            ],
            "text/plain": [
              "         Score          Columns\n",
              "12  112.805785               Mr\n",
              "6    92.702447             male\n",
              "13   88.050392              Mrs\n",
              "11   75.855581             Miss\n",
              "5    46.184290  Superior_Cabins\n",
              "8    41.553071                3\n",
              "15   25.875581                B\n",
              "22   20.488314                U\n",
              "17   19.489646                D\n",
              "18   18.140638                E\n",
              "16   10.936730                C\n",
              "3     8.819172             Fare\n",
              "7     6.160767                2\n",
              "10    5.489205                S\n",
              "19    2.946970                F\n",
              "2     1.682917            Parch\n",
              "21    0.622951                T\n",
              "14    0.419327            Other\n",
              "1     0.322733            SibSp\n",
              "0     0.268521              Age\n",
              "20    0.228214                G\n",
              "4     0.070909      Family_Size\n",
              "9     0.010847                Q"
            ]
          },
          "metadata": {
            "tags": []
          },
          "execution_count": 65
        }
      ]
    },
    {
      "cell_type": "markdown",
      "metadata": {
        "id": "2L8XL1INaIzz",
        "colab_type": "text"
      },
      "source": [
        "## Extra-Tress Classifier Selection"
      ]
    },
    {
      "cell_type": "code",
      "metadata": {
        "id": "rbVAT-8YZkZ9",
        "colab_type": "code",
        "colab": {
          "base_uri": "https://localhost:8080/",
          "height": 332
        },
        "outputId": "1e04d477-0f87-4b8f-b2fa-d749375e6c19"
      },
      "source": [
        "from sklearn.ensemble import ExtraTreesClassifier\n",
        "import matplotlib.pyplot as plt\n",
        "model = ExtraTreesClassifier()\n",
        "model.fit(X,y)\n",
        "print(model.feature_importances_) \n",
        "\n",
        "feat_importances = pd.Series(model.feature_importances_, index=train.drop(['Name','Ticket','Survived','PassengerId'],axis=1).columns)\n",
        "feat_importances.nlargest(21).plot(kind='barh')\n",
        "plt.show()"
      ],
      "execution_count": 66,
      "outputs": [
        {
          "output_type": "stream",
          "text": [
            "[0.19633939 0.03400935 0.02096265 0.19444342 0.03858101 0.01578684\n",
            " 0.11692475 0.01418661 0.05094705 0.01086131 0.02262691 0.04071963\n",
            " 0.12975255 0.03331742 0.01060601 0.00732551 0.00511794 0.00551646\n",
            " 0.00993253 0.00236384 0.00176505 0.00046591 0.03744787]\n"
          ],
          "name": "stdout"
        },
        {
          "output_type": "display_data",
          "data": {
            "image/png": "[encoded data removed]",
            "text/plain": [
              "<Figure size 432x288 with 1 Axes>"
            ]
          },
          "metadata": {
            "tags": []
          }
        }
      ]
    },
    {
      "cell_type": "markdown",
      "metadata": {
        "id": "jXDlBQpxbNSL",
        "colab_type": "text"
      },
      "source": [
        "## Correlation Matrix Method"
      ]
    },
    {
      "cell_type": "code",
      "metadata": {
        "id": "Is0Dhl8mZkcR",
        "colab_type": "code",
        "colab": {
          "base_uri": "https://localhost:8080/",
          "height": 787
        },
        "outputId": "a484497a-4055-453e-972a-d5261dc7d438"
      },
      "source": [
        "pd.DataFrame(train.corr()['Survived']).sort_values('Survived',ascending=False)"
      ],
      "execution_count": 67,
      "outputs": [
        {
          "output_type": "execute_result",
          "data": {
            "text/html": [
              "<div>\n",
              "<style scoped>\n",
              "    .dataframe tbody tr th:only-of-type {\n",
              "        vertical-align: middle;\n",
              "    }\n",
              "\n",
              "    .dataframe tbody tr th {\n",
              "        vertical-align: top;\n",
              "    }\n",
              "\n",
              "    .dataframe thead th {\n",
              "        text-align: right;\n",
              "    }\n",
              "</style>\n",
              "<table border=\"1\" class=\"dataframe\">\n",
              "  <thead>\n",
              "    <tr style=\"text-align: right;\">\n",
              "      <th></th>\n",
              "      <th>Survived</th>\n",
              "    </tr>\n",
              "  </thead>\n",
              "  <tbody>\n",
              "    <tr>\n",
              "      <th>Survived</th>\n",
              "      <td>1.000000</td>\n",
              "    </tr>\n",
              "    <tr>\n",
              "      <th>Mrs</th>\n",
              "      <td>0.339040</td>\n",
              "    </tr>\n",
              "    <tr>\n",
              "      <th>Miss</th>\n",
              "      <td>0.327093</td>\n",
              "    </tr>\n",
              "    <tr>\n",
              "      <th>Superior_Cabins</th>\n",
              "      <td>0.257598</td>\n",
              "    </tr>\n",
              "    <tr>\n",
              "      <th>Fare</th>\n",
              "      <td>0.257307</td>\n",
              "    </tr>\n",
              "    <tr>\n",
              "      <th>B</th>\n",
              "      <td>0.175095</td>\n",
              "    </tr>\n",
              "    <tr>\n",
              "      <th>D</th>\n",
              "      <td>0.150716</td>\n",
              "    </tr>\n",
              "    <tr>\n",
              "      <th>E</th>\n",
              "      <td>0.145321</td>\n",
              "    </tr>\n",
              "    <tr>\n",
              "      <th>C</th>\n",
              "      <td>0.114652</td>\n",
              "    </tr>\n",
              "    <tr>\n",
              "      <th>2</th>\n",
              "      <td>0.093349</td>\n",
              "    </tr>\n",
              "    <tr>\n",
              "      <th>Parch</th>\n",
              "      <td>0.081629</td>\n",
              "    </tr>\n",
              "    <tr>\n",
              "      <th>F</th>\n",
              "      <td>0.057935</td>\n",
              "    </tr>\n",
              "    <tr>\n",
              "      <th>Other</th>\n",
              "      <td>0.022030</td>\n",
              "    </tr>\n",
              "    <tr>\n",
              "      <th>Family_Size</th>\n",
              "      <td>0.016639</td>\n",
              "    </tr>\n",
              "    <tr>\n",
              "      <th>G</th>\n",
              "      <td>0.016040</td>\n",
              "    </tr>\n",
              "    <tr>\n",
              "      <th>Q</th>\n",
              "      <td>0.003650</td>\n",
              "    </tr>\n",
              "    <tr>\n",
              "      <th>PassengerId</th>\n",
              "      <td>-0.005007</td>\n",
              "    </tr>\n",
              "    <tr>\n",
              "      <th>T</th>\n",
              "      <td>-0.026456</td>\n",
              "    </tr>\n",
              "    <tr>\n",
              "      <th>SibSp</th>\n",
              "      <td>-0.035322</td>\n",
              "    </tr>\n",
              "    <tr>\n",
              "      <th>Age</th>\n",
              "      <td>-0.062633</td>\n",
              "    </tr>\n",
              "    <tr>\n",
              "      <th>S</th>\n",
              "      <td>-0.149683</td>\n",
              "    </tr>\n",
              "    <tr>\n",
              "      <th>U</th>\n",
              "      <td>-0.316912</td>\n",
              "    </tr>\n",
              "    <tr>\n",
              "      <th>3</th>\n",
              "      <td>-0.322308</td>\n",
              "    </tr>\n",
              "    <tr>\n",
              "      <th>male</th>\n",
              "      <td>-0.543351</td>\n",
              "    </tr>\n",
              "    <tr>\n",
              "      <th>Mr</th>\n",
              "      <td>-0.549199</td>\n",
              "    </tr>\n",
              "  </tbody>\n",
              "</table>\n",
              "</div>"
            ],
            "text/plain": [
              "                 Survived\n",
              "Survived         1.000000\n",
              "Mrs              0.339040\n",
              "Miss             0.327093\n",
              "Superior_Cabins  0.257598\n",
              "Fare             0.257307\n",
              "B                0.175095\n",
              "D                0.150716\n",
              "E                0.145321\n",
              "C                0.114652\n",
              "2                0.093349\n",
              "Parch            0.081629\n",
              "F                0.057935\n",
              "Other            0.022030\n",
              "Family_Size      0.016639\n",
              "G                0.016040\n",
              "Q                0.003650\n",
              "PassengerId     -0.005007\n",
              "T               -0.026456\n",
              "SibSp           -0.035322\n",
              "Age             -0.062633\n",
              "S               -0.149683\n",
              "U               -0.316912\n",
              "3               -0.322308\n",
              "male            -0.543351\n",
              "Mr              -0.549199"
            ]
          },
          "metadata": {
            "tags": []
          },
          "execution_count": 67
        }
      ]
    },
    {
      "cell_type": "markdown",
      "metadata": {
        "id": "VhQ2mxMKc3sw",
        "colab_type": "text"
      },
      "source": [
        "Best Columns:-\n",
        "1. Fare\n",
        "2. Age \n",
        "3. Mr,Miss,Mrs\n",
        "4. Age \n",
        "5. Pclass\n",
        "6. Superior Cabins \n",
        "\n",
        "\n"
      ]
    },
    {
      "cell_type": "code",
      "metadata": {
        "id": "O2CdD_9k7wnM",
        "colab_type": "code",
        "colab": {}
      },
      "source": [
        "train.to_csv('train_clean.csv',index=False)\n",
        "test.to_csv('test_clean.csv',index=False)"
      ],
      "execution_count": 68,
      "outputs": []
    },
    {
      "cell_type": "code",
      "metadata": {
        "id": "t-UhJ7fEfEka",
        "colab_type": "code",
        "colab": {}
      },
      "source": [
        ""
      ],
      "execution_count": 68,
      "outputs": []
    }
  ]
}